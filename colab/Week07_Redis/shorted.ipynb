{
  "cells": [
    {
      "cell_type": "markdown",
      "metadata": {
        "id": "2br36kl0TfYR"
      },
      "source": [
        "# Redis Assignment\n",
        "In this assignment, you will access a redis server and user redis commands to find out answers.  The redis server is at *lab.aimet.tech*.  You also have to authenticate as username 'hw' with password 'hw'.  \n",
        "\n",
        "The populated data in the redis database is similar to the example \"simple social network\" in the class.  Answer all questions in mycourseville assignment.\n",
        "\n",
        "Note that this user can only use \"read\" commands e.g. \"get\", \"lrange\", \"llen\", \"scan\", etc."
      ]
    },
    {
      "cell_type": "code",
      "execution_count": null,
      "metadata": {
        "colab": {
          "base_uri": "https://localhost:8080/"
        },
        "id": "wl5xV6TITfYS",
        "outputId": "bce7f4dc-aa95-44e7-c1d3-6236f3eb74d8"
      },
      "outputs": [
        {
          "name": "stdout",
          "output_type": "stream",
          "text": [
            "Collecting redis\n",
            "  Downloading redis-5.2.1-py3-none-any.whl.metadata (9.1 kB)\n",
            "Downloading redis-5.2.1-py3-none-any.whl (261 kB)\n",
            "\u001b[2K   \u001b[90m━━━━━━━━━━━━━━━━━━━━━━━━━━━━━━━━━━━━━━━━\u001b[0m \u001b[32m261.5/261.5 kB\u001b[0m \u001b[31m2.3 MB/s\u001b[0m eta \u001b[36m0:00:00\u001b[0m\n",
            "\u001b[?25hInstalling collected packages: redis\n",
            "Successfully installed redis-5.2.1\n"
          ]
        }
      ],
      "source": [
        "# we will have to install redis in colab\n",
        "import sys\n",
        "IN_COLAB = 'google.colab' in sys.modules\n",
        "if IN_COLAB:\n",
        "  !pip install redis"
      ]
    },
    {
      "cell_type": "code",
      "execution_count": null,
      "metadata": {
        "id": "ZdH7jcpsTfYT"
      },
      "outputs": [],
      "source": [
        "import redis"
      ]
    },
    {
      "cell_type": "code",
      "execution_count": null,
      "metadata": {
        "colab": {
          "base_uri": "https://localhost:8080/"
        },
        "id": "K2XFtGCHTfYT",
        "outputId": "72a4553f-b54a-40b8-ecd4-05fd2878c8c5"
      },
      "outputs": [
        {
          "data": {
            "text/plain": [
              "True"
            ]
          },
          "execution_count": 3,
          "metadata": {},
          "output_type": "execute_result"
        }
      ],
      "source": [
        "rd = redis.Redis(host=\"lab.aimet.tech\", charset=\"utf-8\", decode_responses=True)\n",
        "rd.auth(username=\"hw\", password=\"hw\")"
      ]
    },
    {
      "cell_type": "code",
      "execution_count": null,
      "metadata": {
        "colab": {
          "base_uri": "https://localhost:8080/",
          "height": 35
        },
        "id": "cuFV_GWBTfYU",
        "outputId": "b8a0a1b9-2ba6-440e-df88-b4f00f991972"
      },
      "outputs": [],
      "source": [
        "# What is the username of user id \"600\"\n",
        "# 'cautiousCrackers9'\n",
        "rd.get(\"user:600:name\")"
      ]
    },
    {
      "cell_type": "code",
      "execution_count": null,
      "metadata": {
        "colab": {
          "base_uri": "https://localhost:8080/",
          "height": 35
        },
        "id": "3vbFX7fhTfYU",
        "outputId": "cb8b3b85-ca1e-424f-afd2-59cab6ff2300"
      },
      "outputs": [],
      "source": [
        "#  What is the id of username \"excitedPie4\"\n",
        "# '567'\n",
        "rd.get(\"username:excitedPie4\")"
      ]
    },
    {
      "cell_type": "code",
      "execution_count": null,
      "metadata": {
        "colab": {
          "base_uri": "https://localhost:8080/"
        },
        "id": "2QAxYPVNTfYU",
        "outputId": "471f271a-8dc0-4e7b-92a5-5021e515863e"
      },
      "outputs": [],
      "source": [
        "# How many users that \"excitedPie4\" follows\n",
        "# 9\n",
        "rd.scard(\"user:567:follows\")"
      ]
    },
    {
      "cell_type": "code",
      "execution_count": null,
      "metadata": {
        "colab": {
          "base_uri": "https://localhost:8080/"
        },
        "id": "cFVmTwtVTfYU",
        "outputId": "b093baab-15c5-41b2-e3ce-e68978288e9d"
      },
      "outputs": [],
      "source": [
        "# How many users are there in the database\n",
        "# 200\n",
        "len(rd.keys(\"user:*:name\"))"
      ]
    },
    {
      "cell_type": "markdown",
      "metadata": {
        "id": "CZnLmW5iTfYU"
      },
      "source": [
        "#### What is the average number of follows per user?"
      ]
    },
    {
      "cell_type": "code",
      "execution_count": null,
      "metadata": {
        "colab": {
          "base_uri": "https://localhost:8080/"
        },
        "id": "g5na3x8VTfYU",
        "outputId": "5e6f9c62-761c-48c1-f7b5-b4e1f1d12021"
      },
      "outputs": [
        {
          "name": "stdout",
          "output_type": "stream",
          "text": [
            "8.605\n"
          ]
        }
      ],
      "source": [
        "user_keys = rd.keys(pattern=\"user:*:name\")\n",
        "total_follows = 0\n",
        "total_users = 0\n",
        "\n",
        "for key in user_keys:\n",
        "    user_id = key.split(\":\")[1]\n",
        "    total_follows += rd.scard(f\"user:{user_id}:follows\")\n",
        "    total_users += 1\n",
        "\n",
        "print(total_follows / total_users)"
      ]
    },
    {
      "cell_type": "markdown",
      "metadata": {
        "id": "jkD2c_3ATfYU"
      },
      "source": [
        "#### How many users follows between 5-10 users?"
      ]
    },
    {
      "cell_type": "code",
      "execution_count": null,
      "metadata": {
        "colab": {
          "base_uri": "https://localhost:8080/"
        },
        "id": "IJDnlVIYTfYX",
        "outputId": "27d5f88f-269d-4f3e-bdae-9e8e5bd1c528"
      },
      "outputs": [
        {
          "name": "stdout",
          "output_type": "stream",
          "text": [
            "60\n"
          ]
        }
      ],
      "source": [
        "user_keys = rd.keys(pattern=\"user:*:name\")\n",
        "ans = 0\n",
        "\n",
        "for key in user_keys:\n",
        "    user_id = key.split(\":\")[1]\n",
        "    followers = rd.scard(f\"user:{user_id}:follows\")\n",
        "    if followers >= 5 and followers <= 10:\n",
        "        ans += 1\n",
        "\n",
        "print(ans)"
      ]
    },
    {
      "cell_type": "markdown",
      "metadata": {
        "id": "QzeewZIyTfYY"
      },
      "source": [
        "#### Which account has the most followers?"
      ]
    },
    {
      "cell_type": "code",
      "execution_count": null,
      "metadata": {
        "colab": {
          "base_uri": "https://localhost:8080/"
        },
        "id": "cBFw8I4_TfYY",
        "outputId": "2beb144b-19ed-45af-a38a-5892615e562f"
      },
      "outputs": [
        {
          "name": "stdout",
          "output_type": "stream",
          "text": [
            "630\n"
          ]
        }
      ],
      "source": [
        "max_followers = 0\n",
        "account = None\n",
        "\n",
        "user_keys = rd.keys(pattern=\"user:*:name\")\n",
        "for key in user_keys:\n",
        "    user_id = key.split(\":\")[1]\n",
        "    followers = rd.scard(f\"user:{user_id}:followed_by\")\n",
        "    if followers > max_followers:\n",
        "        max_followers = followers\n",
        "        account = user_id\n",
        "\n",
        "print(account)"
      ]
    }
  ],
  "metadata": {
    "colab": {
      "provenance": []
    },
    "kernelspec": {
      "display_name": "Python 3 (ipykernel)",
      "language": "python",
      "name": "python3"
    },
    "language_info": {
      "codemirror_mode": {
        "name": "ipython",
        "version": 3
      },
      "file_extension": ".py",
      "mimetype": "text/x-python",
      "name": "python",
      "nbconvert_exporter": "python",
      "pygments_lexer": "ipython3",
      "version": "3.11.5"
    },
    "toc": {
      "base_numbering": 1,
      "nav_menu": {},
      "number_sections": true,
      "sideBar": true,
      "skip_h1_title": false,
      "title_cell": "Table of Contents",
      "title_sidebar": "Contents",
      "toc_cell": false,
      "toc_position": {},
      "toc_section_display": true,
      "toc_window_display": false
    },
    "varInspector": {
      "cols": {
        "lenName": 16,
        "lenType": 16,
        "lenVar": 40
      },
      "kernels_config": {
        "python": {
          "delete_cmd_postfix": "",
          "delete_cmd_prefix": "del ",
          "library": "var_list.py",
          "varRefreshCmd": "print(var_dic_list())"
        },
        "r": {
          "delete_cmd_postfix": ") ",
          "delete_cmd_prefix": "rm(",
          "library": "var_list.r",
          "varRefreshCmd": "cat(var_dic_list()) "
        }
      },
      "types_to_exclude": [
        "module",
        "function",
        "builtin_function_or_method",
        "instance",
        "_Feature"
      ],
      "window_display": false
    }
  },
  "nbformat": 4,
  "nbformat_minor": 0
}
