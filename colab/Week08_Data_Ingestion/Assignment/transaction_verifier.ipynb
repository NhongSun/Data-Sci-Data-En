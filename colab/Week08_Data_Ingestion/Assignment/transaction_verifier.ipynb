{
  "cells": [
    {
      "cell_type": "code",
      "source": [
        "!pip install kafka-python\n",
        "!pip install avro"
      ],
      "metadata": {
        "colab": {
          "base_uri": "https://localhost:8080/"
        },
        "id": "KRdFEYmSG7mX",
        "outputId": "ed9733ea-2584-48cb-a5ae-65d33011f6ab"
      },
      "id": "KRdFEYmSG7mX",
      "execution_count": 4,
      "outputs": [
        {
          "output_type": "stream",
          "name": "stdout",
          "text": [
            "Requirement already satisfied: kafka-python in /usr/local/lib/python3.11/dist-packages (2.1.5)\n",
            "Collecting avro\n",
            "  Downloading avro-1.12.0-py2.py3-none-any.whl.metadata (1.7 kB)\n",
            "Downloading avro-1.12.0-py2.py3-none-any.whl (124 kB)\n",
            "\u001b[2K   \u001b[90m━━━━━━━━━━━━━━━━━━━━━━━━━━━━━━━━━━━━━━━━\u001b[0m \u001b[32m124.2/124.2 kB\u001b[0m \u001b[31m3.1 MB/s\u001b[0m eta \u001b[36m0:00:00\u001b[0m\n",
            "\u001b[?25hInstalling collected packages: avro\n",
            "Successfully installed avro-1.12.0\n"
          ]
        }
      ]
    },
    {
      "cell_type": "code",
      "execution_count": 37,
      "id": "3d144bf2",
      "metadata": {
        "id": "3d144bf2"
      },
      "outputs": [],
      "source": [
        "# import required libraries\n",
        "from kafka import KafkaConsumer, KafkaProducer\n",
        "import avro.schema\n",
        "import avro.io\n",
        "import io\n",
        "import hashlib, json"
      ]
    },
    {
      "cell_type": "code",
      "execution_count": 6,
      "id": "6234ffde",
      "metadata": {
        "id": "6234ffde"
      },
      "outputs": [],
      "source": [
        "def serialize(schema, obj):\n",
        "    bytes_writer = io.BytesIO()\n",
        "    encoder = avro.io.BinaryEncoder(bytes_writer)\n",
        "    writer = avro.io.DatumWriter(schema)\n",
        "    writer.write(obj, encoder)\n",
        "    return bytes_writer.getvalue()"
      ]
    },
    {
      "cell_type": "code",
      "execution_count": 7,
      "id": "5e1434bb",
      "metadata": {
        "id": "5e1434bb"
      },
      "outputs": [],
      "source": [
        "def deserialize(schema, raw_bytes):\n",
        "    bytes_reader = io.BytesIO(raw_bytes)\n",
        "    decoder = avro.io.BinaryDecoder(bytes_reader)\n",
        "    reader = avro.io.DatumReader(schema)\n",
        "    return reader.read(decoder)"
      ]
    },
    {
      "cell_type": "code",
      "execution_count": 10,
      "id": "0e92e3e9",
      "metadata": {
        "id": "0e92e3e9"
      },
      "outputs": [],
      "source": [
        "schema_file = 'transaction.avsc'\n",
        "txSchema = avro.schema.parse(open(schema_file).read())\n",
        "schema_file = 'submit.avsc'\n",
        "submitSchema = avro.schema.parse(open(schema_file).read())\n",
        "schema_file = 'result.avsc'\n",
        "resultSchema = avro.schema.parse(open(schema_file).read())"
      ]
    },
    {
      "cell_type": "code",
      "execution_count": 11,
      "id": "bcb5dc21",
      "metadata": {
        "id": "bcb5dc21"
      },
      "outputs": [],
      "source": [
        "# Connect to kafka broker running in your local host (docker). Change this to your kafka broker if needed\n",
        "kafka_broker = 'lab.aimet.tech:9092'"
      ]
    },
    {
      "cell_type": "code",
      "execution_count": 12,
      "id": "0e05b4b0",
      "metadata": {
        "id": "0e05b4b0"
      },
      "outputs": [],
      "source": [
        "producer = KafkaProducer(bootstrap_servers=[kafka_broker])"
      ]
    },
    {
      "cell_type": "code",
      "execution_count": 13,
      "id": "4a2555a3",
      "metadata": {
        "colab": {
          "base_uri": "https://localhost:8080/"
        },
        "id": "4a2555a3",
        "outputId": "9285d387-d280-44c4-a73a-9223a365f4a1"
      },
      "outputs": [
        {
          "output_type": "stream",
          "name": "stderr",
          "text": [
            "WARNING:kafka.coordinator.consumer:group_id is None: disabling auto-commit.\n",
            "WARNING:kafka.coordinator.consumer:group_id is None: disabling auto-commit.\n"
          ]
        }
      ],
      "source": [
        "txConsumer = KafkaConsumer(\n",
        "    'transaction',\n",
        "     bootstrap_servers=[kafka_broker],\n",
        "     enable_auto_commit=True,\n",
        "     value_deserializer=lambda x: deserialize(txSchema, x))\n",
        "\n",
        "resultConsumer = KafkaConsumer(\n",
        "    'result',\n",
        "     bootstrap_servers=[kafka_broker],\n",
        "     enable_auto_commit=True,\n",
        "     value_deserializer=lambda x: deserialize(resultSchema, x))"
      ]
    },
    {
      "cell_type": "code",
      "execution_count": 14,
      "id": "fe697a88",
      "metadata": {
        "id": "fe697a88"
      },
      "outputs": [],
      "source": [
        "def gen_signature(txid, payer, payee, amount, token):\n",
        "    o = {'txid': txid, 'payer': payer, 'payee': payee, 'amount': amount, 'token': token}\n",
        "    return hashlib.md5(json.dumps(o, sort_keys=True).encode('utf-8')).hexdigest()"
      ]
    },
    {
      "cell_type": "code",
      "source": [
        "VID = 'V859524'\n",
        "TOKEN = 'aff6d129a66606c853f5bbfa74a3f796'"
      ],
      "metadata": {
        "id": "wdi67sNILL2u"
      },
      "id": "wdi67sNILL2u",
      "execution_count": 26,
      "outputs": []
    },
    {
      "cell_type": "code",
      "execution_count": 54,
      "id": "b9915bcc",
      "metadata": {
        "colab": {
          "base_uri": "https://localhost:8080/"
        },
        "id": "b9915bcc",
        "outputId": "b848b43d-24ea-4aac-af71-b50ba2837cc2"
      },
      "outputs": [
        {
          "output_type": "stream",
          "name": "stdout",
          "text": [
            "message = {'txid': 'TX05014', 'payer': 'A51275', 'payee': 'A66378', 'amount': 1479}\n",
            "signature = 21812b0db0878035ba7316fed7ffc435\n",
            "submit = {'vid': 'V859524', 'txid': 'TX05014', 'signature': '21812b0db0878035ba7316fed7ffc435'}\n",
            "=================== result ===================\n",
            "matched\n",
            "timestamp : 1743913057\n",
            "vid : V859524\n",
            "txid : TX05014\n",
            "checksum : e020a7af84bd56b2fa5070191f28d965\n",
            "code : 200\n",
            "message : Confirm\n",
            "==============================================\n"
          ]
        }
      ],
      "source": [
        "def verify():\n",
        "    # get message\n",
        "    msg = next(txConsumer)\n",
        "    print(f\"message = {msg.value}\")\n",
        "\n",
        "    # gen signature\n",
        "    signature = gen_signature(\n",
        "        msg.value[\"txid\"],\n",
        "        msg.value[\"payer\"],\n",
        "        msg.value[\"payee\"],\n",
        "        msg.value[\"amount\"],\n",
        "        TOKEN,\n",
        "    )\n",
        "    print(f\"signature = {signature}\")\n",
        "\n",
        "    # send submit\n",
        "    submit = {\"vid\": VID, \"txid\": msg.value[\"txid\"], \"signature\": signature}\n",
        "    print(f\"submit = {submit}\")\n",
        "\n",
        "    data = serialize(submitSchema, submit)\n",
        "\n",
        "    producer.send(\"submit\", data)\n",
        "\n",
        "    # get result\n",
        "    for result_msg in resultConsumer:\n",
        "        print(\"=================== result ===================\")\n",
        "\n",
        "        if (\n",
        "            result_msg.value[\"txid\"] == msg.value[\"txid\"]\n",
        "            and result_msg.value[\"vid\"] == VID\n",
        "        ):\n",
        "            print(\"matched\")\n",
        "            for k, v in result_msg.value.items():\n",
        "                print(f\"{k} : {v}\")\n",
        "            print(\"==============================================\")\n",
        "            break\n",
        "        else:\n",
        "            print(\"not match\")\n",
        "\n",
        "\n",
        "verify()"
      ]
    }
  ],
  "metadata": {
    "kernelspec": {
      "display_name": "Python 3 (ipykernel)",
      "language": "python",
      "name": "python3"
    },
    "language_info": {
      "codemirror_mode": {
        "name": "ipython",
        "version": 3
      },
      "file_extension": ".py",
      "mimetype": "text/x-python",
      "name": "python",
      "nbconvert_exporter": "python",
      "pygments_lexer": "ipython3",
      "version": "3.11.5"
    },
    "colab": {
      "provenance": []
    }
  },
  "nbformat": 4,
  "nbformat_minor": 5
}