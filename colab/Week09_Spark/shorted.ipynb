{
  "cells": [
    {
      "cell_type": "markdown",
      "metadata": {
        "id": "M_RyuhhYb0YJ"
      },
      "source": [
        "# Spark Preparation\n",
        "We check if we are in Google Colab.  If this is the case, install all necessary packages.\n",
        "\n",
        "To run spark in Colab, we need to first install all the dependencies in Colab environment i.e. Apache Spark 3.3.2 with hadoop 3.3, Java 8 and Findspark to locate the spark in the system. The tools installation can be carried out inside the Jupyter Notebook of the Colab.\n",
        "Learn more from [A Must-Read Guide on How to Work with PySpark on Google Colab for Data Scientists!](https://www.analyticsvidhya.com/blog/2020/11/a-must-read-guide-on-how-to-work-with-pyspark-on-google-colab-for-data-scientists/)"
      ]
    },
    {
      "cell_type": "code",
      "execution_count": 3,
      "metadata": {
        "colab": {
          "base_uri": "https://localhost:8080/"
        },
        "id": "kBDv5m5XcfZ1",
        "outputId": "d92ede52-5d33-4d3d-e0c0-7e309f7041c2"
      },
      "outputs": [
        {
          "name": "stdout",
          "output_type": "stream",
          "text": [
            "Requirement already satisfied: pyspark in /usr/local/lib/python3.11/dist-packages (3.3.2)\n",
            "Requirement already satisfied: py4j==0.10.9.5 in /usr/local/lib/python3.11/dist-packages (from pyspark) (0.10.9.5)\n"
          ]
        }
      ],
      "source": [
        "!pip install pyspark"
      ]
    },
    {
      "cell_type": "code",
      "execution_count": 4,
      "metadata": {
        "id": "xf6BdXcTb0YL"
      },
      "outputs": [],
      "source": [
        "try:\n",
        "    import google.colab\n",
        "\n",
        "    IN_COLAB = True\n",
        "except:\n",
        "    IN_COLAB = False"
      ]
    },
    {
      "cell_type": "code",
      "execution_count": 5,
      "metadata": {
        "id": "zdKmcNSrb0YM"
      },
      "outputs": [],
      "source": [
        "if IN_COLAB:\n",
        "    !apt-get install openjdk-8-jdk-headless -qq > /dev/null\n",
        "    !wget -q https://archive.apache.org/dist/spark/spark-3.3.2/spark-3.3.2-bin-hadoop3.tgz\n",
        "    !tar xf spark-3.3.2-bin-hadoop3.tgz\n",
        "    !mv spark-3.3.2-bin-hadoop3 spark\n",
        "    !pip install -q findspark\n",
        "    import os\n",
        "    os.environ[\"JAVA_HOME\"] = \"/usr/lib/jvm/java-8-openjdk-amd64\"\n",
        "    os.environ[\"SPARK_HOME\"] = \"/content/spark\""
      ]
    },
    {
      "cell_type": "markdown",
      "metadata": {
        "id": "Qyetw9X2b0YM"
      },
      "source": [
        "# Start a Local Cluster"
      ]
    },
    {
      "cell_type": "code",
      "execution_count": 6,
      "metadata": {
        "id": "5i7ugUKhb0YM"
      },
      "outputs": [],
      "source": [
        "import findspark\n",
        "\n",
        "findspark.init()\n",
        "\n",
        "import pyspark\n",
        "from pyspark.sql import SparkSession, SQLContext\n",
        "from pyspark.sql.functions import *\n",
        "\n",
        "spark = SparkSession.builder.master(\"local[*]\").appName(\"pyspark_colab\").getOrCreate()"
      ]
    },
    {
      "cell_type": "markdown",
      "metadata": {
        "id": "7zFo-gGOb0YM"
      },
      "source": [
        "# Spark Assignment\n",
        "\n",
        "Based on the movie review dataset in 'netflix-rotten-tomatoes-metacritic-imdb.csv', answer the below questions.\n",
        "\n",
        "**Note:** do not clean or remove missing data"
      ]
    },
    {
      "cell_type": "code",
      "execution_count": 8,
      "metadata": {
        "id": "Y3p0X7LHb0YM"
      },
      "outputs": [],
      "source": [
        "path = \"netflix-rotten-tomatoes-metacritic-imdb.csv\"\n",
        "df = spark.read.csv(path, header=True, inferSchema=True)\n",
        "df.createOrReplaceTempView(\"netflix\")"
      ]
    },
    {
      "cell_type": "code",
      "execution_count": 9,
      "metadata": {
        "colab": {
          "base_uri": "https://localhost:8080/"
        },
        "id": "Noz5krKcvSf6",
        "outputId": "d15f4d7f-ea38-4edb-cd42-26204f8391a0"
      },
      "outputs": [
        {
          "name": "stdout",
          "output_type": "stream",
          "text": [
            "root\n",
            " |-- Title: string (nullable = true)\n",
            " |-- Genre: string (nullable = true)\n",
            " |-- Tags: string (nullable = true)\n",
            " |-- Languages: string (nullable = true)\n",
            " |-- Series or Movie: string (nullable = true)\n",
            " |-- Hidden Gem Score: double (nullable = true)\n",
            " |-- Country Availability: string (nullable = true)\n",
            " |-- Runtime: string (nullable = true)\n",
            " |-- Director: string (nullable = true)\n",
            " |-- Writer: string (nullable = true)\n",
            " |-- Actors: string (nullable = true)\n",
            " |-- View Rating: string (nullable = true)\n",
            " |-- IMDb Score: string (nullable = true)\n",
            " |-- Rotten Tomatoes Score: string (nullable = true)\n",
            " |-- Metacritic Score: string (nullable = true)\n",
            " |-- Awards Received: double (nullable = true)\n",
            " |-- Awards Nominated For: double (nullable = true)\n",
            " |-- Boxoffice: string (nullable = true)\n",
            " |-- Release Date: string (nullable = true)\n",
            " |-- Netflix Release Date: string (nullable = true)\n",
            " |-- Production House: string (nullable = true)\n",
            " |-- Netflix Link: string (nullable = true)\n",
            " |-- IMDb Link: string (nullable = true)\n",
            " |-- Summary: string (nullable = true)\n",
            " |-- IMDb Votes: string (nullable = true)\n",
            " |-- Image: string (nullable = true)\n",
            " |-- Poster: string (nullable = true)\n",
            " |-- TMDb Trailer: string (nullable = true)\n",
            " |-- Trailer Site: string (nullable = true)\n",
            "\n"
          ]
        }
      ],
      "source": [
        "df.printSchema()"
      ]
    },
    {
      "cell_type": "markdown",
      "metadata": {
        "id": "zPodbbABb0YN"
      },
      "source": [
        "#### What is the maximum and average of the overall hidden gem score?"
      ]
    },
    {
      "cell_type": "code",
      "execution_count": null,
      "metadata": {
        "colab": {
          "base_uri": "https://localhost:8080/"
        },
        "id": "CBfwlZ8rb0YN",
        "outputId": "8a47243e-2f30-4202-9205-f4e9646d80b7"
      },
      "outputs": [],
      "source": [
        "df.select(max(\"Hidden Gem Score\"), avg(\"Hidden Gem Score\")).show()"
      ]
    },
    {
      "cell_type": "code",
      "execution_count": 11,
      "metadata": {
        "colab": {
          "base_uri": "https://localhost:8080/"
        },
        "id": "UsD8PWhM0ukF",
        "outputId": "5c2c4a41-9b7b-470a-9c6a-efde6f6e50df"
      },
      "outputs": [
        {
          "name": "stdout",
          "output_type": "stream",
          "text": [
            "+---------------------+---------------------+\n",
            "|max(Hidden Gem Score)|avg(Hidden Gem Score)|\n",
            "+---------------------+---------------------+\n",
            "|                  9.8|    5.937551386501234|\n",
            "+---------------------+---------------------+\n",
            "\n"
          ]
        }
      ],
      "source": [
        "cmd = \"\"\"\n",
        "SELECT MAX(`Hidden Gem Score`), AVG(`Hidden Gem Score`)\n",
        "FROM netflix\n",
        "\"\"\"\n",
        "spark.sql(cmd).show()"
      ]
    },
    {
      "cell_type": "markdown",
      "metadata": {
        "id": "Wynko4wEb0YN"
      },
      "source": [
        "#### How many movies that are available in Korea?"
      ]
    },
    {
      "cell_type": "code",
      "execution_count": 12,
      "metadata": {
        "colab": {
          "base_uri": "https://localhost:8080/"
        },
        "id": "dPA63gLhb0YN",
        "outputId": "43ea305d-c6b7-4dd9-ac42-01580fd6913e"
      },
      "outputs": [
        {
          "data": {
            "text/plain": [
              "735"
            ]
          },
          "execution_count": 12,
          "metadata": {},
          "output_type": "execute_result"
        }
      ],
      "source": [
        "df.filter(df[\"Languages\"].contains(\"Korean\")).count()"
      ]
    },
    {
      "cell_type": "code",
      "execution_count": 13,
      "metadata": {
        "colab": {
          "base_uri": "https://localhost:8080/"
        },
        "id": "sGEu2vMn5YDS",
        "outputId": "fbe4d631-6a93-4f6a-f870-44db17a10ec2"
      },
      "outputs": [
        {
          "name": "stdout",
          "output_type": "stream",
          "text": [
            "+-----+\n",
            "|count|\n",
            "+-----+\n",
            "|  735|\n",
            "+-----+\n",
            "\n"
          ]
        }
      ],
      "source": [
        "cmd = \"\"\"\n",
        "SELECT COUNT(*) as count\n",
        "FROM netflix\n",
        "WHERE Languages LIKE '%Korean%'\n",
        "\"\"\"\n",
        "spark.sql(cmd).show()"
      ]
    },
    {
      "cell_type": "markdown",
      "metadata": {
        "id": "H_c5VJ0Ab0YN"
      },
      "source": [
        "#### Which director has the highest average hidden gem score?"
      ]
    },
    {
      "cell_type": "code",
      "execution_count": null,
      "metadata": {
        "colab": {
          "base_uri": "https://localhost:8080/"
        },
        "id": "QsPQcLNYb0YN",
        "outputId": "f706a508-3fc1-4fae-d922-8e97d659cc35"
      },
      "outputs": [],
      "source": [
        "df.groupby(\"Director\").agg({\"Hidden Gem Score\": \"avg\"}).withColumnRenamed(\n",
        "    \"avg(Hidden Gem Score)\", \"avg\"\n",
        ").orderBy(col(\"avg\").desc()).limit(5).show()"
      ]
    },
    {
      "cell_type": "code",
      "execution_count": 15,
      "metadata": {
        "colab": {
          "base_uri": "https://localhost:8080/"
        },
        "id": "xNTK7n2K5nWN",
        "outputId": "086215e1-0b7c-46c8-8360-be2a20683666"
      },
      "outputs": [
        {
          "name": "stdout",
          "output_type": "stream",
          "text": [
            "+--------------------+---+\n",
            "|            Director|avg|\n",
            "+--------------------+---+\n",
            "|         Dorin Marcu|9.8|\n",
            "|    Fernando Escovar|9.6|\n",
            "|          Rosa Russo|9.5|\n",
            "|         Kate Brooks|9.5|\n",
            "|Vincent Bal, Kenn...|9.5|\n",
            "+--------------------+---+\n",
            "\n"
          ]
        }
      ],
      "source": [
        "cmd = \"\"\"\n",
        "SELECT Director, AVG(`Hidden Gem Score`) as avg\n",
        "FROM netflix\n",
        "GROUP BY Director\n",
        "ORDER BY avg DESC\n",
        "LIMIT 5\n",
        "\"\"\"\n",
        "spark.sql(cmd).show()"
      ]
    },
    {
      "cell_type": "markdown",
      "metadata": {
        "id": "z1F96sHsb0YN"
      },
      "source": [
        "#### How many genres are there in the dataset?"
      ]
    },
    {
      "cell_type": "code",
      "execution_count": 16,
      "metadata": {
        "colab": {
          "base_uri": "https://localhost:8080/"
        },
        "id": "C2LmcSGx60JK",
        "outputId": "e25012af-3f14-4319-88a3-8acbce2ed04d"
      },
      "outputs": [
        {
          "data": {
            "text/plain": [
              "28"
            ]
          },
          "execution_count": 16,
          "metadata": {},
          "output_type": "execute_result"
        }
      ],
      "source": [
        "# split: str -> list\n",
        "# explode: list -> rows\n",
        "# alias: default name col -> genre\n",
        "# trim row str\n",
        "# .show(X): default 20\n",
        "# .collect(): save in var\n",
        "# .count(): countdd\n",
        "\n",
        "df.select(explode(split(\"Genre\", \",\")).alias(\"genre\")).withColumn(\n",
        "    \"genre\", trim(col(\"genre\"))\n",
        ").distinct().count()"
      ]
    },
    {
      "cell_type": "code",
      "execution_count": 17,
      "metadata": {
        "id": "I6nbiSvlDalK"
      },
      "outputs": [],
      "source": [
        "spark.stop()"
      ]
    }
  ],
  "metadata": {
    "colab": {
      "provenance": []
    },
    "kernelspec": {
      "display_name": "Python 3 (ipykernel)",
      "language": "python",
      "name": "python3"
    },
    "language_info": {
      "codemirror_mode": {
        "name": "ipython",
        "version": 3
      },
      "file_extension": ".py",
      "mimetype": "text/x-python",
      "name": "python",
      "nbconvert_exporter": "python",
      "pygments_lexer": "ipython3",
      "version": "3.13.1"
    },
    "toc": {
      "base_numbering": 1,
      "nav_menu": {},
      "number_sections": true,
      "sideBar": true,
      "skip_h1_title": false,
      "title_cell": "Table of Contents",
      "title_sidebar": "Contents",
      "toc_cell": false,
      "toc_position": {},
      "toc_section_display": true,
      "toc_window_display": false
    },
    "varInspector": {
      "cols": {
        "lenName": 16,
        "lenType": 16,
        "lenVar": 40
      },
      "kernels_config": {
        "python": {
          "delete_cmd_postfix": "",
          "delete_cmd_prefix": "del ",
          "library": "var_list.py",
          "varRefreshCmd": "print(var_dic_list())"
        },
        "r": {
          "delete_cmd_postfix": ") ",
          "delete_cmd_prefix": "rm(",
          "library": "var_list.r",
          "varRefreshCmd": "cat(var_dic_list()) "
        }
      },
      "types_to_exclude": [
        "module",
        "function",
        "builtin_function_or_method",
        "instance",
        "_Feature"
      ],
      "window_display": false
    }
  },
  "nbformat": 4,
  "nbformat_minor": 0
}
