{
  "cells": [
    {
      "cell_type": "markdown",
      "metadata": {
        "id": "YQibouG4iHAQ"
      },
      "source": [
        "# Import Library"
      ]
    },
    {
      "cell_type": "code",
      "execution_count": 25,
      "metadata": {
        "id": "uD1qAqYuiHAR"
      },
      "outputs": [],
      "source": [
        "import pandas as pd\n",
        "import numpy as np"
      ]
    },
    {
      "cell_type": "markdown",
      "metadata": {
        "id": "xZ93LnsmiHAV"
      },
      "source": [
        "# Series"
      ]
    },
    {
      "cell_type": "markdown",
      "metadata": {
        "id": "QVmY7u58iHAW"
      },
      "source": [
        "## Create Series"
      ]
    },
    {
      "cell_type": "markdown",
      "metadata": {
        "id": "ArvcnmK5iHAW"
      },
      "source": [
        "There are many approaches to create a Series.  We first create a Series with 5 elements from a list:\n",
        "\n",
        "Index | Data (int)\n",
        ":---: | :---:\n",
        "0 | 14\n",
        "1 | -8\n",
        "2 | 0\n",
        "3 | 3\n",
        "4 | 9\n",
        "\n",
        "Note that **integer index starts from 0**"
      ]
    },
    {
      "cell_type": "code",
      "execution_count": 26,
      "metadata": {
        "id": "0okZD2xSiHAX",
        "outputId": "3ec1944b-7f2f-4980-a64d-b0248044f41b"
      },
      "outputs": [
        {
          "data": {
            "text/plain": [
              "0    14\n",
              "1    -8\n",
              "2     0\n",
              "3     3\n",
              "4     9\n",
              "dtype: int64"
            ]
          },
          "execution_count": 26,
          "metadata": {},
          "output_type": "execute_result"
        }
      ],
      "source": [
        "# create Series from a list\n",
        "s1 = pd.Series([14, -8, 0, 3, 9])\n",
        "s1"
      ]
    },
    {
      "cell_type": "code",
      "execution_count": 27,
      "metadata": {
        "id": "SqHNCqsfiHAc",
        "outputId": "ebd25c94-5400-475b-bb12-3d66bc09f590"
      },
      "outputs": [
        {
          "data": {
            "text/plain": [
              "pandas.core.series.Series"
            ]
          },
          "execution_count": 27,
          "metadata": {},
          "output_type": "execute_result"
        }
      ],
      "source": [
        "type(s1)"
      ]
    },
    {
      "cell_type": "code",
      "execution_count": 28,
      "metadata": {
        "id": "r1D7WphoiHAg",
        "outputId": "2ed49fbe-c1b2-46d3-f4ad-f6ee00e0b302"
      },
      "outputs": [
        {
          "data": {
            "text/plain": [
              "dtype('int64')"
            ]
          },
          "execution_count": 28,
          "metadata": {},
          "output_type": "execute_result"
        }
      ],
      "source": [
        "s1.dtype"
      ]
    },
    {
      "cell_type": "code",
      "execution_count": 29,
      "metadata": {
        "id": "uDhLS9XHiHAj",
        "outputId": "f8cb1bb4-4c30-4df8-ab39-a30ccde31fa4"
      },
      "outputs": [
        {
          "data": {
            "text/plain": [
              "array([14, -8,  0,  3,  9])"
            ]
          },
          "execution_count": 29,
          "metadata": {},
          "output_type": "execute_result"
        }
      ],
      "source": [
        "s1.values"
      ]
    },
    {
      "cell_type": "code",
      "execution_count": 30,
      "metadata": {
        "id": "2PDS0JV0iHAn",
        "outputId": "c4468a3d-ab3d-40e2-bd53-374ea2574361"
      },
      "outputs": [
        {
          "data": {
            "text/plain": [
              "RangeIndex(start=0, stop=5, step=1)"
            ]
          },
          "execution_count": 30,
          "metadata": {},
          "output_type": "execute_result"
        }
      ],
      "source": [
        "s1.index"
      ]
    },
    {
      "cell_type": "code",
      "execution_count": 31,
      "metadata": {
        "id": "SVefUyMmiHAt",
        "outputId": "9fc955bc-512d-4b1b-dac2-934524b417aa"
      },
      "outputs": [
        {
          "name": "stdout",
          "output_type": "stream",
          "text": [
            "14\n",
            "0\n"
          ]
        }
      ],
      "source": [
        "# Get value in index 0\n",
        "print(s1[0])\n",
        "print(s1[2])"
      ]
    },
    {
      "cell_type": "markdown",
      "metadata": {
        "id": "8S0VFDAfiHA2"
      },
      "source": [
        "## Create Series with Index"
      ]
    },
    {
      "cell_type": "markdown",
      "metadata": {
        "id": "dJG58kEAiHA3"
      },
      "source": [
        "We can create a Series with labels as index.  A label can be an arbitary string.  Although, we assign labels to the Series, integer index still exists.\n",
        "\n",
        "Index | Label | Data (int)\n",
        ":---: | :---: | :---:\n",
        "0 | d | 14\n",
        "1 | b | -8\n",
        "2 | a | 0\n",
        "3 | c | 3\n",
        "4 | x | 9\n",
        "\n",
        "Note that when we display a Series, it will show labels (if exist) or integer index (otherwise)."
      ]
    },
    {
      "cell_type": "code",
      "execution_count": 32,
      "metadata": {
        "id": "GxGz9biZiHA4",
        "outputId": "efdff6da-56f3-43d4-8905-9ed99437b813"
      },
      "outputs": [
        {
          "data": {
            "text/plain": [
              "d    14\n",
              "a    -8\n",
              "b     0\n",
              "c     3\n",
              "x     9\n",
              "dtype: int64"
            ]
          },
          "execution_count": 32,
          "metadata": {},
          "output_type": "execute_result"
        }
      ],
      "source": [
        "# create series with index, which can be numbers or strings\n",
        "s2 = pd.Series([14, -8, 0, 3, 9], index=[\"d\", \"a\", \"b\", \"c\", \"x\"])\n",
        "s2"
      ]
    },
    {
      "cell_type": "code",
      "execution_count": 33,
      "metadata": {
        "id": "GMyhV6fJiHA8",
        "outputId": "5ffb81c0-d363-471c-be86-b0541e235d82"
      },
      "outputs": [
        {
          "data": {
            "text/plain": [
              "Index(['d', 'a', 'b', 'c', 'x'], dtype='object')"
            ]
          },
          "execution_count": 33,
          "metadata": {},
          "output_type": "execute_result"
        }
      ],
      "source": [
        "s2.index"
      ]
    },
    {
      "cell_type": "code",
      "execution_count": 34,
      "metadata": {
        "id": "wGbtZYrgiHBA",
        "outputId": "4ae8f78a-8e94-4e27-bde7-73a7855a28fc"
      },
      "outputs": [
        {
          "name": "stdout",
          "output_type": "stream",
          "text": [
            "-8\n",
            "-8\n"
          ]
        },
        {
          "name": "stderr",
          "output_type": "stream",
          "text": [
            "/var/folders/06/w6kt9p1529vdfxw92dxt_6pc0000gn/T/ipykernel_71535/4274596143.py:3: FutureWarning: Series.__getitem__ treating keys as positions is deprecated. In a future version, integer keys will always be treated as labels (consistent with DataFrame behavior). To access a value by position, use `ser.iloc[pos]`\n",
            "  print(s2[1])\n"
          ]
        }
      ],
      "source": [
        "# Get value in index 'a'\n",
        "print(s2[\"a\"])\n",
        "print(s2[1])"
      ]
    },
    {
      "cell_type": "markdown",
      "metadata": {
        "id": "wDD7C_qqiHBH"
      },
      "source": [
        "# Series Operation"
      ]
    },
    {
      "cell_type": "code",
      "execution_count": 35,
      "metadata": {
        "id": "SyilPt3XiHBH",
        "outputId": "b9557b86-f38f-4b00-b67d-0d3886aa0b83"
      },
      "outputs": [
        {
          "data": {
            "text/plain": [
              "array([14, -8,  0,  3,  9])"
            ]
          },
          "execution_count": 35,
          "metadata": {},
          "output_type": "execute_result"
        }
      ],
      "source": [
        "s2.values"
      ]
    },
    {
      "cell_type": "code",
      "execution_count": 36,
      "metadata": {
        "id": "bTx8Z-h-iHBL",
        "outputId": "5fbf750f-e48e-4f57-c4d1-6192e617e910"
      },
      "outputs": [
        {
          "data": {
            "text/plain": [
              "d    196\n",
              "a     64\n",
              "b      0\n",
              "c      9\n",
              "x     81\n",
              "dtype: int64"
            ]
          },
          "execution_count": 36,
          "metadata": {},
          "output_type": "execute_result"
        }
      ],
      "source": [
        "# Apply with Lambda\n",
        "s2.apply(lambda x: x**2)"
      ]
    },
    {
      "cell_type": "code",
      "execution_count": 37,
      "metadata": {
        "id": "RbcFKpMdiHBO",
        "outputId": "0a7b7023-78d2-49c0-e297-531d660ee658"
      },
      "outputs": [
        {
          "data": {
            "text/plain": [
              "d    196\n",
              "a     64\n",
              "b      0\n",
              "c      9\n",
              "x     81\n",
              "dtype: int64"
            ]
          },
          "execution_count": 37,
          "metadata": {},
          "output_type": "execute_result"
        }
      ],
      "source": [
        "# Apply with method\n",
        "def power(x):\n",
        "    return x**2\n",
        "\n",
        "\n",
        "s2.apply(power)"
      ]
    },
    {
      "cell_type": "code",
      "execution_count": 38,
      "metadata": {
        "id": "PrLzixM4N4_H",
        "outputId": "f9e39da5-a84b-484d-f999-c60c835f0622"
      },
      "outputs": [
        {
          "data": {
            "text/plain": [
              "d    14\n",
              "a    -8\n",
              "b     0\n",
              "c     3\n",
              "x     9\n",
              "dtype: int64"
            ]
          },
          "execution_count": 38,
          "metadata": {},
          "output_type": "execute_result"
        }
      ],
      "source": [
        "s2"
      ]
    },
    {
      "cell_type": "markdown",
      "metadata": {
        "id": "8LB4-VBliHBU"
      },
      "source": [
        "# DataFrame"
      ]
    },
    {
      "cell_type": "markdown",
      "metadata": {
        "id": "CEB0WMzdiHBV"
      },
      "source": [
        "## Create DataFrame from List"
      ]
    },
    {
      "cell_type": "markdown",
      "metadata": {
        "id": "xovWG8PuiHBV"
      },
      "source": [
        "There are several approaches to create a DataFrame.  A simple one is to create from dict.\n",
        "We create the following DataFrame:\n",
        "\n",
        "Index | province | year | population\n",
        ":---: | :---: | :---: | :---:\n",
        "0 | Chiang Mai | 2016 | 1630428\n",
        "1 | Chiang Mai | 2017 | 1664012\n",
        "2 | Chiang Mai | 2018 | 1687971\n",
        "3 | Phrae | 2016 | 398936\n",
        "4 | Phrae | 2017 | 410382\n",
        "5 | Phrae | 2018 | 421653"
      ]
    },
    {
      "cell_type": "code",
      "execution_count": 39,
      "metadata": {
        "id": "hTAe8EWKiHBW",
        "outputId": "c1dc081d-a2db-4d4c-a1bf-59d3884c61ef"
      },
      "outputs": [
        {
          "data": {
            "text/html": [
              "<div>\n",
              "<style scoped>\n",
              "    .dataframe tbody tr th:only-of-type {\n",
              "        vertical-align: middle;\n",
              "    }\n",
              "\n",
              "    .dataframe tbody tr th {\n",
              "        vertical-align: top;\n",
              "    }\n",
              "\n",
              "    .dataframe thead th {\n",
              "        text-align: right;\n",
              "    }\n",
              "</style>\n",
              "<table border=\"1\" class=\"dataframe\">\n",
              "  <thead>\n",
              "    <tr style=\"text-align: right;\">\n",
              "      <th></th>\n",
              "      <th>province</th>\n",
              "      <th>year</th>\n",
              "      <th>population</th>\n",
              "    </tr>\n",
              "  </thead>\n",
              "  <tbody>\n",
              "    <tr>\n",
              "      <th>0</th>\n",
              "      <td>Chiang Mai</td>\n",
              "      <td>2016</td>\n",
              "      <td>1630428</td>\n",
              "    </tr>\n",
              "    <tr>\n",
              "      <th>1</th>\n",
              "      <td>Chiang Mai</td>\n",
              "      <td>2017</td>\n",
              "      <td>1664012</td>\n",
              "    </tr>\n",
              "    <tr>\n",
              "      <th>2</th>\n",
              "      <td>Chiang Mai</td>\n",
              "      <td>2018</td>\n",
              "      <td>1687971</td>\n",
              "    </tr>\n",
              "    <tr>\n",
              "      <th>3</th>\n",
              "      <td>Phrae</td>\n",
              "      <td>2016</td>\n",
              "      <td>398936</td>\n",
              "    </tr>\n",
              "    <tr>\n",
              "      <th>4</th>\n",
              "      <td>Phrae</td>\n",
              "      <td>2017</td>\n",
              "      <td>410382</td>\n",
              "    </tr>\n",
              "    <tr>\n",
              "      <th>5</th>\n",
              "      <td>Phrae</td>\n",
              "      <td>2018</td>\n",
              "      <td>421653</td>\n",
              "    </tr>\n",
              "  </tbody>\n",
              "</table>\n",
              "</div>"
            ],
            "text/plain": [
              "     province  year  population\n",
              "0  Chiang Mai  2016     1630428\n",
              "1  Chiang Mai  2017     1664012\n",
              "2  Chiang Mai  2018     1687971\n",
              "3       Phrae  2016      398936\n",
              "4       Phrae  2017      410382\n",
              "5       Phrae  2018      421653"
            ]
          },
          "execution_count": 39,
          "metadata": {},
          "output_type": "execute_result"
        }
      ],
      "source": [
        "# Create From a List\n",
        "data = [\n",
        "    [\"Chiang Mai\", 2016, 1630428],\n",
        "    [\"Chiang Mai\", 2017, 1664012],\n",
        "    [\"Chiang Mai\", 2018, 1687971],\n",
        "    [\"Phrae\", 2016, 398936],\n",
        "    [\"Phrae\", 2017, 410382],\n",
        "    [\"Phrae\", 2018, 421653],\n",
        "]\n",
        "df = pd.DataFrame(data=data, columns=[\"province\", \"year\", \"population\"])\n",
        "df"
      ]
    },
    {
      "cell_type": "code",
      "execution_count": 40,
      "metadata": {
        "id": "ONGYgffciHBY",
        "outputId": "123ffdf4-810b-44d1-d60e-38a15bc09603"
      },
      "outputs": [
        {
          "data": {
            "text/html": [
              "<div>\n",
              "<style scoped>\n",
              "    .dataframe tbody tr th:only-of-type {\n",
              "        vertical-align: middle;\n",
              "    }\n",
              "\n",
              "    .dataframe tbody tr th {\n",
              "        vertical-align: top;\n",
              "    }\n",
              "\n",
              "    .dataframe thead th {\n",
              "        text-align: right;\n",
              "    }\n",
              "</style>\n",
              "<table border=\"1\" class=\"dataframe\">\n",
              "  <thead>\n",
              "    <tr style=\"text-align: right;\">\n",
              "      <th></th>\n",
              "      <th>province</th>\n",
              "      <th>year</th>\n",
              "      <th>population</th>\n",
              "    </tr>\n",
              "  </thead>\n",
              "  <tbody>\n",
              "    <tr>\n",
              "      <th>0</th>\n",
              "      <td>Chiang Mai</td>\n",
              "      <td>2016</td>\n",
              "      <td>1630428</td>\n",
              "    </tr>\n",
              "    <tr>\n",
              "      <th>1</th>\n",
              "      <td>Chiang Mai</td>\n",
              "      <td>2017</td>\n",
              "      <td>1664012</td>\n",
              "    </tr>\n",
              "    <tr>\n",
              "      <th>2</th>\n",
              "      <td>Chiang Mai</td>\n",
              "      <td>2018</td>\n",
              "      <td>1687971</td>\n",
              "    </tr>\n",
              "    <tr>\n",
              "      <th>3</th>\n",
              "      <td>Phrae</td>\n",
              "      <td>2016</td>\n",
              "      <td>398936</td>\n",
              "    </tr>\n",
              "    <tr>\n",
              "      <th>4</th>\n",
              "      <td>Phrae</td>\n",
              "      <td>2017</td>\n",
              "      <td>410382</td>\n",
              "    </tr>\n",
              "    <tr>\n",
              "      <th>5</th>\n",
              "      <td>Phrae</td>\n",
              "      <td>2018</td>\n",
              "      <td>421653</td>\n",
              "    </tr>\n",
              "  </tbody>\n",
              "</table>\n",
              "</div>"
            ],
            "text/plain": [
              "     province  year  population\n",
              "0  Chiang Mai  2016     1630428\n",
              "1  Chiang Mai  2017     1664012\n",
              "2  Chiang Mai  2018     1687971\n",
              "3       Phrae  2016      398936\n",
              "4       Phrae  2017      410382\n",
              "5       Phrae  2018      421653"
            ]
          },
          "execution_count": 40,
          "metadata": {},
          "output_type": "execute_result"
        }
      ],
      "source": [
        "# Create From a Dict\n",
        "data = {\n",
        "    \"province\": [\"Chiang Mai\", \"Chiang Mai\", \"Chiang Mai\", \"Phrae\", \"Phrae\", \"Phrae\"],\n",
        "    \"year\": [2016, 2017, 2018, 2016, 2017, 2018],\n",
        "    \"population\": [1630428, 1664012, 1687971, 398936, 410382, 421653],\n",
        "}\n",
        "df = pd.DataFrame(data)\n",
        "df"
      ]
    },
    {
      "cell_type": "code",
      "execution_count": 41,
      "metadata": {
        "id": "KAMgnRxziHBe",
        "outputId": "c5bbf851-21d6-4758-e73c-e1b5cbc45f5b"
      },
      "outputs": [
        {
          "data": {
            "text/plain": [
              "[['Chiang Mai', 2016, 1630428],\n",
              " ['Chiang Mai', 2017, 1664012],\n",
              " ['Chiang Mai', 2018, 1687971],\n",
              " ['Phrae', 2016, 398936],\n",
              " ['Phrae', 2017, 410382],\n",
              " ['Phrae', 2018, 421653]]"
            ]
          },
          "execution_count": 41,
          "metadata": {},
          "output_type": "execute_result"
        }
      ],
      "source": [
        "# Pandas to List\n",
        "df.values.tolist()"
      ]
    },
    {
      "cell_type": "markdown",
      "metadata": {
        "id": "mgLvfWItiHBh"
      },
      "source": [
        "## Create DataFrame from File"
      ]
    },
    {
      "cell_type": "markdown",
      "metadata": {
        "id": "8An1gYRiiT7J"
      },
      "source": [
        "### Download Data"
      ]
    },
    {
      "cell_type": "markdown",
      "metadata": {
        "id": "-cBxxR8PiHBi"
      },
      "source": [
        "### Read File"
      ]
    },
    {
      "cell_type": "code",
      "execution_count": 42,
      "metadata": {
        "id": "_4Mn5_1_iHBi",
        "outputId": "021f3d4e-8d55-4593-8f76-0d768b72a39a"
      },
      "outputs": [
        {
          "ename": "URLError",
          "evalue": "<urlopen error [SSL: CERTIFICATE_VERIFY_FAILED] certificate verify failed: unable to get local issuer certificate (_ssl.c:997)>",
          "output_type": "error",
          "traceback": [
            "\u001b[0;31m---------------------------------------------------------------------------\u001b[0m",
            "\u001b[0;31mSSLCertVerificationError\u001b[0m                  Traceback (most recent call last)",
            "File \u001b[0;32m/Library/Frameworks/Python.framework/Versions/3.10/lib/python3.10/urllib/request.py:1348\u001b[0m, in \u001b[0;36mAbstractHTTPHandler.do_open\u001b[0;34m(self, http_class, req, **http_conn_args)\u001b[0m\n\u001b[1;32m   1347\u001b[0m \u001b[38;5;28;01mtry\u001b[39;00m:\n\u001b[0;32m-> 1348\u001b[0m     \u001b[43mh\u001b[49m\u001b[38;5;241;43m.\u001b[39;49m\u001b[43mrequest\u001b[49m\u001b[43m(\u001b[49m\u001b[43mreq\u001b[49m\u001b[38;5;241;43m.\u001b[39;49m\u001b[43mget_method\u001b[49m\u001b[43m(\u001b[49m\u001b[43m)\u001b[49m\u001b[43m,\u001b[49m\u001b[43m \u001b[49m\u001b[43mreq\u001b[49m\u001b[38;5;241;43m.\u001b[39;49m\u001b[43mselector\u001b[49m\u001b[43m,\u001b[49m\u001b[43m \u001b[49m\u001b[43mreq\u001b[49m\u001b[38;5;241;43m.\u001b[39;49m\u001b[43mdata\u001b[49m\u001b[43m,\u001b[49m\u001b[43m \u001b[49m\u001b[43mheaders\u001b[49m\u001b[43m,\u001b[49m\n\u001b[1;32m   1349\u001b[0m \u001b[43m              \u001b[49m\u001b[43mencode_chunked\u001b[49m\u001b[38;5;241;43m=\u001b[39;49m\u001b[43mreq\u001b[49m\u001b[38;5;241;43m.\u001b[39;49m\u001b[43mhas_header\u001b[49m\u001b[43m(\u001b[49m\u001b[38;5;124;43m'\u001b[39;49m\u001b[38;5;124;43mTransfer-encoding\u001b[39;49m\u001b[38;5;124;43m'\u001b[39;49m\u001b[43m)\u001b[49m\u001b[43m)\u001b[49m\n\u001b[1;32m   1350\u001b[0m \u001b[38;5;28;01mexcept\u001b[39;00m \u001b[38;5;167;01mOSError\u001b[39;00m \u001b[38;5;28;01mas\u001b[39;00m err: \u001b[38;5;66;03m# timeout error\u001b[39;00m\n",
            "File \u001b[0;32m/Library/Frameworks/Python.framework/Versions/3.10/lib/python3.10/http/client.py:1282\u001b[0m, in \u001b[0;36mHTTPConnection.request\u001b[0;34m(self, method, url, body, headers, encode_chunked)\u001b[0m\n\u001b[1;32m   1281\u001b[0m \u001b[38;5;250m\u001b[39m\u001b[38;5;124;03m\"\"\"Send a complete request to the server.\"\"\"\u001b[39;00m\n\u001b[0;32m-> 1282\u001b[0m \u001b[38;5;28;43mself\u001b[39;49m\u001b[38;5;241;43m.\u001b[39;49m\u001b[43m_send_request\u001b[49m\u001b[43m(\u001b[49m\u001b[43mmethod\u001b[49m\u001b[43m,\u001b[49m\u001b[43m \u001b[49m\u001b[43murl\u001b[49m\u001b[43m,\u001b[49m\u001b[43m \u001b[49m\u001b[43mbody\u001b[49m\u001b[43m,\u001b[49m\u001b[43m \u001b[49m\u001b[43mheaders\u001b[49m\u001b[43m,\u001b[49m\u001b[43m \u001b[49m\u001b[43mencode_chunked\u001b[49m\u001b[43m)\u001b[49m\n",
            "File \u001b[0;32m/Library/Frameworks/Python.framework/Versions/3.10/lib/python3.10/http/client.py:1328\u001b[0m, in \u001b[0;36mHTTPConnection._send_request\u001b[0;34m(self, method, url, body, headers, encode_chunked)\u001b[0m\n\u001b[1;32m   1327\u001b[0m     body \u001b[38;5;241m=\u001b[39m _encode(body, \u001b[38;5;124m'\u001b[39m\u001b[38;5;124mbody\u001b[39m\u001b[38;5;124m'\u001b[39m)\n\u001b[0;32m-> 1328\u001b[0m \u001b[38;5;28;43mself\u001b[39;49m\u001b[38;5;241;43m.\u001b[39;49m\u001b[43mendheaders\u001b[49m\u001b[43m(\u001b[49m\u001b[43mbody\u001b[49m\u001b[43m,\u001b[49m\u001b[43m \u001b[49m\u001b[43mencode_chunked\u001b[49m\u001b[38;5;241;43m=\u001b[39;49m\u001b[43mencode_chunked\u001b[49m\u001b[43m)\u001b[49m\n",
            "File \u001b[0;32m/Library/Frameworks/Python.framework/Versions/3.10/lib/python3.10/http/client.py:1277\u001b[0m, in \u001b[0;36mHTTPConnection.endheaders\u001b[0;34m(self, message_body, encode_chunked)\u001b[0m\n\u001b[1;32m   1276\u001b[0m     \u001b[38;5;28;01mraise\u001b[39;00m CannotSendHeader()\n\u001b[0;32m-> 1277\u001b[0m \u001b[38;5;28;43mself\u001b[39;49m\u001b[38;5;241;43m.\u001b[39;49m\u001b[43m_send_output\u001b[49m\u001b[43m(\u001b[49m\u001b[43mmessage_body\u001b[49m\u001b[43m,\u001b[49m\u001b[43m \u001b[49m\u001b[43mencode_chunked\u001b[49m\u001b[38;5;241;43m=\u001b[39;49m\u001b[43mencode_chunked\u001b[49m\u001b[43m)\u001b[49m\n",
            "File \u001b[0;32m/Library/Frameworks/Python.framework/Versions/3.10/lib/python3.10/http/client.py:1037\u001b[0m, in \u001b[0;36mHTTPConnection._send_output\u001b[0;34m(self, message_body, encode_chunked)\u001b[0m\n\u001b[1;32m   1036\u001b[0m \u001b[38;5;28;01mdel\u001b[39;00m \u001b[38;5;28mself\u001b[39m\u001b[38;5;241m.\u001b[39m_buffer[:]\n\u001b[0;32m-> 1037\u001b[0m \u001b[38;5;28;43mself\u001b[39;49m\u001b[38;5;241;43m.\u001b[39;49m\u001b[43msend\u001b[49m\u001b[43m(\u001b[49m\u001b[43mmsg\u001b[49m\u001b[43m)\u001b[49m\n\u001b[1;32m   1039\u001b[0m \u001b[38;5;28;01mif\u001b[39;00m message_body \u001b[38;5;129;01mis\u001b[39;00m \u001b[38;5;129;01mnot\u001b[39;00m \u001b[38;5;28;01mNone\u001b[39;00m:\n\u001b[1;32m   1040\u001b[0m \n\u001b[1;32m   1041\u001b[0m     \u001b[38;5;66;03m# create a consistent interface to message_body\u001b[39;00m\n",
            "File \u001b[0;32m/Library/Frameworks/Python.framework/Versions/3.10/lib/python3.10/http/client.py:975\u001b[0m, in \u001b[0;36mHTTPConnection.send\u001b[0;34m(self, data)\u001b[0m\n\u001b[1;32m    974\u001b[0m \u001b[38;5;28;01mif\u001b[39;00m \u001b[38;5;28mself\u001b[39m\u001b[38;5;241m.\u001b[39mauto_open:\n\u001b[0;32m--> 975\u001b[0m     \u001b[38;5;28;43mself\u001b[39;49m\u001b[38;5;241;43m.\u001b[39;49m\u001b[43mconnect\u001b[49m\u001b[43m(\u001b[49m\u001b[43m)\u001b[49m\n\u001b[1;32m    976\u001b[0m \u001b[38;5;28;01melse\u001b[39;00m:\n",
            "File \u001b[0;32m/Library/Frameworks/Python.framework/Versions/3.10/lib/python3.10/http/client.py:1454\u001b[0m, in \u001b[0;36mHTTPSConnection.connect\u001b[0;34m(self)\u001b[0m\n\u001b[1;32m   1452\u001b[0m     server_hostname \u001b[38;5;241m=\u001b[39m \u001b[38;5;28mself\u001b[39m\u001b[38;5;241m.\u001b[39mhost\n\u001b[0;32m-> 1454\u001b[0m \u001b[38;5;28mself\u001b[39m\u001b[38;5;241m.\u001b[39msock \u001b[38;5;241m=\u001b[39m \u001b[38;5;28;43mself\u001b[39;49m\u001b[38;5;241;43m.\u001b[39;49m\u001b[43m_context\u001b[49m\u001b[38;5;241;43m.\u001b[39;49m\u001b[43mwrap_socket\u001b[49m\u001b[43m(\u001b[49m\u001b[38;5;28;43mself\u001b[39;49m\u001b[38;5;241;43m.\u001b[39;49m\u001b[43msock\u001b[49m\u001b[43m,\u001b[49m\n\u001b[1;32m   1455\u001b[0m \u001b[43m                                      \u001b[49m\u001b[43mserver_hostname\u001b[49m\u001b[38;5;241;43m=\u001b[39;49m\u001b[43mserver_hostname\u001b[49m\u001b[43m)\u001b[49m\n",
            "File \u001b[0;32m/Library/Frameworks/Python.framework/Versions/3.10/lib/python3.10/ssl.py:513\u001b[0m, in \u001b[0;36mSSLContext.wrap_socket\u001b[0;34m(self, sock, server_side, do_handshake_on_connect, suppress_ragged_eofs, server_hostname, session)\u001b[0m\n\u001b[1;32m    507\u001b[0m \u001b[38;5;28;01mdef\u001b[39;00m \u001b[38;5;21mwrap_socket\u001b[39m(\u001b[38;5;28mself\u001b[39m, sock, server_side\u001b[38;5;241m=\u001b[39m\u001b[38;5;28;01mFalse\u001b[39;00m,\n\u001b[1;32m    508\u001b[0m                 do_handshake_on_connect\u001b[38;5;241m=\u001b[39m\u001b[38;5;28;01mTrue\u001b[39;00m,\n\u001b[1;32m    509\u001b[0m                 suppress_ragged_eofs\u001b[38;5;241m=\u001b[39m\u001b[38;5;28;01mTrue\u001b[39;00m,\n\u001b[1;32m    510\u001b[0m                 server_hostname\u001b[38;5;241m=\u001b[39m\u001b[38;5;28;01mNone\u001b[39;00m, session\u001b[38;5;241m=\u001b[39m\u001b[38;5;28;01mNone\u001b[39;00m):\n\u001b[1;32m    511\u001b[0m     \u001b[38;5;66;03m# SSLSocket class handles server_hostname encoding before it calls\u001b[39;00m\n\u001b[1;32m    512\u001b[0m     \u001b[38;5;66;03m# ctx._wrap_socket()\u001b[39;00m\n\u001b[0;32m--> 513\u001b[0m     \u001b[38;5;28;01mreturn\u001b[39;00m \u001b[38;5;28;43mself\u001b[39;49m\u001b[38;5;241;43m.\u001b[39;49m\u001b[43msslsocket_class\u001b[49m\u001b[38;5;241;43m.\u001b[39;49m\u001b[43m_create\u001b[49m\u001b[43m(\u001b[49m\n\u001b[1;32m    514\u001b[0m \u001b[43m        \u001b[49m\u001b[43msock\u001b[49m\u001b[38;5;241;43m=\u001b[39;49m\u001b[43msock\u001b[49m\u001b[43m,\u001b[49m\n\u001b[1;32m    515\u001b[0m \u001b[43m        \u001b[49m\u001b[43mserver_side\u001b[49m\u001b[38;5;241;43m=\u001b[39;49m\u001b[43mserver_side\u001b[49m\u001b[43m,\u001b[49m\n\u001b[1;32m    516\u001b[0m \u001b[43m        \u001b[49m\u001b[43mdo_handshake_on_connect\u001b[49m\u001b[38;5;241;43m=\u001b[39;49m\u001b[43mdo_handshake_on_connect\u001b[49m\u001b[43m,\u001b[49m\n\u001b[1;32m    517\u001b[0m \u001b[43m        \u001b[49m\u001b[43msuppress_ragged_eofs\u001b[49m\u001b[38;5;241;43m=\u001b[39;49m\u001b[43msuppress_ragged_eofs\u001b[49m\u001b[43m,\u001b[49m\n\u001b[1;32m    518\u001b[0m \u001b[43m        \u001b[49m\u001b[43mserver_hostname\u001b[49m\u001b[38;5;241;43m=\u001b[39;49m\u001b[43mserver_hostname\u001b[49m\u001b[43m,\u001b[49m\n\u001b[1;32m    519\u001b[0m \u001b[43m        \u001b[49m\u001b[43mcontext\u001b[49m\u001b[38;5;241;43m=\u001b[39;49m\u001b[38;5;28;43mself\u001b[39;49m\u001b[43m,\u001b[49m\n\u001b[1;32m    520\u001b[0m \u001b[43m        \u001b[49m\u001b[43msession\u001b[49m\u001b[38;5;241;43m=\u001b[39;49m\u001b[43msession\u001b[49m\n\u001b[1;32m    521\u001b[0m \u001b[43m    \u001b[49m\u001b[43m)\u001b[49m\n",
            "File \u001b[0;32m/Library/Frameworks/Python.framework/Versions/3.10/lib/python3.10/ssl.py:1071\u001b[0m, in \u001b[0;36mSSLSocket._create\u001b[0;34m(cls, sock, server_side, do_handshake_on_connect, suppress_ragged_eofs, server_hostname, context, session)\u001b[0m\n\u001b[1;32m   1070\u001b[0m             \u001b[38;5;28;01mraise\u001b[39;00m \u001b[38;5;167;01mValueError\u001b[39;00m(\u001b[38;5;124m\"\u001b[39m\u001b[38;5;124mdo_handshake_on_connect should not be specified for non-blocking sockets\u001b[39m\u001b[38;5;124m\"\u001b[39m)\n\u001b[0;32m-> 1071\u001b[0m         \u001b[38;5;28;43mself\u001b[39;49m\u001b[38;5;241;43m.\u001b[39;49m\u001b[43mdo_handshake\u001b[49m\u001b[43m(\u001b[49m\u001b[43m)\u001b[49m\n\u001b[1;32m   1072\u001b[0m \u001b[38;5;28;01mexcept\u001b[39;00m (\u001b[38;5;167;01mOSError\u001b[39;00m, \u001b[38;5;167;01mValueError\u001b[39;00m):\n",
            "File \u001b[0;32m/Library/Frameworks/Python.framework/Versions/3.10/lib/python3.10/ssl.py:1342\u001b[0m, in \u001b[0;36mSSLSocket.do_handshake\u001b[0;34m(self, block)\u001b[0m\n\u001b[1;32m   1341\u001b[0m         \u001b[38;5;28mself\u001b[39m\u001b[38;5;241m.\u001b[39msettimeout(\u001b[38;5;28;01mNone\u001b[39;00m)\n\u001b[0;32m-> 1342\u001b[0m     \u001b[38;5;28;43mself\u001b[39;49m\u001b[38;5;241;43m.\u001b[39;49m\u001b[43m_sslobj\u001b[49m\u001b[38;5;241;43m.\u001b[39;49m\u001b[43mdo_handshake\u001b[49m\u001b[43m(\u001b[49m\u001b[43m)\u001b[49m\n\u001b[1;32m   1343\u001b[0m \u001b[38;5;28;01mfinally\u001b[39;00m:\n",
            "\u001b[0;31mSSLCertVerificationError\u001b[0m: [SSL: CERTIFICATE_VERIFY_FAILED] certificate verify failed: unable to get local issuer certificate (_ssl.c:997)",
            "\nDuring handling of the above exception, another exception occurred:\n",
            "\u001b[0;31mURLError\u001b[0m                                  Traceback (most recent call last)",
            "Cell \u001b[0;32mIn[42], line 1\u001b[0m\n\u001b[0;32m----> 1\u001b[0m df \u001b[38;5;241m=\u001b[39m \u001b[43mpd\u001b[49m\u001b[38;5;241;43m.\u001b[39;49m\u001b[43mread_csv\u001b[49m\u001b[43m(\u001b[49m\n\u001b[1;32m      2\u001b[0m \u001b[43m    \u001b[49m\u001b[38;5;124;43m\"\u001b[39;49m\u001b[38;5;124;43mhttps://github.com/kaopanboonyuen/2110446_DataScience_2021s2/raw/main/datasets/sample.csv\u001b[39;49m\u001b[38;5;124;43m\"\u001b[39;49m\n\u001b[1;32m      3\u001b[0m \u001b[43m)\u001b[49m\n\u001b[1;32m      4\u001b[0m df\n",
            "File \u001b[0;32m/Library/Frameworks/Python.framework/Versions/3.10/lib/python3.10/site-packages/pandas/io/parsers/readers.py:1026\u001b[0m, in \u001b[0;36mread_csv\u001b[0;34m(filepath_or_buffer, sep, delimiter, header, names, index_col, usecols, dtype, engine, converters, true_values, false_values, skipinitialspace, skiprows, skipfooter, nrows, na_values, keep_default_na, na_filter, verbose, skip_blank_lines, parse_dates, infer_datetime_format, keep_date_col, date_parser, date_format, dayfirst, cache_dates, iterator, chunksize, compression, thousands, decimal, lineterminator, quotechar, quoting, doublequote, escapechar, comment, encoding, encoding_errors, dialect, on_bad_lines, delim_whitespace, low_memory, memory_map, float_precision, storage_options, dtype_backend)\u001b[0m\n\u001b[1;32m   1013\u001b[0m kwds_defaults \u001b[38;5;241m=\u001b[39m _refine_defaults_read(\n\u001b[1;32m   1014\u001b[0m     dialect,\n\u001b[1;32m   1015\u001b[0m     delimiter,\n\u001b[0;32m   (...)\u001b[0m\n\u001b[1;32m   1022\u001b[0m     dtype_backend\u001b[38;5;241m=\u001b[39mdtype_backend,\n\u001b[1;32m   1023\u001b[0m )\n\u001b[1;32m   1024\u001b[0m kwds\u001b[38;5;241m.\u001b[39mupdate(kwds_defaults)\n\u001b[0;32m-> 1026\u001b[0m \u001b[38;5;28;01mreturn\u001b[39;00m \u001b[43m_read\u001b[49m\u001b[43m(\u001b[49m\u001b[43mfilepath_or_buffer\u001b[49m\u001b[43m,\u001b[49m\u001b[43m \u001b[49m\u001b[43mkwds\u001b[49m\u001b[43m)\u001b[49m\n",
            "File \u001b[0;32m/Library/Frameworks/Python.framework/Versions/3.10/lib/python3.10/site-packages/pandas/io/parsers/readers.py:620\u001b[0m, in \u001b[0;36m_read\u001b[0;34m(filepath_or_buffer, kwds)\u001b[0m\n\u001b[1;32m    617\u001b[0m _validate_names(kwds\u001b[38;5;241m.\u001b[39mget(\u001b[38;5;124m\"\u001b[39m\u001b[38;5;124mnames\u001b[39m\u001b[38;5;124m\"\u001b[39m, \u001b[38;5;28;01mNone\u001b[39;00m))\n\u001b[1;32m    619\u001b[0m \u001b[38;5;66;03m# Create the parser.\u001b[39;00m\n\u001b[0;32m--> 620\u001b[0m parser \u001b[38;5;241m=\u001b[39m \u001b[43mTextFileReader\u001b[49m\u001b[43m(\u001b[49m\u001b[43mfilepath_or_buffer\u001b[49m\u001b[43m,\u001b[49m\u001b[43m \u001b[49m\u001b[38;5;241;43m*\u001b[39;49m\u001b[38;5;241;43m*\u001b[39;49m\u001b[43mkwds\u001b[49m\u001b[43m)\u001b[49m\n\u001b[1;32m    622\u001b[0m \u001b[38;5;28;01mif\u001b[39;00m chunksize \u001b[38;5;129;01mor\u001b[39;00m iterator:\n\u001b[1;32m    623\u001b[0m     \u001b[38;5;28;01mreturn\u001b[39;00m parser\n",
            "File \u001b[0;32m/Library/Frameworks/Python.framework/Versions/3.10/lib/python3.10/site-packages/pandas/io/parsers/readers.py:1620\u001b[0m, in \u001b[0;36mTextFileReader.__init__\u001b[0;34m(self, f, engine, **kwds)\u001b[0m\n\u001b[1;32m   1617\u001b[0m     \u001b[38;5;28mself\u001b[39m\u001b[38;5;241m.\u001b[39moptions[\u001b[38;5;124m\"\u001b[39m\u001b[38;5;124mhas_index_names\u001b[39m\u001b[38;5;124m\"\u001b[39m] \u001b[38;5;241m=\u001b[39m kwds[\u001b[38;5;124m\"\u001b[39m\u001b[38;5;124mhas_index_names\u001b[39m\u001b[38;5;124m\"\u001b[39m]\n\u001b[1;32m   1619\u001b[0m \u001b[38;5;28mself\u001b[39m\u001b[38;5;241m.\u001b[39mhandles: IOHandles \u001b[38;5;241m|\u001b[39m \u001b[38;5;28;01mNone\u001b[39;00m \u001b[38;5;241m=\u001b[39m \u001b[38;5;28;01mNone\u001b[39;00m\n\u001b[0;32m-> 1620\u001b[0m \u001b[38;5;28mself\u001b[39m\u001b[38;5;241m.\u001b[39m_engine \u001b[38;5;241m=\u001b[39m \u001b[38;5;28;43mself\u001b[39;49m\u001b[38;5;241;43m.\u001b[39;49m\u001b[43m_make_engine\u001b[49m\u001b[43m(\u001b[49m\u001b[43mf\u001b[49m\u001b[43m,\u001b[49m\u001b[43m \u001b[49m\u001b[38;5;28;43mself\u001b[39;49m\u001b[38;5;241;43m.\u001b[39;49m\u001b[43mengine\u001b[49m\u001b[43m)\u001b[49m\n",
            "File \u001b[0;32m/Library/Frameworks/Python.framework/Versions/3.10/lib/python3.10/site-packages/pandas/io/parsers/readers.py:1880\u001b[0m, in \u001b[0;36mTextFileReader._make_engine\u001b[0;34m(self, f, engine)\u001b[0m\n\u001b[1;32m   1878\u001b[0m     \u001b[38;5;28;01mif\u001b[39;00m \u001b[38;5;124m\"\u001b[39m\u001b[38;5;124mb\u001b[39m\u001b[38;5;124m\"\u001b[39m \u001b[38;5;129;01mnot\u001b[39;00m \u001b[38;5;129;01min\u001b[39;00m mode:\n\u001b[1;32m   1879\u001b[0m         mode \u001b[38;5;241m+\u001b[39m\u001b[38;5;241m=\u001b[39m \u001b[38;5;124m\"\u001b[39m\u001b[38;5;124mb\u001b[39m\u001b[38;5;124m\"\u001b[39m\n\u001b[0;32m-> 1880\u001b[0m \u001b[38;5;28mself\u001b[39m\u001b[38;5;241m.\u001b[39mhandles \u001b[38;5;241m=\u001b[39m \u001b[43mget_handle\u001b[49m\u001b[43m(\u001b[49m\n\u001b[1;32m   1881\u001b[0m \u001b[43m    \u001b[49m\u001b[43mf\u001b[49m\u001b[43m,\u001b[49m\n\u001b[1;32m   1882\u001b[0m \u001b[43m    \u001b[49m\u001b[43mmode\u001b[49m\u001b[43m,\u001b[49m\n\u001b[1;32m   1883\u001b[0m \u001b[43m    \u001b[49m\u001b[43mencoding\u001b[49m\u001b[38;5;241;43m=\u001b[39;49m\u001b[38;5;28;43mself\u001b[39;49m\u001b[38;5;241;43m.\u001b[39;49m\u001b[43moptions\u001b[49m\u001b[38;5;241;43m.\u001b[39;49m\u001b[43mget\u001b[49m\u001b[43m(\u001b[49m\u001b[38;5;124;43m\"\u001b[39;49m\u001b[38;5;124;43mencoding\u001b[39;49m\u001b[38;5;124;43m\"\u001b[39;49m\u001b[43m,\u001b[49m\u001b[43m \u001b[49m\u001b[38;5;28;43;01mNone\u001b[39;49;00m\u001b[43m)\u001b[49m\u001b[43m,\u001b[49m\n\u001b[1;32m   1884\u001b[0m \u001b[43m    \u001b[49m\u001b[43mcompression\u001b[49m\u001b[38;5;241;43m=\u001b[39;49m\u001b[38;5;28;43mself\u001b[39;49m\u001b[38;5;241;43m.\u001b[39;49m\u001b[43moptions\u001b[49m\u001b[38;5;241;43m.\u001b[39;49m\u001b[43mget\u001b[49m\u001b[43m(\u001b[49m\u001b[38;5;124;43m\"\u001b[39;49m\u001b[38;5;124;43mcompression\u001b[39;49m\u001b[38;5;124;43m\"\u001b[39;49m\u001b[43m,\u001b[49m\u001b[43m \u001b[49m\u001b[38;5;28;43;01mNone\u001b[39;49;00m\u001b[43m)\u001b[49m\u001b[43m,\u001b[49m\n\u001b[1;32m   1885\u001b[0m \u001b[43m    \u001b[49m\u001b[43mmemory_map\u001b[49m\u001b[38;5;241;43m=\u001b[39;49m\u001b[38;5;28;43mself\u001b[39;49m\u001b[38;5;241;43m.\u001b[39;49m\u001b[43moptions\u001b[49m\u001b[38;5;241;43m.\u001b[39;49m\u001b[43mget\u001b[49m\u001b[43m(\u001b[49m\u001b[38;5;124;43m\"\u001b[39;49m\u001b[38;5;124;43mmemory_map\u001b[39;49m\u001b[38;5;124;43m\"\u001b[39;49m\u001b[43m,\u001b[49m\u001b[43m \u001b[49m\u001b[38;5;28;43;01mFalse\u001b[39;49;00m\u001b[43m)\u001b[49m\u001b[43m,\u001b[49m\n\u001b[1;32m   1886\u001b[0m \u001b[43m    \u001b[49m\u001b[43mis_text\u001b[49m\u001b[38;5;241;43m=\u001b[39;49m\u001b[43mis_text\u001b[49m\u001b[43m,\u001b[49m\n\u001b[1;32m   1887\u001b[0m \u001b[43m    \u001b[49m\u001b[43merrors\u001b[49m\u001b[38;5;241;43m=\u001b[39;49m\u001b[38;5;28;43mself\u001b[39;49m\u001b[38;5;241;43m.\u001b[39;49m\u001b[43moptions\u001b[49m\u001b[38;5;241;43m.\u001b[39;49m\u001b[43mget\u001b[49m\u001b[43m(\u001b[49m\u001b[38;5;124;43m\"\u001b[39;49m\u001b[38;5;124;43mencoding_errors\u001b[39;49m\u001b[38;5;124;43m\"\u001b[39;49m\u001b[43m,\u001b[49m\u001b[43m \u001b[49m\u001b[38;5;124;43m\"\u001b[39;49m\u001b[38;5;124;43mstrict\u001b[39;49m\u001b[38;5;124;43m\"\u001b[39;49m\u001b[43m)\u001b[49m\u001b[43m,\u001b[49m\n\u001b[1;32m   1888\u001b[0m \u001b[43m    \u001b[49m\u001b[43mstorage_options\u001b[49m\u001b[38;5;241;43m=\u001b[39;49m\u001b[38;5;28;43mself\u001b[39;49m\u001b[38;5;241;43m.\u001b[39;49m\u001b[43moptions\u001b[49m\u001b[38;5;241;43m.\u001b[39;49m\u001b[43mget\u001b[49m\u001b[43m(\u001b[49m\u001b[38;5;124;43m\"\u001b[39;49m\u001b[38;5;124;43mstorage_options\u001b[39;49m\u001b[38;5;124;43m\"\u001b[39;49m\u001b[43m,\u001b[49m\u001b[43m \u001b[49m\u001b[38;5;28;43;01mNone\u001b[39;49;00m\u001b[43m)\u001b[49m\u001b[43m,\u001b[49m\n\u001b[1;32m   1889\u001b[0m \u001b[43m\u001b[49m\u001b[43m)\u001b[49m\n\u001b[1;32m   1890\u001b[0m \u001b[38;5;28;01massert\u001b[39;00m \u001b[38;5;28mself\u001b[39m\u001b[38;5;241m.\u001b[39mhandles \u001b[38;5;129;01mis\u001b[39;00m \u001b[38;5;129;01mnot\u001b[39;00m \u001b[38;5;28;01mNone\u001b[39;00m\n\u001b[1;32m   1891\u001b[0m f \u001b[38;5;241m=\u001b[39m \u001b[38;5;28mself\u001b[39m\u001b[38;5;241m.\u001b[39mhandles\u001b[38;5;241m.\u001b[39mhandle\n",
            "File \u001b[0;32m/Library/Frameworks/Python.framework/Versions/3.10/lib/python3.10/site-packages/pandas/io/common.py:728\u001b[0m, in \u001b[0;36mget_handle\u001b[0;34m(path_or_buf, mode, encoding, compression, memory_map, is_text, errors, storage_options)\u001b[0m\n\u001b[1;32m    725\u001b[0m     codecs\u001b[38;5;241m.\u001b[39mlookup_error(errors)\n\u001b[1;32m    727\u001b[0m \u001b[38;5;66;03m# open URLs\u001b[39;00m\n\u001b[0;32m--> 728\u001b[0m ioargs \u001b[38;5;241m=\u001b[39m \u001b[43m_get_filepath_or_buffer\u001b[49m\u001b[43m(\u001b[49m\n\u001b[1;32m    729\u001b[0m \u001b[43m    \u001b[49m\u001b[43mpath_or_buf\u001b[49m\u001b[43m,\u001b[49m\n\u001b[1;32m    730\u001b[0m \u001b[43m    \u001b[49m\u001b[43mencoding\u001b[49m\u001b[38;5;241;43m=\u001b[39;49m\u001b[43mencoding\u001b[49m\u001b[43m,\u001b[49m\n\u001b[1;32m    731\u001b[0m \u001b[43m    \u001b[49m\u001b[43mcompression\u001b[49m\u001b[38;5;241;43m=\u001b[39;49m\u001b[43mcompression\u001b[49m\u001b[43m,\u001b[49m\n\u001b[1;32m    732\u001b[0m \u001b[43m    \u001b[49m\u001b[43mmode\u001b[49m\u001b[38;5;241;43m=\u001b[39;49m\u001b[43mmode\u001b[49m\u001b[43m,\u001b[49m\n\u001b[1;32m    733\u001b[0m \u001b[43m    \u001b[49m\u001b[43mstorage_options\u001b[49m\u001b[38;5;241;43m=\u001b[39;49m\u001b[43mstorage_options\u001b[49m\u001b[43m,\u001b[49m\n\u001b[1;32m    734\u001b[0m \u001b[43m\u001b[49m\u001b[43m)\u001b[49m\n\u001b[1;32m    736\u001b[0m handle \u001b[38;5;241m=\u001b[39m ioargs\u001b[38;5;241m.\u001b[39mfilepath_or_buffer\n\u001b[1;32m    737\u001b[0m handles: \u001b[38;5;28mlist\u001b[39m[BaseBuffer]\n",
            "File \u001b[0;32m/Library/Frameworks/Python.framework/Versions/3.10/lib/python3.10/site-packages/pandas/io/common.py:384\u001b[0m, in \u001b[0;36m_get_filepath_or_buffer\u001b[0;34m(filepath_or_buffer, encoding, compression, mode, storage_options)\u001b[0m\n\u001b[1;32m    382\u001b[0m \u001b[38;5;66;03m# assuming storage_options is to be interpreted as headers\u001b[39;00m\n\u001b[1;32m    383\u001b[0m req_info \u001b[38;5;241m=\u001b[39m urllib\u001b[38;5;241m.\u001b[39mrequest\u001b[38;5;241m.\u001b[39mRequest(filepath_or_buffer, headers\u001b[38;5;241m=\u001b[39mstorage_options)\n\u001b[0;32m--> 384\u001b[0m \u001b[38;5;28;01mwith\u001b[39;00m \u001b[43murlopen\u001b[49m\u001b[43m(\u001b[49m\u001b[43mreq_info\u001b[49m\u001b[43m)\u001b[49m \u001b[38;5;28;01mas\u001b[39;00m req:\n\u001b[1;32m    385\u001b[0m     content_encoding \u001b[38;5;241m=\u001b[39m req\u001b[38;5;241m.\u001b[39mheaders\u001b[38;5;241m.\u001b[39mget(\u001b[38;5;124m\"\u001b[39m\u001b[38;5;124mContent-Encoding\u001b[39m\u001b[38;5;124m\"\u001b[39m, \u001b[38;5;28;01mNone\u001b[39;00m)\n\u001b[1;32m    386\u001b[0m     \u001b[38;5;28;01mif\u001b[39;00m content_encoding \u001b[38;5;241m==\u001b[39m \u001b[38;5;124m\"\u001b[39m\u001b[38;5;124mgzip\u001b[39m\u001b[38;5;124m\"\u001b[39m:\n\u001b[1;32m    387\u001b[0m         \u001b[38;5;66;03m# Override compression based on Content-Encoding header\u001b[39;00m\n",
            "File \u001b[0;32m/Library/Frameworks/Python.framework/Versions/3.10/lib/python3.10/site-packages/pandas/io/common.py:289\u001b[0m, in \u001b[0;36murlopen\u001b[0;34m(*args, **kwargs)\u001b[0m\n\u001b[1;32m    283\u001b[0m \u001b[38;5;250m\u001b[39m\u001b[38;5;124;03m\"\"\"\u001b[39;00m\n\u001b[1;32m    284\u001b[0m \u001b[38;5;124;03mLazy-import wrapper for stdlib urlopen, as that imports a big chunk of\u001b[39;00m\n\u001b[1;32m    285\u001b[0m \u001b[38;5;124;03mthe stdlib.\u001b[39;00m\n\u001b[1;32m    286\u001b[0m \u001b[38;5;124;03m\"\"\"\u001b[39;00m\n\u001b[1;32m    287\u001b[0m \u001b[38;5;28;01mimport\u001b[39;00m \u001b[38;5;21;01murllib\u001b[39;00m\u001b[38;5;21;01m.\u001b[39;00m\u001b[38;5;21;01mrequest\u001b[39;00m\n\u001b[0;32m--> 289\u001b[0m \u001b[38;5;28;01mreturn\u001b[39;00m \u001b[43murllib\u001b[49m\u001b[38;5;241;43m.\u001b[39;49m\u001b[43mrequest\u001b[49m\u001b[38;5;241;43m.\u001b[39;49m\u001b[43murlopen\u001b[49m\u001b[43m(\u001b[49m\u001b[38;5;241;43m*\u001b[39;49m\u001b[43margs\u001b[49m\u001b[43m,\u001b[49m\u001b[43m \u001b[49m\u001b[38;5;241;43m*\u001b[39;49m\u001b[38;5;241;43m*\u001b[39;49m\u001b[43mkwargs\u001b[49m\u001b[43m)\u001b[49m\n",
            "File \u001b[0;32m/Library/Frameworks/Python.framework/Versions/3.10/lib/python3.10/urllib/request.py:216\u001b[0m, in \u001b[0;36murlopen\u001b[0;34m(url, data, timeout, cafile, capath, cadefault, context)\u001b[0m\n\u001b[1;32m    214\u001b[0m \u001b[38;5;28;01melse\u001b[39;00m:\n\u001b[1;32m    215\u001b[0m     opener \u001b[38;5;241m=\u001b[39m _opener\n\u001b[0;32m--> 216\u001b[0m \u001b[38;5;28;01mreturn\u001b[39;00m \u001b[43mopener\u001b[49m\u001b[38;5;241;43m.\u001b[39;49m\u001b[43mopen\u001b[49m\u001b[43m(\u001b[49m\u001b[43murl\u001b[49m\u001b[43m,\u001b[49m\u001b[43m \u001b[49m\u001b[43mdata\u001b[49m\u001b[43m,\u001b[49m\u001b[43m \u001b[49m\u001b[43mtimeout\u001b[49m\u001b[43m)\u001b[49m\n",
            "File \u001b[0;32m/Library/Frameworks/Python.framework/Versions/3.10/lib/python3.10/urllib/request.py:519\u001b[0m, in \u001b[0;36mOpenerDirector.open\u001b[0;34m(self, fullurl, data, timeout)\u001b[0m\n\u001b[1;32m    516\u001b[0m     req \u001b[38;5;241m=\u001b[39m meth(req)\n\u001b[1;32m    518\u001b[0m sys\u001b[38;5;241m.\u001b[39maudit(\u001b[38;5;124m'\u001b[39m\u001b[38;5;124murllib.Request\u001b[39m\u001b[38;5;124m'\u001b[39m, req\u001b[38;5;241m.\u001b[39mfull_url, req\u001b[38;5;241m.\u001b[39mdata, req\u001b[38;5;241m.\u001b[39mheaders, req\u001b[38;5;241m.\u001b[39mget_method())\n\u001b[0;32m--> 519\u001b[0m response \u001b[38;5;241m=\u001b[39m \u001b[38;5;28;43mself\u001b[39;49m\u001b[38;5;241;43m.\u001b[39;49m\u001b[43m_open\u001b[49m\u001b[43m(\u001b[49m\u001b[43mreq\u001b[49m\u001b[43m,\u001b[49m\u001b[43m \u001b[49m\u001b[43mdata\u001b[49m\u001b[43m)\u001b[49m\n\u001b[1;32m    521\u001b[0m \u001b[38;5;66;03m# post-process response\u001b[39;00m\n\u001b[1;32m    522\u001b[0m meth_name \u001b[38;5;241m=\u001b[39m protocol\u001b[38;5;241m+\u001b[39m\u001b[38;5;124m\"\u001b[39m\u001b[38;5;124m_response\u001b[39m\u001b[38;5;124m\"\u001b[39m\n",
            "File \u001b[0;32m/Library/Frameworks/Python.framework/Versions/3.10/lib/python3.10/urllib/request.py:536\u001b[0m, in \u001b[0;36mOpenerDirector._open\u001b[0;34m(self, req, data)\u001b[0m\n\u001b[1;32m    533\u001b[0m     \u001b[38;5;28;01mreturn\u001b[39;00m result\n\u001b[1;32m    535\u001b[0m protocol \u001b[38;5;241m=\u001b[39m req\u001b[38;5;241m.\u001b[39mtype\n\u001b[0;32m--> 536\u001b[0m result \u001b[38;5;241m=\u001b[39m \u001b[38;5;28;43mself\u001b[39;49m\u001b[38;5;241;43m.\u001b[39;49m\u001b[43m_call_chain\u001b[49m\u001b[43m(\u001b[49m\u001b[38;5;28;43mself\u001b[39;49m\u001b[38;5;241;43m.\u001b[39;49m\u001b[43mhandle_open\u001b[49m\u001b[43m,\u001b[49m\u001b[43m \u001b[49m\u001b[43mprotocol\u001b[49m\u001b[43m,\u001b[49m\u001b[43m \u001b[49m\u001b[43mprotocol\u001b[49m\u001b[43m \u001b[49m\u001b[38;5;241;43m+\u001b[39;49m\n\u001b[1;32m    537\u001b[0m \u001b[43m                          \u001b[49m\u001b[38;5;124;43m'\u001b[39;49m\u001b[38;5;124;43m_open\u001b[39;49m\u001b[38;5;124;43m'\u001b[39;49m\u001b[43m,\u001b[49m\u001b[43m \u001b[49m\u001b[43mreq\u001b[49m\u001b[43m)\u001b[49m\n\u001b[1;32m    538\u001b[0m \u001b[38;5;28;01mif\u001b[39;00m result:\n\u001b[1;32m    539\u001b[0m     \u001b[38;5;28;01mreturn\u001b[39;00m result\n",
            "File \u001b[0;32m/Library/Frameworks/Python.framework/Versions/3.10/lib/python3.10/urllib/request.py:496\u001b[0m, in \u001b[0;36mOpenerDirector._call_chain\u001b[0;34m(self, chain, kind, meth_name, *args)\u001b[0m\n\u001b[1;32m    494\u001b[0m \u001b[38;5;28;01mfor\u001b[39;00m handler \u001b[38;5;129;01min\u001b[39;00m handlers:\n\u001b[1;32m    495\u001b[0m     func \u001b[38;5;241m=\u001b[39m \u001b[38;5;28mgetattr\u001b[39m(handler, meth_name)\n\u001b[0;32m--> 496\u001b[0m     result \u001b[38;5;241m=\u001b[39m \u001b[43mfunc\u001b[49m\u001b[43m(\u001b[49m\u001b[38;5;241;43m*\u001b[39;49m\u001b[43margs\u001b[49m\u001b[43m)\u001b[49m\n\u001b[1;32m    497\u001b[0m     \u001b[38;5;28;01mif\u001b[39;00m result \u001b[38;5;129;01mis\u001b[39;00m \u001b[38;5;129;01mnot\u001b[39;00m \u001b[38;5;28;01mNone\u001b[39;00m:\n\u001b[1;32m    498\u001b[0m         \u001b[38;5;28;01mreturn\u001b[39;00m result\n",
            "File \u001b[0;32m/Library/Frameworks/Python.framework/Versions/3.10/lib/python3.10/urllib/request.py:1391\u001b[0m, in \u001b[0;36mHTTPSHandler.https_open\u001b[0;34m(self, req)\u001b[0m\n\u001b[1;32m   1390\u001b[0m \u001b[38;5;28;01mdef\u001b[39;00m \u001b[38;5;21mhttps_open\u001b[39m(\u001b[38;5;28mself\u001b[39m, req):\n\u001b[0;32m-> 1391\u001b[0m     \u001b[38;5;28;01mreturn\u001b[39;00m \u001b[38;5;28;43mself\u001b[39;49m\u001b[38;5;241;43m.\u001b[39;49m\u001b[43mdo_open\u001b[49m\u001b[43m(\u001b[49m\u001b[43mhttp\u001b[49m\u001b[38;5;241;43m.\u001b[39;49m\u001b[43mclient\u001b[49m\u001b[38;5;241;43m.\u001b[39;49m\u001b[43mHTTPSConnection\u001b[49m\u001b[43m,\u001b[49m\u001b[43m \u001b[49m\u001b[43mreq\u001b[49m\u001b[43m,\u001b[49m\n\u001b[1;32m   1392\u001b[0m \u001b[43m        \u001b[49m\u001b[43mcontext\u001b[49m\u001b[38;5;241;43m=\u001b[39;49m\u001b[38;5;28;43mself\u001b[39;49m\u001b[38;5;241;43m.\u001b[39;49m\u001b[43m_context\u001b[49m\u001b[43m,\u001b[49m\u001b[43m \u001b[49m\u001b[43mcheck_hostname\u001b[49m\u001b[38;5;241;43m=\u001b[39;49m\u001b[38;5;28;43mself\u001b[39;49m\u001b[38;5;241;43m.\u001b[39;49m\u001b[43m_check_hostname\u001b[49m\u001b[43m)\u001b[49m\n",
            "File \u001b[0;32m/Library/Frameworks/Python.framework/Versions/3.10/lib/python3.10/urllib/request.py:1351\u001b[0m, in \u001b[0;36mAbstractHTTPHandler.do_open\u001b[0;34m(self, http_class, req, **http_conn_args)\u001b[0m\n\u001b[1;32m   1348\u001b[0m         h\u001b[38;5;241m.\u001b[39mrequest(req\u001b[38;5;241m.\u001b[39mget_method(), req\u001b[38;5;241m.\u001b[39mselector, req\u001b[38;5;241m.\u001b[39mdata, headers,\n\u001b[1;32m   1349\u001b[0m                   encode_chunked\u001b[38;5;241m=\u001b[39mreq\u001b[38;5;241m.\u001b[39mhas_header(\u001b[38;5;124m'\u001b[39m\u001b[38;5;124mTransfer-encoding\u001b[39m\u001b[38;5;124m'\u001b[39m))\n\u001b[1;32m   1350\u001b[0m     \u001b[38;5;28;01mexcept\u001b[39;00m \u001b[38;5;167;01mOSError\u001b[39;00m \u001b[38;5;28;01mas\u001b[39;00m err: \u001b[38;5;66;03m# timeout error\u001b[39;00m\n\u001b[0;32m-> 1351\u001b[0m         \u001b[38;5;28;01mraise\u001b[39;00m URLError(err)\n\u001b[1;32m   1352\u001b[0m     r \u001b[38;5;241m=\u001b[39m h\u001b[38;5;241m.\u001b[39mgetresponse()\n\u001b[1;32m   1353\u001b[0m \u001b[38;5;28;01mexcept\u001b[39;00m:\n",
            "\u001b[0;31mURLError\u001b[0m: <urlopen error [SSL: CERTIFICATE_VERIFY_FAILED] certificate verify failed: unable to get local issuer certificate (_ssl.c:997)>"
          ]
        }
      ],
      "source": [
        "df = pd.read_csv(\n",
        "    \"https://github.com/kaopanboonyuen/2110446_DataScience_2021s2/raw/main/datasets/sample.csv\"\n",
        ")\n",
        "df"
      ]
    },
    {
      "cell_type": "code",
      "execution_count": null,
      "metadata": {
        "id": "RMH6neN4iHBk",
        "outputId": "6974f9c8-b490-4b1b-e9ab-f79ebc004bd3"
      },
      "outputs": [
        {
          "data": {
            "text/html": [
              "<div>\n",
              "<style scoped>\n",
              "    .dataframe tbody tr th:only-of-type {\n",
              "        vertical-align: middle;\n",
              "    }\n",
              "\n",
              "    .dataframe tbody tr th {\n",
              "        vertical-align: top;\n",
              "    }\n",
              "\n",
              "    .dataframe thead th {\n",
              "        text-align: right;\n",
              "    }\n",
              "</style>\n",
              "<table border=\"1\" class=\"dataframe\">\n",
              "  <thead>\n",
              "    <tr style=\"text-align: right;\">\n",
              "      <th></th>\n",
              "      <th>province</th>\n",
              "      <th>year</th>\n",
              "      <th>population</th>\n",
              "    </tr>\n",
              "  </thead>\n",
              "  <tbody>\n",
              "    <tr>\n",
              "      <th>0</th>\n",
              "      <td>Chiang Mai</td>\n",
              "      <td>2016</td>\n",
              "      <td>1630428</td>\n",
              "    </tr>\n",
              "    <tr>\n",
              "      <th>1</th>\n",
              "      <td>Chiang Mai</td>\n",
              "      <td>2017</td>\n",
              "      <td>1664012</td>\n",
              "    </tr>\n",
              "    <tr>\n",
              "      <th>2</th>\n",
              "      <td>Chiang Mai</td>\n",
              "      <td>2018</td>\n",
              "      <td>1687971</td>\n",
              "    </tr>\n",
              "    <tr>\n",
              "      <th>3</th>\n",
              "      <td>Phrae</td>\n",
              "      <td>2016</td>\n",
              "      <td>398936</td>\n",
              "    </tr>\n",
              "    <tr>\n",
              "      <th>4</th>\n",
              "      <td>Phrae</td>\n",
              "      <td>2017</td>\n",
              "      <td>410382</td>\n",
              "    </tr>\n",
              "    <tr>\n",
              "      <th>5</th>\n",
              "      <td>Phrae</td>\n",
              "      <td>2018</td>\n",
              "      <td>421653</td>\n",
              "    </tr>\n",
              "  </tbody>\n",
              "</table>\n",
              "</div>"
            ],
            "text/plain": [
              "     province  year  population\n",
              "0  Chiang Mai  2016     1630428\n",
              "1  Chiang Mai  2017     1664012\n",
              "2  Chiang Mai  2018     1687971\n",
              "3       Phrae  2016      398936\n",
              "4       Phrae  2017      410382\n",
              "5       Phrae  2018      421653"
            ]
          },
          "execution_count": 94,
          "metadata": {},
          "output_type": "execute_result"
        }
      ],
      "source": [
        "df = pd.read_excel(\n",
        "    \"https://github.com/kaopanboonyuen/2110446_DataScience_2021s2/raw/main/datasets/sample.xlsx\",\n",
        "    sheet_name=\"sheet1\",\n",
        ")\n",
        "df"
      ]
    },
    {
      "cell_type": "code",
      "execution_count": null,
      "metadata": {
        "id": "S1lot6iDiHBn",
        "outputId": "1d4c58ff-19b3-4b02-83ea-c781740424d3"
      },
      "outputs": [
        {
          "data": {
            "text/html": [
              "<div>\n",
              "<style scoped>\n",
              "    .dataframe tbody tr th:only-of-type {\n",
              "        vertical-align: middle;\n",
              "    }\n",
              "\n",
              "    .dataframe tbody tr th {\n",
              "        vertical-align: top;\n",
              "    }\n",
              "\n",
              "    .dataframe thead th {\n",
              "        text-align: right;\n",
              "    }\n",
              "</style>\n",
              "<table border=\"1\" class=\"dataframe\">\n",
              "  <thead>\n",
              "    <tr style=\"text-align: right;\">\n",
              "      <th></th>\n",
              "      <th>TARGET_B</th>\n",
              "      <th>ID</th>\n",
              "      <th>TARGET_D</th>\n",
              "      <th>GiftCnt36</th>\n",
              "      <th>GiftCntAll</th>\n",
              "      <th>GiftCntCard36</th>\n",
              "      <th>GiftCntCardAll</th>\n",
              "      <th>GiftAvgLast</th>\n",
              "      <th>GiftAvg36</th>\n",
              "      <th>GiftAvgAll</th>\n",
              "      <th>...</th>\n",
              "      <th>PromCntCardAll</th>\n",
              "      <th>StatusCat96NK</th>\n",
              "      <th>StatusCatStarAll</th>\n",
              "      <th>DemCluster</th>\n",
              "      <th>DemAge</th>\n",
              "      <th>DemGender</th>\n",
              "      <th>DemHomeOwner</th>\n",
              "      <th>DemMedHomeValue</th>\n",
              "      <th>DemPctVeterans</th>\n",
              "      <th>DemMedIncome</th>\n",
              "    </tr>\n",
              "  </thead>\n",
              "  <tbody>\n",
              "    <tr>\n",
              "      <th>0</th>\n",
              "      <td>0.0</td>\n",
              "      <td>b'00014974'</td>\n",
              "      <td>NaN</td>\n",
              "      <td>2.0</td>\n",
              "      <td>4.0</td>\n",
              "      <td>1.0</td>\n",
              "      <td>3.0</td>\n",
              "      <td>17.0</td>\n",
              "      <td>13.50</td>\n",
              "      <td>9.25</td>\n",
              "      <td>...</td>\n",
              "      <td>13.0</td>\n",
              "      <td>b'A'</td>\n",
              "      <td>0.0</td>\n",
              "      <td>b'00'</td>\n",
              "      <td>NaN</td>\n",
              "      <td>b'F'</td>\n",
              "      <td>b'U'</td>\n",
              "      <td>0.0</td>\n",
              "      <td>0.0</td>\n",
              "      <td>0.0</td>\n",
              "    </tr>\n",
              "    <tr>\n",
              "      <th>1</th>\n",
              "      <td>0.0</td>\n",
              "      <td>b'00006294'</td>\n",
              "      <td>NaN</td>\n",
              "      <td>1.0</td>\n",
              "      <td>8.0</td>\n",
              "      <td>0.0</td>\n",
              "      <td>3.0</td>\n",
              "      <td>20.0</td>\n",
              "      <td>20.00</td>\n",
              "      <td>15.88</td>\n",
              "      <td>...</td>\n",
              "      <td>24.0</td>\n",
              "      <td>b'A'</td>\n",
              "      <td>0.0</td>\n",
              "      <td>b'23'</td>\n",
              "      <td>67.0</td>\n",
              "      <td>b'F'</td>\n",
              "      <td>b'U'</td>\n",
              "      <td>186800.0</td>\n",
              "      <td>85.0</td>\n",
              "      <td>0.0</td>\n",
              "    </tr>\n",
              "    <tr>\n",
              "      <th>2</th>\n",
              "      <td>1.0</td>\n",
              "      <td>b'00046110'</td>\n",
              "      <td>4.0</td>\n",
              "      <td>6.0</td>\n",
              "      <td>41.0</td>\n",
              "      <td>3.0</td>\n",
              "      <td>20.0</td>\n",
              "      <td>6.0</td>\n",
              "      <td>5.17</td>\n",
              "      <td>3.73</td>\n",
              "      <td>...</td>\n",
              "      <td>22.0</td>\n",
              "      <td>b'S'</td>\n",
              "      <td>1.0</td>\n",
              "      <td>b'00'</td>\n",
              "      <td>NaN</td>\n",
              "      <td>b'M'</td>\n",
              "      <td>b'U'</td>\n",
              "      <td>87600.0</td>\n",
              "      <td>36.0</td>\n",
              "      <td>38750.0</td>\n",
              "    </tr>\n",
              "    <tr>\n",
              "      <th>3</th>\n",
              "      <td>1.0</td>\n",
              "      <td>b'00185937'</td>\n",
              "      <td>10.0</td>\n",
              "      <td>3.0</td>\n",
              "      <td>12.0</td>\n",
              "      <td>3.0</td>\n",
              "      <td>8.0</td>\n",
              "      <td>10.0</td>\n",
              "      <td>8.67</td>\n",
              "      <td>8.50</td>\n",
              "      <td>...</td>\n",
              "      <td>16.0</td>\n",
              "      <td>b'E'</td>\n",
              "      <td>1.0</td>\n",
              "      <td>b'00'</td>\n",
              "      <td>NaN</td>\n",
              "      <td>b'M'</td>\n",
              "      <td>b'U'</td>\n",
              "      <td>139200.0</td>\n",
              "      <td>27.0</td>\n",
              "      <td>38942.0</td>\n",
              "    </tr>\n",
              "    <tr>\n",
              "      <th>4</th>\n",
              "      <td>0.0</td>\n",
              "      <td>b'00029637'</td>\n",
              "      <td>NaN</td>\n",
              "      <td>1.0</td>\n",
              "      <td>1.0</td>\n",
              "      <td>1.0</td>\n",
              "      <td>1.0</td>\n",
              "      <td>20.0</td>\n",
              "      <td>20.00</td>\n",
              "      <td>20.00</td>\n",
              "      <td>...</td>\n",
              "      <td>6.0</td>\n",
              "      <td>b'F'</td>\n",
              "      <td>0.0</td>\n",
              "      <td>b'35'</td>\n",
              "      <td>53.0</td>\n",
              "      <td>b'M'</td>\n",
              "      <td>b'U'</td>\n",
              "      <td>168100.0</td>\n",
              "      <td>37.0</td>\n",
              "      <td>71509.0</td>\n",
              "    </tr>\n",
              "    <tr>\n",
              "      <th>...</th>\n",
              "      <td>...</td>\n",
              "      <td>...</td>\n",
              "      <td>...</td>\n",
              "      <td>...</td>\n",
              "      <td>...</td>\n",
              "      <td>...</td>\n",
              "      <td>...</td>\n",
              "      <td>...</td>\n",
              "      <td>...</td>\n",
              "      <td>...</td>\n",
              "      <td>...</td>\n",
              "      <td>...</td>\n",
              "      <td>...</td>\n",
              "      <td>...</td>\n",
              "      <td>...</td>\n",
              "      <td>...</td>\n",
              "      <td>...</td>\n",
              "      <td>...</td>\n",
              "      <td>...</td>\n",
              "      <td>...</td>\n",
              "      <td>...</td>\n",
              "    </tr>\n",
              "    <tr>\n",
              "      <th>9681</th>\n",
              "      <td>1.0</td>\n",
              "      <td>b'00002796'</td>\n",
              "      <td>25.0</td>\n",
              "      <td>2.0</td>\n",
              "      <td>2.0</td>\n",
              "      <td>2.0</td>\n",
              "      <td>2.0</td>\n",
              "      <td>10.0</td>\n",
              "      <td>15.00</td>\n",
              "      <td>15.00</td>\n",
              "      <td>...</td>\n",
              "      <td>11.0</td>\n",
              "      <td>b'N'</td>\n",
              "      <td>0.0</td>\n",
              "      <td>b'44'</td>\n",
              "      <td>NaN</td>\n",
              "      <td>b'M'</td>\n",
              "      <td>b'H'</td>\n",
              "      <td>68200.0</td>\n",
              "      <td>38.0</td>\n",
              "      <td>45909.0</td>\n",
              "    </tr>\n",
              "    <tr>\n",
              "      <th>9682</th>\n",
              "      <td>0.0</td>\n",
              "      <td>b'00184939'</td>\n",
              "      <td>NaN</td>\n",
              "      <td>3.0</td>\n",
              "      <td>4.0</td>\n",
              "      <td>1.0</td>\n",
              "      <td>1.0</td>\n",
              "      <td>10.0</td>\n",
              "      <td>13.33</td>\n",
              "      <td>11.50</td>\n",
              "      <td>...</td>\n",
              "      <td>13.0</td>\n",
              "      <td>b'A'</td>\n",
              "      <td>0.0</td>\n",
              "      <td>b'44'</td>\n",
              "      <td>NaN</td>\n",
              "      <td>b'U'</td>\n",
              "      <td>b'H'</td>\n",
              "      <td>71900.0</td>\n",
              "      <td>35.0</td>\n",
              "      <td>50530.0</td>\n",
              "    </tr>\n",
              "    <tr>\n",
              "      <th>9683</th>\n",
              "      <td>1.0</td>\n",
              "      <td>b'00184974'</td>\n",
              "      <td>10.0</td>\n",
              "      <td>9.0</td>\n",
              "      <td>14.0</td>\n",
              "      <td>5.0</td>\n",
              "      <td>7.0</td>\n",
              "      <td>10.0</td>\n",
              "      <td>8.78</td>\n",
              "      <td>7.71</td>\n",
              "      <td>...</td>\n",
              "      <td>18.0</td>\n",
              "      <td>b'S'</td>\n",
              "      <td>1.0</td>\n",
              "      <td>b'40'</td>\n",
              "      <td>71.0</td>\n",
              "      <td>b'F'</td>\n",
              "      <td>b'H'</td>\n",
              "      <td>115700.0</td>\n",
              "      <td>32.0</td>\n",
              "      <td>0.0</td>\n",
              "    </tr>\n",
              "    <tr>\n",
              "      <th>9684</th>\n",
              "      <td>0.0</td>\n",
              "      <td>b'00184994'</td>\n",
              "      <td>NaN</td>\n",
              "      <td>2.0</td>\n",
              "      <td>7.0</td>\n",
              "      <td>0.0</td>\n",
              "      <td>1.0</td>\n",
              "      <td>5.0</td>\n",
              "      <td>12.50</td>\n",
              "      <td>7.43</td>\n",
              "      <td>...</td>\n",
              "      <td>16.0</td>\n",
              "      <td>b'A'</td>\n",
              "      <td>0.0</td>\n",
              "      <td>b'40'</td>\n",
              "      <td>NaN</td>\n",
              "      <td>b'M'</td>\n",
              "      <td>b'H'</td>\n",
              "      <td>106300.0</td>\n",
              "      <td>32.0</td>\n",
              "      <td>62717.0</td>\n",
              "    </tr>\n",
              "    <tr>\n",
              "      <th>9685</th>\n",
              "      <td>0.0</td>\n",
              "      <td>b'00001928'</td>\n",
              "      <td>NaN</td>\n",
              "      <td>8.0</td>\n",
              "      <td>15.0</td>\n",
              "      <td>7.0</td>\n",
              "      <td>10.0</td>\n",
              "      <td>5.0</td>\n",
              "      <td>4.88</td>\n",
              "      <td>4.53</td>\n",
              "      <td>...</td>\n",
              "      <td>21.0</td>\n",
              "      <td>b'A'</td>\n",
              "      <td>1.0</td>\n",
              "      <td>b'38'</td>\n",
              "      <td>81.0</td>\n",
              "      <td>b'F'</td>\n",
              "      <td>b'H'</td>\n",
              "      <td>110400.0</td>\n",
              "      <td>36.0</td>\n",
              "      <td>59813.0</td>\n",
              "    </tr>\n",
              "  </tbody>\n",
              "</table>\n",
              "<p>9686 rows × 28 columns</p>\n",
              "</div>"
            ],
            "text/plain": [
              "      TARGET_B           ID  TARGET_D  GiftCnt36  GiftCntAll  GiftCntCard36  \\\n",
              "0          0.0  b'00014974'       NaN        2.0         4.0            1.0   \n",
              "1          0.0  b'00006294'       NaN        1.0         8.0            0.0   \n",
              "2          1.0  b'00046110'       4.0        6.0        41.0            3.0   \n",
              "3          1.0  b'00185937'      10.0        3.0        12.0            3.0   \n",
              "4          0.0  b'00029637'       NaN        1.0         1.0            1.0   \n",
              "...        ...          ...       ...        ...         ...            ...   \n",
              "9681       1.0  b'00002796'      25.0        2.0         2.0            2.0   \n",
              "9682       0.0  b'00184939'       NaN        3.0         4.0            1.0   \n",
              "9683       1.0  b'00184974'      10.0        9.0        14.0            5.0   \n",
              "9684       0.0  b'00184994'       NaN        2.0         7.0            0.0   \n",
              "9685       0.0  b'00001928'       NaN        8.0        15.0            7.0   \n",
              "\n",
              "      GiftCntCardAll  GiftAvgLast  GiftAvg36  GiftAvgAll  ...  PromCntCardAll  \\\n",
              "0                3.0         17.0      13.50        9.25  ...            13.0   \n",
              "1                3.0         20.0      20.00       15.88  ...            24.0   \n",
              "2               20.0          6.0       5.17        3.73  ...            22.0   \n",
              "3                8.0         10.0       8.67        8.50  ...            16.0   \n",
              "4                1.0         20.0      20.00       20.00  ...             6.0   \n",
              "...              ...          ...        ...         ...  ...             ...   \n",
              "9681             2.0         10.0      15.00       15.00  ...            11.0   \n",
              "9682             1.0         10.0      13.33       11.50  ...            13.0   \n",
              "9683             7.0         10.0       8.78        7.71  ...            18.0   \n",
              "9684             1.0          5.0      12.50        7.43  ...            16.0   \n",
              "9685            10.0          5.0       4.88        4.53  ...            21.0   \n",
              "\n",
              "      StatusCat96NK  StatusCatStarAll  DemCluster  DemAge  DemGender  \\\n",
              "0              b'A'               0.0       b'00'     NaN       b'F'   \n",
              "1              b'A'               0.0       b'23'    67.0       b'F'   \n",
              "2              b'S'               1.0       b'00'     NaN       b'M'   \n",
              "3              b'E'               1.0       b'00'     NaN       b'M'   \n",
              "4              b'F'               0.0       b'35'    53.0       b'M'   \n",
              "...             ...               ...         ...     ...        ...   \n",
              "9681           b'N'               0.0       b'44'     NaN       b'M'   \n",
              "9682           b'A'               0.0       b'44'     NaN       b'U'   \n",
              "9683           b'S'               1.0       b'40'    71.0       b'F'   \n",
              "9684           b'A'               0.0       b'40'     NaN       b'M'   \n",
              "9685           b'A'               1.0       b'38'    81.0       b'F'   \n",
              "\n",
              "      DemHomeOwner  DemMedHomeValue  DemPctVeterans DemMedIncome  \n",
              "0             b'U'              0.0             0.0          0.0  \n",
              "1             b'U'         186800.0            85.0          0.0  \n",
              "2             b'U'          87600.0            36.0      38750.0  \n",
              "3             b'U'         139200.0            27.0      38942.0  \n",
              "4             b'U'         168100.0            37.0      71509.0  \n",
              "...            ...              ...             ...          ...  \n",
              "9681          b'H'          68200.0            38.0      45909.0  \n",
              "9682          b'H'          71900.0            35.0      50530.0  \n",
              "9683          b'H'         115700.0            32.0          0.0  \n",
              "9684          b'H'         106300.0            32.0      62717.0  \n",
              "9685          b'H'         110400.0            36.0      59813.0  \n",
              "\n",
              "[9686 rows x 28 columns]"
            ]
          },
          "execution_count": 95,
          "metadata": {},
          "output_type": "execute_result"
        }
      ],
      "source": [
        "df2 = pd.read_sas(\n",
        "    \"https://github.com/kaopanboonyuen/2110446_DataScience_2021s2/raw/main/datasets/pva97nk.sas7bdat\"\n",
        ")\n",
        "df2"
      ]
    },
    {
      "cell_type": "markdown",
      "metadata": {
        "id": "D7rfb2HviHBq"
      },
      "source": [
        "### Write File"
      ]
    },
    {
      "cell_type": "code",
      "execution_count": null,
      "metadata": {
        "id": "3NI4bcRKiHBq"
      },
      "outputs": [],
      "source": [
        "df.to_csv(\"sample_test.csv\", index=False)"
      ]
    },
    {
      "cell_type": "code",
      "execution_count": null,
      "metadata": {
        "id": "jZq9ckbeiHBt"
      },
      "outputs": [],
      "source": [
        "df.to_excel(\"sample_test.xlsx\", sheet_name=\"sheet1\", index=False)"
      ]
    },
    {
      "cell_type": "markdown",
      "metadata": {
        "id": "lspQn9feiHBv"
      },
      "source": [
        "## Index"
      ]
    },
    {
      "cell_type": "code",
      "execution_count": null,
      "metadata": {
        "id": "JXkhA468iHBv",
        "outputId": "955255a0-7e8f-4286-bd1b-6feb82773110"
      },
      "outputs": [
        {
          "data": {
            "text/html": [
              "<div>\n",
              "<style scoped>\n",
              "    .dataframe tbody tr th:only-of-type {\n",
              "        vertical-align: middle;\n",
              "    }\n",
              "\n",
              "    .dataframe tbody tr th {\n",
              "        vertical-align: top;\n",
              "    }\n",
              "\n",
              "    .dataframe thead th {\n",
              "        text-align: right;\n",
              "    }\n",
              "</style>\n",
              "<table border=\"1\" class=\"dataframe\">\n",
              "  <thead>\n",
              "    <tr style=\"text-align: right;\">\n",
              "      <th></th>\n",
              "      <th>year</th>\n",
              "      <th>population</th>\n",
              "    </tr>\n",
              "    <tr>\n",
              "      <th>province</th>\n",
              "      <th></th>\n",
              "      <th></th>\n",
              "    </tr>\n",
              "  </thead>\n",
              "  <tbody>\n",
              "    <tr>\n",
              "      <th>Chiang Mai</th>\n",
              "      <td>2016</td>\n",
              "      <td>1630428</td>\n",
              "    </tr>\n",
              "    <tr>\n",
              "      <th>Chiang Mai</th>\n",
              "      <td>2017</td>\n",
              "      <td>1664012</td>\n",
              "    </tr>\n",
              "    <tr>\n",
              "      <th>Chiang Mai</th>\n",
              "      <td>2018</td>\n",
              "      <td>1687971</td>\n",
              "    </tr>\n",
              "    <tr>\n",
              "      <th>Phrae</th>\n",
              "      <td>2016</td>\n",
              "      <td>398936</td>\n",
              "    </tr>\n",
              "    <tr>\n",
              "      <th>Phrae</th>\n",
              "      <td>2017</td>\n",
              "      <td>410382</td>\n",
              "    </tr>\n",
              "    <tr>\n",
              "      <th>Phrae</th>\n",
              "      <td>2018</td>\n",
              "      <td>421653</td>\n",
              "    </tr>\n",
              "  </tbody>\n",
              "</table>\n",
              "</div>"
            ],
            "text/plain": [
              "            year  population\n",
              "province                    \n",
              "Chiang Mai  2016     1630428\n",
              "Chiang Mai  2017     1664012\n",
              "Chiang Mai  2018     1687971\n",
              "Phrae       2016      398936\n",
              "Phrae       2017      410382\n",
              "Phrae       2018      421653"
            ]
          },
          "execution_count": 98,
          "metadata": {},
          "output_type": "execute_result"
        }
      ],
      "source": [
        "# Index\n",
        "df.set_index(\"province\")"
      ]
    },
    {
      "cell_type": "code",
      "execution_count": null,
      "metadata": {
        "id": "iyv_jiVLiHB2",
        "outputId": "8052302e-7ae0-46de-ba4b-c557ef2d0516"
      },
      "outputs": [
        {
          "data": {
            "text/html": [
              "<div>\n",
              "<style scoped>\n",
              "    .dataframe tbody tr th:only-of-type {\n",
              "        vertical-align: middle;\n",
              "    }\n",
              "\n",
              "    .dataframe tbody tr th {\n",
              "        vertical-align: top;\n",
              "    }\n",
              "\n",
              "    .dataframe thead th {\n",
              "        text-align: right;\n",
              "    }\n",
              "</style>\n",
              "<table border=\"1\" class=\"dataframe\">\n",
              "  <thead>\n",
              "    <tr style=\"text-align: right;\">\n",
              "      <th></th>\n",
              "      <th></th>\n",
              "      <th>population</th>\n",
              "    </tr>\n",
              "    <tr>\n",
              "      <th>province</th>\n",
              "      <th>year</th>\n",
              "      <th></th>\n",
              "    </tr>\n",
              "  </thead>\n",
              "  <tbody>\n",
              "    <tr>\n",
              "      <th rowspan=\"3\" valign=\"top\">Chiang Mai</th>\n",
              "      <th>2016</th>\n",
              "      <td>1630428</td>\n",
              "    </tr>\n",
              "    <tr>\n",
              "      <th>2017</th>\n",
              "      <td>1664012</td>\n",
              "    </tr>\n",
              "    <tr>\n",
              "      <th>2018</th>\n",
              "      <td>1687971</td>\n",
              "    </tr>\n",
              "    <tr>\n",
              "      <th rowspan=\"3\" valign=\"top\">Phrae</th>\n",
              "      <th>2016</th>\n",
              "      <td>398936</td>\n",
              "    </tr>\n",
              "    <tr>\n",
              "      <th>2017</th>\n",
              "      <td>410382</td>\n",
              "    </tr>\n",
              "    <tr>\n",
              "      <th>2018</th>\n",
              "      <td>421653</td>\n",
              "    </tr>\n",
              "  </tbody>\n",
              "</table>\n",
              "</div>"
            ],
            "text/plain": [
              "                 population\n",
              "province   year            \n",
              "Chiang Mai 2016     1630428\n",
              "           2017     1664012\n",
              "           2018     1687971\n",
              "Phrae      2016      398936\n",
              "           2017      410382\n",
              "           2018      421653"
            ]
          },
          "execution_count": 99,
          "metadata": {},
          "output_type": "execute_result"
        }
      ],
      "source": [
        "# Index\n",
        "df2 = df.set_index([\"province\", \"year\"])\n",
        "df2"
      ]
    },
    {
      "cell_type": "code",
      "execution_count": null,
      "metadata": {
        "id": "DRNlEBhdiHB7",
        "outputId": "ab1c7799-9bd3-4ae5-e034-5d59e44a92bb",
        "scrolled": true
      },
      "outputs": [
        {
          "data": {
            "text/html": [
              "<div>\n",
              "<style scoped>\n",
              "    .dataframe tbody tr th:only-of-type {\n",
              "        vertical-align: middle;\n",
              "    }\n",
              "\n",
              "    .dataframe tbody tr th {\n",
              "        vertical-align: top;\n",
              "    }\n",
              "\n",
              "    .dataframe thead th {\n",
              "        text-align: right;\n",
              "    }\n",
              "</style>\n",
              "<table border=\"1\" class=\"dataframe\">\n",
              "  <thead>\n",
              "    <tr style=\"text-align: right;\">\n",
              "      <th></th>\n",
              "      <th>province</th>\n",
              "      <th>year</th>\n",
              "      <th>population</th>\n",
              "    </tr>\n",
              "  </thead>\n",
              "  <tbody>\n",
              "    <tr>\n",
              "      <th>0</th>\n",
              "      <td>Chiang Mai</td>\n",
              "      <td>2016</td>\n",
              "      <td>1630428</td>\n",
              "    </tr>\n",
              "    <tr>\n",
              "      <th>1</th>\n",
              "      <td>Chiang Mai</td>\n",
              "      <td>2017</td>\n",
              "      <td>1664012</td>\n",
              "    </tr>\n",
              "    <tr>\n",
              "      <th>2</th>\n",
              "      <td>Chiang Mai</td>\n",
              "      <td>2018</td>\n",
              "      <td>1687971</td>\n",
              "    </tr>\n",
              "    <tr>\n",
              "      <th>3</th>\n",
              "      <td>Phrae</td>\n",
              "      <td>2016</td>\n",
              "      <td>398936</td>\n",
              "    </tr>\n",
              "    <tr>\n",
              "      <th>4</th>\n",
              "      <td>Phrae</td>\n",
              "      <td>2017</td>\n",
              "      <td>410382</td>\n",
              "    </tr>\n",
              "    <tr>\n",
              "      <th>5</th>\n",
              "      <td>Phrae</td>\n",
              "      <td>2018</td>\n",
              "      <td>421653</td>\n",
              "    </tr>\n",
              "  </tbody>\n",
              "</table>\n",
              "</div>"
            ],
            "text/plain": [
              "     province  year  population\n",
              "0  Chiang Mai  2016     1630428\n",
              "1  Chiang Mai  2017     1664012\n",
              "2  Chiang Mai  2018     1687971\n",
              "3       Phrae  2016      398936\n",
              "4       Phrae  2017      410382\n",
              "5       Phrae  2018      421653"
            ]
          },
          "execution_count": 100,
          "metadata": {},
          "output_type": "execute_result"
        }
      ],
      "source": [
        "df2.reset_index()"
      ]
    },
    {
      "cell_type": "markdown",
      "metadata": {
        "id": "ZzoKCDfYiHB-"
      },
      "source": [
        "## Inspecting Data"
      ]
    },
    {
      "cell_type": "markdown",
      "metadata": {
        "id": "rqaJ-bqciHB_"
      },
      "source": [
        "### Row"
      ]
    },
    {
      "cell_type": "markdown",
      "metadata": {
        "id": "NZ_7JT0CiHB_"
      },
      "source": [
        "#### View"
      ]
    },
    {
      "cell_type": "code",
      "execution_count": null,
      "metadata": {
        "id": "rVDMNZ60iHB_",
        "outputId": "60328cd3-4ac9-418e-d5e6-ca78443ded6e"
      },
      "outputs": [
        {
          "data": {
            "text/html": [
              "<div>\n",
              "<style scoped>\n",
              "    .dataframe tbody tr th:only-of-type {\n",
              "        vertical-align: middle;\n",
              "    }\n",
              "\n",
              "    .dataframe tbody tr th {\n",
              "        vertical-align: top;\n",
              "    }\n",
              "\n",
              "    .dataframe thead th {\n",
              "        text-align: right;\n",
              "    }\n",
              "</style>\n",
              "<table border=\"1\" class=\"dataframe\">\n",
              "  <thead>\n",
              "    <tr style=\"text-align: right;\">\n",
              "      <th></th>\n",
              "      <th>province</th>\n",
              "      <th>year</th>\n",
              "      <th>population</th>\n",
              "    </tr>\n",
              "  </thead>\n",
              "  <tbody>\n",
              "    <tr>\n",
              "      <th>0</th>\n",
              "      <td>Chiang Mai</td>\n",
              "      <td>2016</td>\n",
              "      <td>1630428</td>\n",
              "    </tr>\n",
              "    <tr>\n",
              "      <th>1</th>\n",
              "      <td>Chiang Mai</td>\n",
              "      <td>2017</td>\n",
              "      <td>1664012</td>\n",
              "    </tr>\n",
              "    <tr>\n",
              "      <th>2</th>\n",
              "      <td>Chiang Mai</td>\n",
              "      <td>2018</td>\n",
              "      <td>1687971</td>\n",
              "    </tr>\n",
              "  </tbody>\n",
              "</table>\n",
              "</div>"
            ],
            "text/plain": [
              "     province  year  population\n",
              "0  Chiang Mai  2016     1630428\n",
              "1  Chiang Mai  2017     1664012\n",
              "2  Chiang Mai  2018     1687971"
            ]
          },
          "execution_count": 101,
          "metadata": {},
          "output_type": "execute_result"
        }
      ],
      "source": [
        "df.head(3)"
      ]
    },
    {
      "cell_type": "code",
      "execution_count": null,
      "metadata": {
        "id": "luFo6_ePiHCC",
        "outputId": "909a2c5f-c408-4528-ace1-549793950839"
      },
      "outputs": [
        {
          "data": {
            "text/html": [
              "<div>\n",
              "<style scoped>\n",
              "    .dataframe tbody tr th:only-of-type {\n",
              "        vertical-align: middle;\n",
              "    }\n",
              "\n",
              "    .dataframe tbody tr th {\n",
              "        vertical-align: top;\n",
              "    }\n",
              "\n",
              "    .dataframe thead th {\n",
              "        text-align: right;\n",
              "    }\n",
              "</style>\n",
              "<table border=\"1\" class=\"dataframe\">\n",
              "  <thead>\n",
              "    <tr style=\"text-align: right;\">\n",
              "      <th></th>\n",
              "      <th>province</th>\n",
              "      <th>year</th>\n",
              "      <th>population</th>\n",
              "    </tr>\n",
              "  </thead>\n",
              "  <tbody>\n",
              "    <tr>\n",
              "      <th>3</th>\n",
              "      <td>Phrae</td>\n",
              "      <td>2016</td>\n",
              "      <td>398936</td>\n",
              "    </tr>\n",
              "    <tr>\n",
              "      <th>4</th>\n",
              "      <td>Phrae</td>\n",
              "      <td>2017</td>\n",
              "      <td>410382</td>\n",
              "    </tr>\n",
              "    <tr>\n",
              "      <th>5</th>\n",
              "      <td>Phrae</td>\n",
              "      <td>2018</td>\n",
              "      <td>421653</td>\n",
              "    </tr>\n",
              "  </tbody>\n",
              "</table>\n",
              "</div>"
            ],
            "text/plain": [
              "  province  year  population\n",
              "3    Phrae  2016      398936\n",
              "4    Phrae  2017      410382\n",
              "5    Phrae  2018      421653"
            ]
          },
          "execution_count": 102,
          "metadata": {},
          "output_type": "execute_result"
        }
      ],
      "source": [
        "df.tail(3)"
      ]
    },
    {
      "cell_type": "markdown",
      "metadata": {
        "id": "Vys2BQhkiHCH"
      },
      "source": [
        "#### Sample"
      ]
    },
    {
      "cell_type": "code",
      "execution_count": null,
      "metadata": {
        "id": "sEBkpnwFiHCI",
        "outputId": "a3aeb35d-cbd3-488a-8916-5acd7f0d6c54"
      },
      "outputs": [
        {
          "data": {
            "text/html": [
              "<div>\n",
              "<style scoped>\n",
              "    .dataframe tbody tr th:only-of-type {\n",
              "        vertical-align: middle;\n",
              "    }\n",
              "\n",
              "    .dataframe tbody tr th {\n",
              "        vertical-align: top;\n",
              "    }\n",
              "\n",
              "    .dataframe thead th {\n",
              "        text-align: right;\n",
              "    }\n",
              "</style>\n",
              "<table border=\"1\" class=\"dataframe\">\n",
              "  <thead>\n",
              "    <tr style=\"text-align: right;\">\n",
              "      <th></th>\n",
              "      <th>province</th>\n",
              "      <th>year</th>\n",
              "      <th>population</th>\n",
              "    </tr>\n",
              "  </thead>\n",
              "  <tbody>\n",
              "    <tr>\n",
              "      <th>3</th>\n",
              "      <td>Phrae</td>\n",
              "      <td>2016</td>\n",
              "      <td>398936</td>\n",
              "    </tr>\n",
              "    <tr>\n",
              "      <th>2</th>\n",
              "      <td>Chiang Mai</td>\n",
              "      <td>2018</td>\n",
              "      <td>1687971</td>\n",
              "    </tr>\n",
              "    <tr>\n",
              "      <th>0</th>\n",
              "      <td>Chiang Mai</td>\n",
              "      <td>2016</td>\n",
              "      <td>1630428</td>\n",
              "    </tr>\n",
              "  </tbody>\n",
              "</table>\n",
              "</div>"
            ],
            "text/plain": [
              "     province  year  population\n",
              "3       Phrae  2016      398936\n",
              "2  Chiang Mai  2018     1687971\n",
              "0  Chiang Mai  2016     1630428"
            ]
          },
          "metadata": {},
          "output_type": "display_data"
        },
        {
          "data": {
            "text/html": [
              "<div>\n",
              "<style scoped>\n",
              "    .dataframe tbody tr th:only-of-type {\n",
              "        vertical-align: middle;\n",
              "    }\n",
              "\n",
              "    .dataframe tbody tr th {\n",
              "        vertical-align: top;\n",
              "    }\n",
              "\n",
              "    .dataframe thead th {\n",
              "        text-align: right;\n",
              "    }\n",
              "</style>\n",
              "<table border=\"1\" class=\"dataframe\">\n",
              "  <thead>\n",
              "    <tr style=\"text-align: right;\">\n",
              "      <th></th>\n",
              "      <th>province</th>\n",
              "      <th>year</th>\n",
              "      <th>population</th>\n",
              "    </tr>\n",
              "  </thead>\n",
              "  <tbody>\n",
              "    <tr>\n",
              "      <th>0</th>\n",
              "      <td>Chiang Mai</td>\n",
              "      <td>2016</td>\n",
              "      <td>1630428</td>\n",
              "    </tr>\n",
              "    <tr>\n",
              "      <th>4</th>\n",
              "      <td>Phrae</td>\n",
              "      <td>2017</td>\n",
              "      <td>410382</td>\n",
              "    </tr>\n",
              "    <tr>\n",
              "      <th>1</th>\n",
              "      <td>Chiang Mai</td>\n",
              "      <td>2017</td>\n",
              "      <td>1664012</td>\n",
              "    </tr>\n",
              "  </tbody>\n",
              "</table>\n",
              "</div>"
            ],
            "text/plain": [
              "     province  year  population\n",
              "0  Chiang Mai  2016     1630428\n",
              "4       Phrae  2017      410382\n",
              "1  Chiang Mai  2017     1664012"
            ]
          },
          "metadata": {},
          "output_type": "display_data"
        }
      ],
      "source": [
        "# Random\n",
        "display(df.sample(3))\n",
        "display(df.sample(3))"
      ]
    },
    {
      "cell_type": "code",
      "execution_count": null,
      "metadata": {
        "id": "DrSZIDKAiHCM",
        "outputId": "cda72ae6-ec23-4d52-ee85-f215d5de3d4f"
      },
      "outputs": [
        {
          "data": {
            "text/html": [
              "<div>\n",
              "<style scoped>\n",
              "    .dataframe tbody tr th:only-of-type {\n",
              "        vertical-align: middle;\n",
              "    }\n",
              "\n",
              "    .dataframe tbody tr th {\n",
              "        vertical-align: top;\n",
              "    }\n",
              "\n",
              "    .dataframe thead th {\n",
              "        text-align: right;\n",
              "    }\n",
              "</style>\n",
              "<table border=\"1\" class=\"dataframe\">\n",
              "  <thead>\n",
              "    <tr style=\"text-align: right;\">\n",
              "      <th></th>\n",
              "      <th>province</th>\n",
              "      <th>year</th>\n",
              "      <th>population</th>\n",
              "    </tr>\n",
              "  </thead>\n",
              "  <tbody>\n",
              "    <tr>\n",
              "      <th>1</th>\n",
              "      <td>Chiang Mai</td>\n",
              "      <td>2017</td>\n",
              "      <td>1664012</td>\n",
              "    </tr>\n",
              "    <tr>\n",
              "      <th>3</th>\n",
              "      <td>Phrae</td>\n",
              "      <td>2016</td>\n",
              "      <td>398936</td>\n",
              "    </tr>\n",
              "    <tr>\n",
              "      <th>4</th>\n",
              "      <td>Phrae</td>\n",
              "      <td>2017</td>\n",
              "      <td>410382</td>\n",
              "    </tr>\n",
              "  </tbody>\n",
              "</table>\n",
              "</div>"
            ],
            "text/plain": [
              "     province  year  population\n",
              "1  Chiang Mai  2017     1664012\n",
              "3       Phrae  2016      398936\n",
              "4       Phrae  2017      410382"
            ]
          },
          "metadata": {},
          "output_type": "display_data"
        },
        {
          "data": {
            "text/html": [
              "<div>\n",
              "<style scoped>\n",
              "    .dataframe tbody tr th:only-of-type {\n",
              "        vertical-align: middle;\n",
              "    }\n",
              "\n",
              "    .dataframe tbody tr th {\n",
              "        vertical-align: top;\n",
              "    }\n",
              "\n",
              "    .dataframe thead th {\n",
              "        text-align: right;\n",
              "    }\n",
              "</style>\n",
              "<table border=\"1\" class=\"dataframe\">\n",
              "  <thead>\n",
              "    <tr style=\"text-align: right;\">\n",
              "      <th></th>\n",
              "      <th>province</th>\n",
              "      <th>year</th>\n",
              "      <th>population</th>\n",
              "    </tr>\n",
              "  </thead>\n",
              "  <tbody>\n",
              "    <tr>\n",
              "      <th>1</th>\n",
              "      <td>Chiang Mai</td>\n",
              "      <td>2017</td>\n",
              "      <td>1664012</td>\n",
              "    </tr>\n",
              "    <tr>\n",
              "      <th>3</th>\n",
              "      <td>Phrae</td>\n",
              "      <td>2016</td>\n",
              "      <td>398936</td>\n",
              "    </tr>\n",
              "    <tr>\n",
              "      <th>4</th>\n",
              "      <td>Phrae</td>\n",
              "      <td>2017</td>\n",
              "      <td>410382</td>\n",
              "    </tr>\n",
              "  </tbody>\n",
              "</table>\n",
              "</div>"
            ],
            "text/plain": [
              "     province  year  population\n",
              "1  Chiang Mai  2017     1664012\n",
              "3       Phrae  2016      398936\n",
              "4       Phrae  2017      410382"
            ]
          },
          "metadata": {},
          "output_type": "display_data"
        }
      ],
      "source": [
        "# Random with fix random_state\n",
        "display(df.sample(3, random_state=123))\n",
        "display(df.sample(3, random_state=123))"
      ]
    },
    {
      "cell_type": "markdown",
      "metadata": {
        "id": "M7x3wdOZiHCQ"
      },
      "source": [
        "#### Get Some Rows"
      ]
    },
    {
      "cell_type": "code",
      "execution_count": null,
      "metadata": {
        "id": "MIBlF5uxiHCR",
        "outputId": "9a68ebb0-c320-4fa8-f4d2-113c7d7b6c5e"
      },
      "outputs": [
        {
          "data": {
            "text/html": [
              "<div>\n",
              "<style scoped>\n",
              "    .dataframe tbody tr th:only-of-type {\n",
              "        vertical-align: middle;\n",
              "    }\n",
              "\n",
              "    .dataframe tbody tr th {\n",
              "        vertical-align: top;\n",
              "    }\n",
              "\n",
              "    .dataframe thead th {\n",
              "        text-align: right;\n",
              "    }\n",
              "</style>\n",
              "<table border=\"1\" class=\"dataframe\">\n",
              "  <thead>\n",
              "    <tr style=\"text-align: right;\">\n",
              "      <th></th>\n",
              "      <th>year</th>\n",
              "      <th>population</th>\n",
              "    </tr>\n",
              "    <tr>\n",
              "      <th>province</th>\n",
              "      <th></th>\n",
              "      <th></th>\n",
              "    </tr>\n",
              "  </thead>\n",
              "  <tbody>\n",
              "    <tr>\n",
              "      <th>Chiang Mai</th>\n",
              "      <td>2016</td>\n",
              "      <td>1630428</td>\n",
              "    </tr>\n",
              "    <tr>\n",
              "      <th>Chiang Mai</th>\n",
              "      <td>2017</td>\n",
              "      <td>1664012</td>\n",
              "    </tr>\n",
              "    <tr>\n",
              "      <th>Chiang Mai</th>\n",
              "      <td>2018</td>\n",
              "      <td>1687971</td>\n",
              "    </tr>\n",
              "    <tr>\n",
              "      <th>Phrae</th>\n",
              "      <td>2016</td>\n",
              "      <td>398936</td>\n",
              "    </tr>\n",
              "    <tr>\n",
              "      <th>Phrae</th>\n",
              "      <td>2017</td>\n",
              "      <td>410382</td>\n",
              "    </tr>\n",
              "    <tr>\n",
              "      <th>Phrae</th>\n",
              "      <td>2018</td>\n",
              "      <td>421653</td>\n",
              "    </tr>\n",
              "  </tbody>\n",
              "</table>\n",
              "</div>"
            ],
            "text/plain": [
              "            year  population\n",
              "province                    \n",
              "Chiang Mai  2016     1630428\n",
              "Chiang Mai  2017     1664012\n",
              "Chiang Mai  2018     1687971\n",
              "Phrae       2016      398936\n",
              "Phrae       2017      410382\n",
              "Phrae       2018      421653"
            ]
          },
          "execution_count": 105,
          "metadata": {},
          "output_type": "execute_result"
        }
      ],
      "source": [
        "df2 = df.set_index([\"province\"])\n",
        "df2"
      ]
    },
    {
      "cell_type": "code",
      "execution_count": null,
      "metadata": {
        "id": "rhwVl28KiHCV",
        "outputId": "96496380-0d04-4e01-b8ef-bd0881250647"
      },
      "outputs": [
        {
          "data": {
            "text/plain": [
              "year             2016\n",
              "population    1630428\n",
              "Name: Chiang Mai, dtype: int64"
            ]
          },
          "execution_count": 106,
          "metadata": {},
          "output_type": "execute_result"
        }
      ],
      "source": [
        "# Index Position\n",
        "df2.iloc[0]"
      ]
    },
    {
      "cell_type": "code",
      "execution_count": null,
      "metadata": {
        "id": "Y1QB8EbGiHCX",
        "outputId": "95720c17-730f-455c-91ac-999bbe4d0d99"
      },
      "outputs": [
        {
          "data": {
            "text/html": [
              "<div>\n",
              "<style scoped>\n",
              "    .dataframe tbody tr th:only-of-type {\n",
              "        vertical-align: middle;\n",
              "    }\n",
              "\n",
              "    .dataframe tbody tr th {\n",
              "        vertical-align: top;\n",
              "    }\n",
              "\n",
              "    .dataframe thead th {\n",
              "        text-align: right;\n",
              "    }\n",
              "</style>\n",
              "<table border=\"1\" class=\"dataframe\">\n",
              "  <thead>\n",
              "    <tr style=\"text-align: right;\">\n",
              "      <th></th>\n",
              "      <th>year</th>\n",
              "      <th>population</th>\n",
              "    </tr>\n",
              "    <tr>\n",
              "      <th>province</th>\n",
              "      <th></th>\n",
              "      <th></th>\n",
              "    </tr>\n",
              "  </thead>\n",
              "  <tbody>\n",
              "    <tr>\n",
              "      <th>Chiang Mai</th>\n",
              "      <td>2017</td>\n",
              "      <td>1664012</td>\n",
              "    </tr>\n",
              "    <tr>\n",
              "      <th>Chiang Mai</th>\n",
              "      <td>2018</td>\n",
              "      <td>1687971</td>\n",
              "    </tr>\n",
              "    <tr>\n",
              "      <th>Phrae</th>\n",
              "      <td>2016</td>\n",
              "      <td>398936</td>\n",
              "    </tr>\n",
              "  </tbody>\n",
              "</table>\n",
              "</div>"
            ],
            "text/plain": [
              "            year  population\n",
              "province                    \n",
              "Chiang Mai  2017     1664012\n",
              "Chiang Mai  2018     1687971\n",
              "Phrae       2016      398936"
            ]
          },
          "execution_count": 107,
          "metadata": {},
          "output_type": "execute_result"
        }
      ],
      "source": [
        "# Index Position\n",
        "df2.iloc[1:4]"
      ]
    },
    {
      "cell_type": "code",
      "execution_count": null,
      "metadata": {
        "id": "fvb3yNUBiHCa",
        "outputId": "1f815cf3-c8d2-49bd-e4d1-26ddb78cf5a0"
      },
      "outputs": [
        {
          "data": {
            "text/html": [
              "<div>\n",
              "<style scoped>\n",
              "    .dataframe tbody tr th:only-of-type {\n",
              "        vertical-align: middle;\n",
              "    }\n",
              "\n",
              "    .dataframe tbody tr th {\n",
              "        vertical-align: top;\n",
              "    }\n",
              "\n",
              "    .dataframe thead th {\n",
              "        text-align: right;\n",
              "    }\n",
              "</style>\n",
              "<table border=\"1\" class=\"dataframe\">\n",
              "  <thead>\n",
              "    <tr style=\"text-align: right;\">\n",
              "      <th></th>\n",
              "      <th>year</th>\n",
              "      <th>population</th>\n",
              "    </tr>\n",
              "    <tr>\n",
              "      <th>province</th>\n",
              "      <th></th>\n",
              "      <th></th>\n",
              "    </tr>\n",
              "  </thead>\n",
              "  <tbody>\n",
              "    <tr>\n",
              "      <th>Chiang Mai</th>\n",
              "      <td>2016</td>\n",
              "      <td>1630428</td>\n",
              "    </tr>\n",
              "    <tr>\n",
              "      <th>Chiang Mai</th>\n",
              "      <td>2017</td>\n",
              "      <td>1664012</td>\n",
              "    </tr>\n",
              "    <tr>\n",
              "      <th>Chiang Mai</th>\n",
              "      <td>2018</td>\n",
              "      <td>1687971</td>\n",
              "    </tr>\n",
              "  </tbody>\n",
              "</table>\n",
              "</div>"
            ],
            "text/plain": [
              "            year  population\n",
              "province                    \n",
              "Chiang Mai  2016     1630428\n",
              "Chiang Mai  2017     1664012\n",
              "Chiang Mai  2018     1687971"
            ]
          },
          "execution_count": 108,
          "metadata": {},
          "output_type": "execute_result"
        }
      ],
      "source": [
        "# Index name\n",
        "df2.loc[\"Chiang Mai\"]"
      ]
    },
    {
      "cell_type": "code",
      "execution_count": null,
      "metadata": {
        "id": "Bok1Z6y6iHCc",
        "outputId": "2e07f26f-1407-4b76-cd84-a48f365828e2"
      },
      "outputs": [
        {
          "data": {
            "text/html": [
              "<div>\n",
              "<style scoped>\n",
              "    .dataframe tbody tr th:only-of-type {\n",
              "        vertical-align: middle;\n",
              "    }\n",
              "\n",
              "    .dataframe tbody tr th {\n",
              "        vertical-align: top;\n",
              "    }\n",
              "\n",
              "    .dataframe thead th {\n",
              "        text-align: right;\n",
              "    }\n",
              "</style>\n",
              "<table border=\"1\" class=\"dataframe\">\n",
              "  <thead>\n",
              "    <tr style=\"text-align: right;\">\n",
              "      <th></th>\n",
              "      <th>year</th>\n",
              "      <th>population</th>\n",
              "    </tr>\n",
              "    <tr>\n",
              "      <th>province</th>\n",
              "      <th></th>\n",
              "      <th></th>\n",
              "    </tr>\n",
              "  </thead>\n",
              "  <tbody>\n",
              "    <tr>\n",
              "      <th>Chiang Mai</th>\n",
              "      <td>2016</td>\n",
              "      <td>1630428</td>\n",
              "    </tr>\n",
              "    <tr>\n",
              "      <th>Chiang Mai</th>\n",
              "      <td>2017</td>\n",
              "      <td>1664012</td>\n",
              "    </tr>\n",
              "    <tr>\n",
              "      <th>Chiang Mai</th>\n",
              "      <td>2018</td>\n",
              "      <td>1687971</td>\n",
              "    </tr>\n",
              "    <tr>\n",
              "      <th>Phrae</th>\n",
              "      <td>2016</td>\n",
              "      <td>398936</td>\n",
              "    </tr>\n",
              "    <tr>\n",
              "      <th>Phrae</th>\n",
              "      <td>2017</td>\n",
              "      <td>410382</td>\n",
              "    </tr>\n",
              "    <tr>\n",
              "      <th>Phrae</th>\n",
              "      <td>2018</td>\n",
              "      <td>421653</td>\n",
              "    </tr>\n",
              "  </tbody>\n",
              "</table>\n",
              "</div>"
            ],
            "text/plain": [
              "            year  population\n",
              "province                    \n",
              "Chiang Mai  2016     1630428\n",
              "Chiang Mai  2017     1664012\n",
              "Chiang Mai  2018     1687971\n",
              "Phrae       2016      398936\n",
              "Phrae       2017      410382\n",
              "Phrae       2018      421653"
            ]
          },
          "execution_count": 109,
          "metadata": {},
          "output_type": "execute_result"
        }
      ],
      "source": [
        "# Index name\n",
        "df2.loc[[\"Chiang Mai\", \"Phrae\"]]"
      ]
    },
    {
      "cell_type": "markdown",
      "metadata": {
        "id": "kOwYAw9MiHCg"
      },
      "source": [
        "### Column"
      ]
    },
    {
      "cell_type": "code",
      "execution_count": null,
      "metadata": {
        "id": "y84QKNJ1iHCh",
        "outputId": "3a543c38-377d-4f2a-d465-b5ed15b390b3"
      },
      "outputs": [
        {
          "data": {
            "text/plain": [
              "Index(['province', 'year', 'population'], dtype='object')"
            ]
          },
          "execution_count": 110,
          "metadata": {},
          "output_type": "execute_result"
        }
      ],
      "source": [
        "df.columns"
      ]
    },
    {
      "cell_type": "code",
      "execution_count": null,
      "metadata": {
        "id": "N9M6jlhaiHCl",
        "outputId": "6d7131ac-0af8-42aa-fe0f-f59794bb2e22"
      },
      "outputs": [
        {
          "data": {
            "text/html": [
              "<div>\n",
              "<style scoped>\n",
              "    .dataframe tbody tr th:only-of-type {\n",
              "        vertical-align: middle;\n",
              "    }\n",
              "\n",
              "    .dataframe tbody tr th {\n",
              "        vertical-align: top;\n",
              "    }\n",
              "\n",
              "    .dataframe thead th {\n",
              "        text-align: right;\n",
              "    }\n",
              "</style>\n",
              "<table border=\"1\" class=\"dataframe\">\n",
              "  <thead>\n",
              "    <tr style=\"text-align: right;\">\n",
              "      <th></th>\n",
              "      <th>year</th>\n",
              "      <th>population</th>\n",
              "    </tr>\n",
              "  </thead>\n",
              "  <tbody>\n",
              "    <tr>\n",
              "      <th>0</th>\n",
              "      <td>2016</td>\n",
              "      <td>1630428</td>\n",
              "    </tr>\n",
              "    <tr>\n",
              "      <th>1</th>\n",
              "      <td>2017</td>\n",
              "      <td>1664012</td>\n",
              "    </tr>\n",
              "    <tr>\n",
              "      <th>2</th>\n",
              "      <td>2018</td>\n",
              "      <td>1687971</td>\n",
              "    </tr>\n",
              "    <tr>\n",
              "      <th>3</th>\n",
              "      <td>2016</td>\n",
              "      <td>398936</td>\n",
              "    </tr>\n",
              "    <tr>\n",
              "      <th>4</th>\n",
              "      <td>2017</td>\n",
              "      <td>410382</td>\n",
              "    </tr>\n",
              "    <tr>\n",
              "      <th>5</th>\n",
              "      <td>2018</td>\n",
              "      <td>421653</td>\n",
              "    </tr>\n",
              "  </tbody>\n",
              "</table>\n",
              "</div>"
            ],
            "text/plain": [
              "   year  population\n",
              "0  2016     1630428\n",
              "1  2017     1664012\n",
              "2  2018     1687971\n",
              "3  2016      398936\n",
              "4  2017      410382\n",
              "5  2018      421653"
            ]
          },
          "execution_count": 111,
          "metadata": {},
          "output_type": "execute_result"
        }
      ],
      "source": [
        "columns_list = [\"year\", \"population\"]\n",
        "df[columns_list]"
      ]
    },
    {
      "cell_type": "code",
      "execution_count": null,
      "metadata": {
        "id": "v60mM5wHY8FQ",
        "outputId": "dfb31ccd-d3f4-485b-eb23-fafe33f71f4e"
      },
      "outputs": [
        {
          "data": {
            "text/plain": [
              "0    2016\n",
              "1    2017\n",
              "2    2018\n",
              "3    2016\n",
              "4    2017\n",
              "5    2018\n",
              "Name: year, dtype: int64"
            ]
          },
          "execution_count": 112,
          "metadata": {},
          "output_type": "execute_result"
        }
      ],
      "source": [
        "df.year"
      ]
    },
    {
      "cell_type": "markdown",
      "metadata": {
        "id": "DXfXZpKWiHCp"
      },
      "source": [
        "#### Drop"
      ]
    },
    {
      "cell_type": "code",
      "execution_count": null,
      "metadata": {
        "id": "cwYBUM8LiHCp",
        "outputId": "609ae416-d3bc-4e9a-938e-583fd2b2a578"
      },
      "outputs": [
        {
          "data": {
            "text/html": [
              "<div>\n",
              "<style scoped>\n",
              "    .dataframe tbody tr th:only-of-type {\n",
              "        vertical-align: middle;\n",
              "    }\n",
              "\n",
              "    .dataframe tbody tr th {\n",
              "        vertical-align: top;\n",
              "    }\n",
              "\n",
              "    .dataframe thead th {\n",
              "        text-align: right;\n",
              "    }\n",
              "</style>\n",
              "<table border=\"1\" class=\"dataframe\">\n",
              "  <thead>\n",
              "    <tr style=\"text-align: right;\">\n",
              "      <th></th>\n",
              "      <th>year</th>\n",
              "      <th>population</th>\n",
              "    </tr>\n",
              "  </thead>\n",
              "  <tbody>\n",
              "    <tr>\n",
              "      <th>0</th>\n",
              "      <td>2016</td>\n",
              "      <td>1630428</td>\n",
              "    </tr>\n",
              "    <tr>\n",
              "      <th>1</th>\n",
              "      <td>2017</td>\n",
              "      <td>1664012</td>\n",
              "    </tr>\n",
              "    <tr>\n",
              "      <th>2</th>\n",
              "      <td>2018</td>\n",
              "      <td>1687971</td>\n",
              "    </tr>\n",
              "    <tr>\n",
              "      <th>3</th>\n",
              "      <td>2016</td>\n",
              "      <td>398936</td>\n",
              "    </tr>\n",
              "    <tr>\n",
              "      <th>4</th>\n",
              "      <td>2017</td>\n",
              "      <td>410382</td>\n",
              "    </tr>\n",
              "    <tr>\n",
              "      <th>5</th>\n",
              "      <td>2018</td>\n",
              "      <td>421653</td>\n",
              "    </tr>\n",
              "  </tbody>\n",
              "</table>\n",
              "</div>"
            ],
            "text/plain": [
              "   year  population\n",
              "0  2016     1630428\n",
              "1  2017     1664012\n",
              "2  2018     1687971\n",
              "3  2016      398936\n",
              "4  2017      410382\n",
              "5  2018      421653"
            ]
          },
          "execution_count": 113,
          "metadata": {},
          "output_type": "execute_result"
        }
      ],
      "source": [
        "df.drop(columns=[\"province\"])"
      ]
    },
    {
      "cell_type": "code",
      "execution_count": null,
      "metadata": {
        "id": "5X_iV-VlZSoY",
        "outputId": "a1672013-8a73-4a56-b502-0339e953a1d9"
      },
      "outputs": [
        {
          "data": {
            "text/html": [
              "<div>\n",
              "<style scoped>\n",
              "    .dataframe tbody tr th:only-of-type {\n",
              "        vertical-align: middle;\n",
              "    }\n",
              "\n",
              "    .dataframe tbody tr th {\n",
              "        vertical-align: top;\n",
              "    }\n",
              "\n",
              "    .dataframe thead th {\n",
              "        text-align: right;\n",
              "    }\n",
              "</style>\n",
              "<table border=\"1\" class=\"dataframe\">\n",
              "  <thead>\n",
              "    <tr style=\"text-align: right;\">\n",
              "      <th></th>\n",
              "      <th>province</th>\n",
              "      <th>year</th>\n",
              "      <th>population</th>\n",
              "    </tr>\n",
              "  </thead>\n",
              "  <tbody>\n",
              "    <tr>\n",
              "      <th>0</th>\n",
              "      <td>Chiang Mai</td>\n",
              "      <td>2016</td>\n",
              "      <td>1630428</td>\n",
              "    </tr>\n",
              "    <tr>\n",
              "      <th>1</th>\n",
              "      <td>Chiang Mai</td>\n",
              "      <td>2017</td>\n",
              "      <td>1664012</td>\n",
              "    </tr>\n",
              "    <tr>\n",
              "      <th>2</th>\n",
              "      <td>Chiang Mai</td>\n",
              "      <td>2018</td>\n",
              "      <td>1687971</td>\n",
              "    </tr>\n",
              "    <tr>\n",
              "      <th>3</th>\n",
              "      <td>Phrae</td>\n",
              "      <td>2016</td>\n",
              "      <td>398936</td>\n",
              "    </tr>\n",
              "    <tr>\n",
              "      <th>4</th>\n",
              "      <td>Phrae</td>\n",
              "      <td>2017</td>\n",
              "      <td>410382</td>\n",
              "    </tr>\n",
              "    <tr>\n",
              "      <th>5</th>\n",
              "      <td>Phrae</td>\n",
              "      <td>2018</td>\n",
              "      <td>421653</td>\n",
              "    </tr>\n",
              "  </tbody>\n",
              "</table>\n",
              "</div>"
            ],
            "text/plain": [
              "     province  year  population\n",
              "0  Chiang Mai  2016     1630428\n",
              "1  Chiang Mai  2017     1664012\n",
              "2  Chiang Mai  2018     1687971\n",
              "3       Phrae  2016      398936\n",
              "4       Phrae  2017      410382\n",
              "5       Phrae  2018      421653"
            ]
          },
          "execution_count": 114,
          "metadata": {},
          "output_type": "execute_result"
        }
      ],
      "source": [
        "df"
      ]
    },
    {
      "cell_type": "markdown",
      "metadata": {
        "id": "l4LcXPTkiHCt"
      },
      "source": [
        "#### Rename"
      ]
    },
    {
      "cell_type": "code",
      "execution_count": null,
      "metadata": {
        "id": "VM9E6-CwiHCu",
        "outputId": "b8b89611-b7b9-4cca-b7b3-ce25c90993b1"
      },
      "outputs": [
        {
          "data": {
            "text/html": [
              "<div>\n",
              "<style scoped>\n",
              "    .dataframe tbody tr th:only-of-type {\n",
              "        vertical-align: middle;\n",
              "    }\n",
              "\n",
              "    .dataframe tbody tr th {\n",
              "        vertical-align: top;\n",
              "    }\n",
              "\n",
              "    .dataframe thead th {\n",
              "        text-align: right;\n",
              "    }\n",
              "</style>\n",
              "<table border=\"1\" class=\"dataframe\">\n",
              "  <thead>\n",
              "    <tr style=\"text-align: right;\">\n",
              "      <th></th>\n",
              "      <th>Province</th>\n",
              "      <th>Year</th>\n",
              "      <th>Population</th>\n",
              "    </tr>\n",
              "  </thead>\n",
              "  <tbody>\n",
              "    <tr>\n",
              "      <th>0</th>\n",
              "      <td>Chiang Mai</td>\n",
              "      <td>2016</td>\n",
              "      <td>1630428</td>\n",
              "    </tr>\n",
              "    <tr>\n",
              "      <th>1</th>\n",
              "      <td>Chiang Mai</td>\n",
              "      <td>2017</td>\n",
              "      <td>1664012</td>\n",
              "    </tr>\n",
              "    <tr>\n",
              "      <th>2</th>\n",
              "      <td>Chiang Mai</td>\n",
              "      <td>2018</td>\n",
              "      <td>1687971</td>\n",
              "    </tr>\n",
              "    <tr>\n",
              "      <th>3</th>\n",
              "      <td>Phrae</td>\n",
              "      <td>2016</td>\n",
              "      <td>398936</td>\n",
              "    </tr>\n",
              "    <tr>\n",
              "      <th>4</th>\n",
              "      <td>Phrae</td>\n",
              "      <td>2017</td>\n",
              "      <td>410382</td>\n",
              "    </tr>\n",
              "    <tr>\n",
              "      <th>5</th>\n",
              "      <td>Phrae</td>\n",
              "      <td>2018</td>\n",
              "      <td>421653</td>\n",
              "    </tr>\n",
              "  </tbody>\n",
              "</table>\n",
              "</div>"
            ],
            "text/plain": [
              "     Province  Year  Population\n",
              "0  Chiang Mai  2016     1630428\n",
              "1  Chiang Mai  2017     1664012\n",
              "2  Chiang Mai  2018     1687971\n",
              "3       Phrae  2016      398936\n",
              "4       Phrae  2017      410382\n",
              "5       Phrae  2018      421653"
            ]
          },
          "execution_count": 115,
          "metadata": {},
          "output_type": "execute_result"
        }
      ],
      "source": [
        "mapper = {\"province\": \"Province\", \"year\": \"Year\", \"population\": \"Population\"}\n",
        "df.rename(columns=mapper)"
      ]
    },
    {
      "cell_type": "markdown",
      "metadata": {
        "id": "9-UC83wNiHCx"
      },
      "source": [
        "#### Create/Replace Column with Value/Array"
      ]
    },
    {
      "cell_type": "code",
      "execution_count": null,
      "metadata": {
        "id": "osIehOSgiHCx",
        "outputId": "7e50a317-1df7-4355-de4c-c406d92fd416"
      },
      "outputs": [
        {
          "data": {
            "text/html": [
              "<div>\n",
              "<style scoped>\n",
              "    .dataframe tbody tr th:only-of-type {\n",
              "        vertical-align: middle;\n",
              "    }\n",
              "\n",
              "    .dataframe tbody tr th {\n",
              "        vertical-align: top;\n",
              "    }\n",
              "\n",
              "    .dataframe thead th {\n",
              "        text-align: right;\n",
              "    }\n",
              "</style>\n",
              "<table border=\"1\" class=\"dataframe\">\n",
              "  <thead>\n",
              "    <tr style=\"text-align: right;\">\n",
              "      <th></th>\n",
              "      <th>province</th>\n",
              "      <th>year</th>\n",
              "      <th>population</th>\n",
              "      <th>source</th>\n",
              "    </tr>\n",
              "  </thead>\n",
              "  <tbody>\n",
              "    <tr>\n",
              "      <th>0</th>\n",
              "      <td>Chiang Mai</td>\n",
              "      <td>2016</td>\n",
              "      <td>1630428</td>\n",
              "      <td>A</td>\n",
              "    </tr>\n",
              "    <tr>\n",
              "      <th>1</th>\n",
              "      <td>Chiang Mai</td>\n",
              "      <td>2017</td>\n",
              "      <td>1664012</td>\n",
              "      <td>A</td>\n",
              "    </tr>\n",
              "    <tr>\n",
              "      <th>2</th>\n",
              "      <td>Chiang Mai</td>\n",
              "      <td>2018</td>\n",
              "      <td>1687971</td>\n",
              "      <td>A</td>\n",
              "    </tr>\n",
              "    <tr>\n",
              "      <th>3</th>\n",
              "      <td>Phrae</td>\n",
              "      <td>2016</td>\n",
              "      <td>398936</td>\n",
              "      <td>A</td>\n",
              "    </tr>\n",
              "    <tr>\n",
              "      <th>4</th>\n",
              "      <td>Phrae</td>\n",
              "      <td>2017</td>\n",
              "      <td>410382</td>\n",
              "      <td>A</td>\n",
              "    </tr>\n",
              "    <tr>\n",
              "      <th>5</th>\n",
              "      <td>Phrae</td>\n",
              "      <td>2018</td>\n",
              "      <td>421653</td>\n",
              "      <td>A</td>\n",
              "    </tr>\n",
              "  </tbody>\n",
              "</table>\n",
              "</div>"
            ],
            "text/plain": [
              "     province  year  population source\n",
              "0  Chiang Mai  2016     1630428      A\n",
              "1  Chiang Mai  2017     1664012      A\n",
              "2  Chiang Mai  2018     1687971      A\n",
              "3       Phrae  2016      398936      A\n",
              "4       Phrae  2017      410382      A\n",
              "5       Phrae  2018      421653      A"
            ]
          },
          "execution_count": 116,
          "metadata": {},
          "output_type": "execute_result"
        }
      ],
      "source": [
        "df[\"source\"] = \"A\"\n",
        "df"
      ]
    },
    {
      "cell_type": "code",
      "execution_count": null,
      "metadata": {
        "id": "TRLyNOJmiHC3",
        "outputId": "ef3cd6e8-0baa-4333-cb02-437112281e84"
      },
      "outputs": [
        {
          "data": {
            "text/html": [
              "<div>\n",
              "<style scoped>\n",
              "    .dataframe tbody tr th:only-of-type {\n",
              "        vertical-align: middle;\n",
              "    }\n",
              "\n",
              "    .dataframe tbody tr th {\n",
              "        vertical-align: top;\n",
              "    }\n",
              "\n",
              "    .dataframe thead th {\n",
              "        text-align: right;\n",
              "    }\n",
              "</style>\n",
              "<table border=\"1\" class=\"dataframe\">\n",
              "  <thead>\n",
              "    <tr style=\"text-align: right;\">\n",
              "      <th></th>\n",
              "      <th>province</th>\n",
              "      <th>year</th>\n",
              "      <th>population</th>\n",
              "      <th>source</th>\n",
              "    </tr>\n",
              "  </thead>\n",
              "  <tbody>\n",
              "    <tr>\n",
              "      <th>0</th>\n",
              "      <td>Chiang Mai</td>\n",
              "      <td>2016</td>\n",
              "      <td>1630428</td>\n",
              "      <td>A</td>\n",
              "    </tr>\n",
              "    <tr>\n",
              "      <th>1</th>\n",
              "      <td>Chiang Mai</td>\n",
              "      <td>2017</td>\n",
              "      <td>1664012</td>\n",
              "      <td>B</td>\n",
              "    </tr>\n",
              "    <tr>\n",
              "      <th>2</th>\n",
              "      <td>Chiang Mai</td>\n",
              "      <td>2018</td>\n",
              "      <td>1687971</td>\n",
              "      <td>A</td>\n",
              "    </tr>\n",
              "    <tr>\n",
              "      <th>3</th>\n",
              "      <td>Phrae</td>\n",
              "      <td>2016</td>\n",
              "      <td>398936</td>\n",
              "      <td>C</td>\n",
              "    </tr>\n",
              "    <tr>\n",
              "      <th>4</th>\n",
              "      <td>Phrae</td>\n",
              "      <td>2017</td>\n",
              "      <td>410382</td>\n",
              "      <td>A</td>\n",
              "    </tr>\n",
              "    <tr>\n",
              "      <th>5</th>\n",
              "      <td>Phrae</td>\n",
              "      <td>2018</td>\n",
              "      <td>421653</td>\n",
              "      <td>B</td>\n",
              "    </tr>\n",
              "  </tbody>\n",
              "</table>\n",
              "</div>"
            ],
            "text/plain": [
              "     province  year  population source\n",
              "0  Chiang Mai  2016     1630428      A\n",
              "1  Chiang Mai  2017     1664012      B\n",
              "2  Chiang Mai  2018     1687971      A\n",
              "3       Phrae  2016      398936      C\n",
              "4       Phrae  2017      410382      A\n",
              "5       Phrae  2018      421653      B"
            ]
          },
          "execution_count": 117,
          "metadata": {},
          "output_type": "execute_result"
        }
      ],
      "source": [
        "df[\"source\"] = [\"A\", \"B\", \"A\", \"C\", \"A\", \"B\"]\n",
        "df"
      ]
    },
    {
      "cell_type": "code",
      "execution_count": null,
      "metadata": {
        "id": "p2IRL-0JiHC_",
        "outputId": "defeb1bc-6fc7-462e-f213-52b2a0dd296a"
      },
      "outputs": [
        {
          "data": {
            "text/html": [
              "<div>\n",
              "<style scoped>\n",
              "    .dataframe tbody tr th:only-of-type {\n",
              "        vertical-align: middle;\n",
              "    }\n",
              "\n",
              "    .dataframe tbody tr th {\n",
              "        vertical-align: top;\n",
              "    }\n",
              "\n",
              "    .dataframe thead th {\n",
              "        text-align: right;\n",
              "    }\n",
              "</style>\n",
              "<table border=\"1\" class=\"dataframe\">\n",
              "  <thead>\n",
              "    <tr style=\"text-align: right;\">\n",
              "      <th></th>\n",
              "      <th>province</th>\n",
              "      <th>year</th>\n",
              "      <th>population</th>\n",
              "      <th>source</th>\n",
              "      <th>population (K)</th>\n",
              "    </tr>\n",
              "  </thead>\n",
              "  <tbody>\n",
              "    <tr>\n",
              "      <th>0</th>\n",
              "      <td>Chiang Mai</td>\n",
              "      <td>2016</td>\n",
              "      <td>1630428</td>\n",
              "      <td>A</td>\n",
              "      <td>1630.428</td>\n",
              "    </tr>\n",
              "    <tr>\n",
              "      <th>1</th>\n",
              "      <td>Chiang Mai</td>\n",
              "      <td>2017</td>\n",
              "      <td>1664012</td>\n",
              "      <td>B</td>\n",
              "      <td>1664.012</td>\n",
              "    </tr>\n",
              "    <tr>\n",
              "      <th>2</th>\n",
              "      <td>Chiang Mai</td>\n",
              "      <td>2018</td>\n",
              "      <td>1687971</td>\n",
              "      <td>A</td>\n",
              "      <td>1687.971</td>\n",
              "    </tr>\n",
              "    <tr>\n",
              "      <th>3</th>\n",
              "      <td>Phrae</td>\n",
              "      <td>2016</td>\n",
              "      <td>398936</td>\n",
              "      <td>C</td>\n",
              "      <td>398.936</td>\n",
              "    </tr>\n",
              "    <tr>\n",
              "      <th>4</th>\n",
              "      <td>Phrae</td>\n",
              "      <td>2017</td>\n",
              "      <td>410382</td>\n",
              "      <td>A</td>\n",
              "      <td>410.382</td>\n",
              "    </tr>\n",
              "    <tr>\n",
              "      <th>5</th>\n",
              "      <td>Phrae</td>\n",
              "      <td>2018</td>\n",
              "      <td>421653</td>\n",
              "      <td>B</td>\n",
              "      <td>421.653</td>\n",
              "    </tr>\n",
              "  </tbody>\n",
              "</table>\n",
              "</div>"
            ],
            "text/plain": [
              "     province  year  population source  population (K)\n",
              "0  Chiang Mai  2016     1630428      A        1630.428\n",
              "1  Chiang Mai  2017     1664012      B        1664.012\n",
              "2  Chiang Mai  2018     1687971      A        1687.971\n",
              "3       Phrae  2016      398936      C         398.936\n",
              "4       Phrae  2017      410382      A         410.382\n",
              "5       Phrae  2018      421653      B         421.653"
            ]
          },
          "execution_count": 118,
          "metadata": {},
          "output_type": "execute_result"
        }
      ],
      "source": [
        "df[\"population (K)\"] = df[\"population\"] / 1000\n",
        "df"
      ]
    },
    {
      "cell_type": "code",
      "execution_count": 43,
      "metadata": {
        "id": "z0zEMWmoiHDC",
        "outputId": "8556f3bd-d975-418a-fd5c-859438f3546a"
      },
      "outputs": [
        {
          "data": {
            "text/html": [
              "<div>\n",
              "<style scoped>\n",
              "    .dataframe tbody tr th:only-of-type {\n",
              "        vertical-align: middle;\n",
              "    }\n",
              "\n",
              "    .dataframe tbody tr th {\n",
              "        vertical-align: top;\n",
              "    }\n",
              "\n",
              "    .dataframe thead th {\n",
              "        text-align: right;\n",
              "    }\n",
              "</style>\n",
              "<table border=\"1\" class=\"dataframe\">\n",
              "  <thead>\n",
              "    <tr style=\"text-align: right;\">\n",
              "      <th></th>\n",
              "      <th>province</th>\n",
              "      <th>year</th>\n",
              "      <th>population</th>\n",
              "      <th>population (K)</th>\n",
              "    </tr>\n",
              "  </thead>\n",
              "  <tbody>\n",
              "    <tr>\n",
              "      <th>0</th>\n",
              "      <td>Chiang Mai</td>\n",
              "      <td>2016</td>\n",
              "      <td>1630428</td>\n",
              "      <td>1630.428</td>\n",
              "    </tr>\n",
              "    <tr>\n",
              "      <th>1</th>\n",
              "      <td>Chiang Mai</td>\n",
              "      <td>2017</td>\n",
              "      <td>1664012</td>\n",
              "      <td>1664.012</td>\n",
              "    </tr>\n",
              "    <tr>\n",
              "      <th>2</th>\n",
              "      <td>Chiang Mai</td>\n",
              "      <td>2018</td>\n",
              "      <td>1687971</td>\n",
              "      <td>1687.971</td>\n",
              "    </tr>\n",
              "    <tr>\n",
              "      <th>3</th>\n",
              "      <td>Phrae</td>\n",
              "      <td>2016</td>\n",
              "      <td>398936</td>\n",
              "      <td>398.936</td>\n",
              "    </tr>\n",
              "    <tr>\n",
              "      <th>4</th>\n",
              "      <td>Phrae</td>\n",
              "      <td>2017</td>\n",
              "      <td>410382</td>\n",
              "      <td>410.382</td>\n",
              "    </tr>\n",
              "    <tr>\n",
              "      <th>5</th>\n",
              "      <td>Phrae</td>\n",
              "      <td>2018</td>\n",
              "      <td>421653</td>\n",
              "      <td>421.653</td>\n",
              "    </tr>\n",
              "  </tbody>\n",
              "</table>\n",
              "</div>"
            ],
            "text/plain": [
              "     province  year  population  population (K)\n",
              "0  Chiang Mai  2016     1630428        1630.428\n",
              "1  Chiang Mai  2017     1664012        1664.012\n",
              "2  Chiang Mai  2018     1687971        1687.971\n",
              "3       Phrae  2016      398936         398.936\n",
              "4       Phrae  2017      410382         410.382\n",
              "5       Phrae  2018      421653         421.653"
            ]
          },
          "execution_count": 43,
          "metadata": {},
          "output_type": "execute_result"
        }
      ],
      "source": [
        "df[\"population (K)\"] = df[\"population\"].apply(lambda x: x / 1000)\n",
        "df"
      ]
    },
    {
      "cell_type": "code",
      "execution_count": null,
      "metadata": {
        "id": "rcKuUX86bOIM",
        "outputId": "eea3b7ff-d5a6-42b1-8545-2fa6056997cf"
      },
      "outputs": [
        {
          "data": {
            "text/html": [
              "<div>\n",
              "<style scoped>\n",
              "    .dataframe tbody tr th:only-of-type {\n",
              "        vertical-align: middle;\n",
              "    }\n",
              "\n",
              "    .dataframe tbody tr th {\n",
              "        vertical-align: top;\n",
              "    }\n",
              "\n",
              "    .dataframe thead th {\n",
              "        text-align: right;\n",
              "    }\n",
              "</style>\n",
              "<table border=\"1\" class=\"dataframe\">\n",
              "  <thead>\n",
              "    <tr style=\"text-align: right;\">\n",
              "      <th></th>\n",
              "      <th>province</th>\n",
              "      <th>year</th>\n",
              "      <th>population</th>\n",
              "      <th>source</th>\n",
              "      <th>population (K)</th>\n",
              "    </tr>\n",
              "  </thead>\n",
              "  <tbody>\n",
              "    <tr>\n",
              "      <th>0</th>\n",
              "      <td>Chiang Mai</td>\n",
              "      <td>2016</td>\n",
              "      <td>1630428</td>\n",
              "      <td>A</td>\n",
              "      <td>1630.428</td>\n",
              "    </tr>\n",
              "    <tr>\n",
              "      <th>1</th>\n",
              "      <td>Chiang Mai</td>\n",
              "      <td>2017</td>\n",
              "      <td>1664012</td>\n",
              "      <td>B</td>\n",
              "      <td>1664.012</td>\n",
              "    </tr>\n",
              "    <tr>\n",
              "      <th>2</th>\n",
              "      <td>Chiang Mai</td>\n",
              "      <td>2018</td>\n",
              "      <td>1687971</td>\n",
              "      <td>A</td>\n",
              "      <td>1687.971</td>\n",
              "    </tr>\n",
              "    <tr>\n",
              "      <th>3</th>\n",
              "      <td>Phrae</td>\n",
              "      <td>2016</td>\n",
              "      <td>398936</td>\n",
              "      <td>C</td>\n",
              "      <td>398.936</td>\n",
              "    </tr>\n",
              "    <tr>\n",
              "      <th>4</th>\n",
              "      <td>Phrae</td>\n",
              "      <td>2017</td>\n",
              "      <td>410382</td>\n",
              "      <td>A</td>\n",
              "      <td>410.382</td>\n",
              "    </tr>\n",
              "    <tr>\n",
              "      <th>5</th>\n",
              "      <td>Phrae</td>\n",
              "      <td>2018</td>\n",
              "      <td>421653</td>\n",
              "      <td>B</td>\n",
              "      <td>421.653</td>\n",
              "    </tr>\n",
              "  </tbody>\n",
              "</table>\n",
              "</div>"
            ],
            "text/plain": [
              "     province  year  population source  population (K)\n",
              "0  Chiang Mai  2016     1630428      A        1630.428\n",
              "1  Chiang Mai  2017     1664012      B        1664.012\n",
              "2  Chiang Mai  2018     1687971      A        1687.971\n",
              "3       Phrae  2016      398936      C         398.936\n",
              "4       Phrae  2017      410382      A         410.382\n",
              "5       Phrae  2018      421653      B         421.653"
            ]
          },
          "execution_count": 120,
          "metadata": {},
          "output_type": "execute_result"
        }
      ],
      "source": [
        "# extra example\n",
        "import math\n",
        "\n",
        "df2 = df.copy()\n",
        "# df2 = df # this will be error since it refers to address (not copy values)\n",
        "df[\"LN population\"] = df[\"population\"].apply(math.log)\n",
        "df2"
      ]
    },
    {
      "cell_type": "markdown",
      "metadata": {
        "id": "8-TVxVbqiHDF"
      },
      "source": [
        "### DataFrame Information"
      ]
    },
    {
      "cell_type": "code",
      "execution_count": null,
      "metadata": {
        "id": "9CTuGZa6iHDG",
        "outputId": "0dcf01ec-4c44-4ea4-c4f9-c73bf09b867f"
      },
      "outputs": [
        {
          "data": {
            "text/plain": [
              "pandas.core.frame.DataFrame"
            ]
          },
          "execution_count": 121,
          "metadata": {},
          "output_type": "execute_result"
        }
      ],
      "source": [
        "type(df)"
      ]
    },
    {
      "cell_type": "code",
      "execution_count": null,
      "metadata": {
        "id": "558gdlOhiHDM",
        "outputId": "bb1be0ac-e6dd-41ad-92a3-b788b70e5c6d"
      },
      "outputs": [
        {
          "data": {
            "text/plain": [
              "(6, 6)"
            ]
          },
          "execution_count": 122,
          "metadata": {},
          "output_type": "execute_result"
        }
      ],
      "source": [
        "df.shape"
      ]
    },
    {
      "cell_type": "code",
      "execution_count": null,
      "metadata": {
        "id": "RVbKwHxziHDQ",
        "outputId": "96010677-9fd3-4c15-9ae4-3ffc0de5791a"
      },
      "outputs": [
        {
          "name": "stdout",
          "output_type": "stream",
          "text": [
            "<class 'pandas.core.frame.DataFrame'>\n",
            "RangeIndex: 6 entries, 0 to 5\n",
            "Data columns (total 6 columns):\n",
            " #   Column          Non-Null Count  Dtype  \n",
            "---  ------          --------------  -----  \n",
            " 0   province        6 non-null      object \n",
            " 1   year            6 non-null      int64  \n",
            " 2   population      6 non-null      int64  \n",
            " 3   source          6 non-null      object \n",
            " 4   population (K)  6 non-null      float64\n",
            " 5   LN population   6 non-null      float64\n",
            "dtypes: float64(2), int64(2), object(2)\n",
            "memory usage: 416.0+ bytes\n"
          ]
        }
      ],
      "source": [
        "df.info()"
      ]
    },
    {
      "cell_type": "code",
      "execution_count": null,
      "metadata": {
        "id": "I7NSQBUDiHDT",
        "outputId": "496acbbf-d546-4166-8161-f02b634389eb"
      },
      "outputs": [
        {
          "data": {
            "text/plain": [
              "province           object\n",
              "year                int64\n",
              "population          int64\n",
              "source             object\n",
              "population (K)    float64\n",
              "LN population     float64\n",
              "dtype: object"
            ]
          },
          "execution_count": 124,
          "metadata": {},
          "output_type": "execute_result"
        }
      ],
      "source": [
        "df.dtypes"
      ]
    },
    {
      "cell_type": "markdown",
      "metadata": {
        "id": "wG1IfRT7iHDY"
      },
      "source": [
        "## Filtering and Sorting"
      ]
    },
    {
      "cell_type": "markdown",
      "metadata": {
        "id": "HC5Kaa6XiHDZ"
      },
      "source": [
        "### Filtering"
      ]
    },
    {
      "cell_type": "code",
      "execution_count": null,
      "metadata": {
        "id": "ECXMA2kNiHDZ",
        "outputId": "1d08c8aa-8765-46d1-df9a-44c2ed2cf095"
      },
      "outputs": [
        {
          "data": {
            "text/html": [
              "<div>\n",
              "<style scoped>\n",
              "    .dataframe tbody tr th:only-of-type {\n",
              "        vertical-align: middle;\n",
              "    }\n",
              "\n",
              "    .dataframe tbody tr th {\n",
              "        vertical-align: top;\n",
              "    }\n",
              "\n",
              "    .dataframe thead th {\n",
              "        text-align: right;\n",
              "    }\n",
              "</style>\n",
              "<table border=\"1\" class=\"dataframe\">\n",
              "  <thead>\n",
              "    <tr style=\"text-align: right;\">\n",
              "      <th></th>\n",
              "      <th>province</th>\n",
              "      <th>year</th>\n",
              "      <th>population</th>\n",
              "      <th>source</th>\n",
              "      <th>population (K)</th>\n",
              "      <th>LN population</th>\n",
              "    </tr>\n",
              "  </thead>\n",
              "  <tbody>\n",
              "    <tr>\n",
              "      <th>0</th>\n",
              "      <td>Chiang Mai</td>\n",
              "      <td>2016</td>\n",
              "      <td>1630428</td>\n",
              "      <td>A</td>\n",
              "      <td>1630.428</td>\n",
              "      <td>14.304353</td>\n",
              "    </tr>\n",
              "    <tr>\n",
              "      <th>1</th>\n",
              "      <td>Chiang Mai</td>\n",
              "      <td>2017</td>\n",
              "      <td>1664012</td>\n",
              "      <td>B</td>\n",
              "      <td>1664.012</td>\n",
              "      <td>14.324742</td>\n",
              "    </tr>\n",
              "    <tr>\n",
              "      <th>2</th>\n",
              "      <td>Chiang Mai</td>\n",
              "      <td>2018</td>\n",
              "      <td>1687971</td>\n",
              "      <td>A</td>\n",
              "      <td>1687.971</td>\n",
              "      <td>14.339038</td>\n",
              "    </tr>\n",
              "    <tr>\n",
              "      <th>3</th>\n",
              "      <td>Phrae</td>\n",
              "      <td>2016</td>\n",
              "      <td>398936</td>\n",
              "      <td>C</td>\n",
              "      <td>398.936</td>\n",
              "      <td>12.896556</td>\n",
              "    </tr>\n",
              "    <tr>\n",
              "      <th>4</th>\n",
              "      <td>Phrae</td>\n",
              "      <td>2017</td>\n",
              "      <td>410382</td>\n",
              "      <td>A</td>\n",
              "      <td>410.382</td>\n",
              "      <td>12.924844</td>\n",
              "    </tr>\n",
              "    <tr>\n",
              "      <th>5</th>\n",
              "      <td>Phrae</td>\n",
              "      <td>2018</td>\n",
              "      <td>421653</td>\n",
              "      <td>B</td>\n",
              "      <td>421.653</td>\n",
              "      <td>12.951938</td>\n",
              "    </tr>\n",
              "  </tbody>\n",
              "</table>\n",
              "</div>"
            ],
            "text/plain": [
              "     province  year  population source  population (K)  LN population\n",
              "0  Chiang Mai  2016     1630428      A        1630.428      14.304353\n",
              "1  Chiang Mai  2017     1664012      B        1664.012      14.324742\n",
              "2  Chiang Mai  2018     1687971      A        1687.971      14.339038\n",
              "3       Phrae  2016      398936      C         398.936      12.896556\n",
              "4       Phrae  2017      410382      A         410.382      12.924844\n",
              "5       Phrae  2018      421653      B         421.653      12.951938"
            ]
          },
          "execution_count": 125,
          "metadata": {},
          "output_type": "execute_result"
        }
      ],
      "source": [
        "condition_list = [True, True, True, True, True, True]\n",
        "df[condition_list]"
      ]
    },
    {
      "cell_type": "code",
      "execution_count": null,
      "metadata": {
        "id": "AtRshhWziHDd",
        "outputId": "139997b7-d7b3-46e1-941d-dedce1471f60"
      },
      "outputs": [
        {
          "data": {
            "text/html": [
              "<div>\n",
              "<style scoped>\n",
              "    .dataframe tbody tr th:only-of-type {\n",
              "        vertical-align: middle;\n",
              "    }\n",
              "\n",
              "    .dataframe tbody tr th {\n",
              "        vertical-align: top;\n",
              "    }\n",
              "\n",
              "    .dataframe thead th {\n",
              "        text-align: right;\n",
              "    }\n",
              "</style>\n",
              "<table border=\"1\" class=\"dataframe\">\n",
              "  <thead>\n",
              "    <tr style=\"text-align: right;\">\n",
              "      <th></th>\n",
              "      <th>province</th>\n",
              "      <th>year</th>\n",
              "      <th>population</th>\n",
              "      <th>source</th>\n",
              "      <th>population (K)</th>\n",
              "      <th>LN population</th>\n",
              "    </tr>\n",
              "  </thead>\n",
              "  <tbody>\n",
              "    <tr>\n",
              "      <th>0</th>\n",
              "      <td>Chiang Mai</td>\n",
              "      <td>2016</td>\n",
              "      <td>1630428</td>\n",
              "      <td>A</td>\n",
              "      <td>1630.428</td>\n",
              "      <td>14.304353</td>\n",
              "    </tr>\n",
              "    <tr>\n",
              "      <th>2</th>\n",
              "      <td>Chiang Mai</td>\n",
              "      <td>2018</td>\n",
              "      <td>1687971</td>\n",
              "      <td>A</td>\n",
              "      <td>1687.971</td>\n",
              "      <td>14.339038</td>\n",
              "    </tr>\n",
              "    <tr>\n",
              "      <th>4</th>\n",
              "      <td>Phrae</td>\n",
              "      <td>2017</td>\n",
              "      <td>410382</td>\n",
              "      <td>A</td>\n",
              "      <td>410.382</td>\n",
              "      <td>12.924844</td>\n",
              "    </tr>\n",
              "  </tbody>\n",
              "</table>\n",
              "</div>"
            ],
            "text/plain": [
              "     province  year  population source  population (K)  LN population\n",
              "0  Chiang Mai  2016     1630428      A        1630.428      14.304353\n",
              "2  Chiang Mai  2018     1687971      A        1687.971      14.339038\n",
              "4       Phrae  2017      410382      A         410.382      12.924844"
            ]
          },
          "execution_count": 126,
          "metadata": {},
          "output_type": "execute_result"
        }
      ],
      "source": [
        "condition_list = [True, False, True, False, True, False]\n",
        "df[condition_list]"
      ]
    },
    {
      "cell_type": "code",
      "execution_count": null,
      "metadata": {
        "id": "TdOz2AACiHDg",
        "outputId": "4017587b-e63b-4cb8-bd80-75fef943e37a"
      },
      "outputs": [
        {
          "name": "stdout",
          "output_type": "stream",
          "text": [
            "0     True\n",
            "1     True\n",
            "2     True\n",
            "3    False\n",
            "4    False\n",
            "5    False\n",
            "Name: province, dtype: bool\n"
          ]
        },
        {
          "data": {
            "text/html": [
              "<div>\n",
              "<style scoped>\n",
              "    .dataframe tbody tr th:only-of-type {\n",
              "        vertical-align: middle;\n",
              "    }\n",
              "\n",
              "    .dataframe tbody tr th {\n",
              "        vertical-align: top;\n",
              "    }\n",
              "\n",
              "    .dataframe thead th {\n",
              "        text-align: right;\n",
              "    }\n",
              "</style>\n",
              "<table border=\"1\" class=\"dataframe\">\n",
              "  <thead>\n",
              "    <tr style=\"text-align: right;\">\n",
              "      <th></th>\n",
              "      <th>province</th>\n",
              "      <th>year</th>\n",
              "      <th>population</th>\n",
              "    </tr>\n",
              "  </thead>\n",
              "  <tbody>\n",
              "    <tr>\n",
              "      <th>0</th>\n",
              "      <td>Chiang Mai</td>\n",
              "      <td>2016</td>\n",
              "      <td>1630428</td>\n",
              "    </tr>\n",
              "    <tr>\n",
              "      <th>1</th>\n",
              "      <td>Chiang Mai</td>\n",
              "      <td>2017</td>\n",
              "      <td>1664012</td>\n",
              "    </tr>\n",
              "    <tr>\n",
              "      <th>2</th>\n",
              "      <td>Chiang Mai</td>\n",
              "      <td>2018</td>\n",
              "      <td>1687971</td>\n",
              "    </tr>\n",
              "  </tbody>\n",
              "</table>\n",
              "</div>"
            ],
            "text/plain": [
              "     province  year  population\n",
              "0  Chiang Mai  2016     1630428\n",
              "1  Chiang Mai  2017     1664012\n",
              "2  Chiang Mai  2018     1687971"
            ]
          },
          "metadata": {},
          "output_type": "display_data"
        },
        {
          "data": {
            "text/html": [
              "<div>\n",
              "<style scoped>\n",
              "    .dataframe tbody tr th:only-of-type {\n",
              "        vertical-align: middle;\n",
              "    }\n",
              "\n",
              "    .dataframe tbody tr th {\n",
              "        vertical-align: top;\n",
              "    }\n",
              "\n",
              "    .dataframe thead th {\n",
              "        text-align: right;\n",
              "    }\n",
              "</style>\n",
              "<table border=\"1\" class=\"dataframe\">\n",
              "  <thead>\n",
              "    <tr style=\"text-align: right;\">\n",
              "      <th></th>\n",
              "      <th>province</th>\n",
              "      <th>year</th>\n",
              "      <th>population</th>\n",
              "    </tr>\n",
              "  </thead>\n",
              "  <tbody>\n",
              "    <tr>\n",
              "      <th>0</th>\n",
              "      <td>Chiang Mai</td>\n",
              "      <td>2016</td>\n",
              "      <td>1630428</td>\n",
              "    </tr>\n",
              "    <tr>\n",
              "      <th>1</th>\n",
              "      <td>Chiang Mai</td>\n",
              "      <td>2017</td>\n",
              "      <td>1664012</td>\n",
              "    </tr>\n",
              "    <tr>\n",
              "      <th>2</th>\n",
              "      <td>Chiang Mai</td>\n",
              "      <td>2018</td>\n",
              "      <td>1687971</td>\n",
              "    </tr>\n",
              "  </tbody>\n",
              "</table>\n",
              "</div>"
            ],
            "text/plain": [
              "     province  year  population\n",
              "0  Chiang Mai  2016     1630428\n",
              "1  Chiang Mai  2017     1664012\n",
              "2  Chiang Mai  2018     1687971"
            ]
          },
          "execution_count": 5,
          "metadata": {},
          "output_type": "execute_result"
        }
      ],
      "source": [
        "condition_list = df[\"province\"] == \"Chiang Mai\"\n",
        "print(condition_list)\n",
        "df[condition_list]"
      ]
    },
    {
      "cell_type": "code",
      "execution_count": null,
      "metadata": {
        "id": "CrjjtfhQiHDl",
        "outputId": "97a6f74f-4819-4c94-e942-60a2a52511be"
      },
      "outputs": [
        {
          "name": "stdout",
          "output_type": "stream",
          "text": [
            "0     True\n",
            "1     True\n",
            "2     True\n",
            "3    False\n",
            "4    False\n",
            "5    False\n",
            "Name: population, dtype: bool\n"
          ]
        },
        {
          "data": {
            "text/html": [
              "<div>\n",
              "<style scoped>\n",
              "    .dataframe tbody tr th:only-of-type {\n",
              "        vertical-align: middle;\n",
              "    }\n",
              "\n",
              "    .dataframe tbody tr th {\n",
              "        vertical-align: top;\n",
              "    }\n",
              "\n",
              "    .dataframe thead th {\n",
              "        text-align: right;\n",
              "    }\n",
              "</style>\n",
              "<table border=\"1\" class=\"dataframe\">\n",
              "  <thead>\n",
              "    <tr style=\"text-align: right;\">\n",
              "      <th></th>\n",
              "      <th>province</th>\n",
              "      <th>year</th>\n",
              "      <th>population</th>\n",
              "      <th>source</th>\n",
              "      <th>population (K)</th>\n",
              "      <th>LN population</th>\n",
              "    </tr>\n",
              "  </thead>\n",
              "  <tbody>\n",
              "    <tr>\n",
              "      <th>0</th>\n",
              "      <td>Chiang Mai</td>\n",
              "      <td>2016</td>\n",
              "      <td>1630428</td>\n",
              "      <td>A</td>\n",
              "      <td>1630.428</td>\n",
              "      <td>14.304353</td>\n",
              "    </tr>\n",
              "    <tr>\n",
              "      <th>1</th>\n",
              "      <td>Chiang Mai</td>\n",
              "      <td>2017</td>\n",
              "      <td>1664012</td>\n",
              "      <td>B</td>\n",
              "      <td>1664.012</td>\n",
              "      <td>14.324742</td>\n",
              "    </tr>\n",
              "    <tr>\n",
              "      <th>2</th>\n",
              "      <td>Chiang Mai</td>\n",
              "      <td>2018</td>\n",
              "      <td>1687971</td>\n",
              "      <td>A</td>\n",
              "      <td>1687.971</td>\n",
              "      <td>14.339038</td>\n",
              "    </tr>\n",
              "  </tbody>\n",
              "</table>\n",
              "</div>"
            ],
            "text/plain": [
              "     province  year  population source  population (K)  LN population\n",
              "0  Chiang Mai  2016     1630428      A        1630.428      14.304353\n",
              "1  Chiang Mai  2017     1664012      B        1664.012      14.324742\n",
              "2  Chiang Mai  2018     1687971      A        1687.971      14.339038"
            ]
          },
          "metadata": {},
          "output_type": "display_data"
        }
      ],
      "source": [
        "condition_list = df[\"population\"] > 1000000\n",
        "print(condition_list)\n",
        "display(df[condition_list])"
      ]
    },
    {
      "cell_type": "code",
      "execution_count": null,
      "metadata": {
        "id": "HyCz7DhAiHDq",
        "outputId": "3d62a1ca-1868-47d6-f76a-7d18496a2127"
      },
      "outputs": [
        {
          "name": "stdout",
          "output_type": "stream",
          "text": [
            "0     True\n",
            "1     True\n",
            "2     True\n",
            "3    False\n",
            "4    False\n",
            "5    False\n",
            "dtype: bool\n"
          ]
        },
        {
          "data": {
            "text/html": [
              "<div>\n",
              "<style scoped>\n",
              "    .dataframe tbody tr th:only-of-type {\n",
              "        vertical-align: middle;\n",
              "    }\n",
              "\n",
              "    .dataframe tbody tr th {\n",
              "        vertical-align: top;\n",
              "    }\n",
              "\n",
              "    .dataframe thead th {\n",
              "        text-align: right;\n",
              "    }\n",
              "</style>\n",
              "<table border=\"1\" class=\"dataframe\">\n",
              "  <thead>\n",
              "    <tr style=\"text-align: right;\">\n",
              "      <th></th>\n",
              "      <th>province</th>\n",
              "      <th>year</th>\n",
              "      <th>population</th>\n",
              "      <th>source</th>\n",
              "      <th>population (K)</th>\n",
              "      <th>LN population</th>\n",
              "    </tr>\n",
              "  </thead>\n",
              "  <tbody>\n",
              "    <tr>\n",
              "      <th>0</th>\n",
              "      <td>Chiang Mai</td>\n",
              "      <td>2016</td>\n",
              "      <td>1630428</td>\n",
              "      <td>A</td>\n",
              "      <td>1630.428</td>\n",
              "      <td>14.304353</td>\n",
              "    </tr>\n",
              "    <tr>\n",
              "      <th>1</th>\n",
              "      <td>Chiang Mai</td>\n",
              "      <td>2017</td>\n",
              "      <td>1664012</td>\n",
              "      <td>B</td>\n",
              "      <td>1664.012</td>\n",
              "      <td>14.324742</td>\n",
              "    </tr>\n",
              "    <tr>\n",
              "      <th>2</th>\n",
              "      <td>Chiang Mai</td>\n",
              "      <td>2018</td>\n",
              "      <td>1687971</td>\n",
              "      <td>A</td>\n",
              "      <td>1687.971</td>\n",
              "      <td>14.339038</td>\n",
              "    </tr>\n",
              "  </tbody>\n",
              "</table>\n",
              "</div>"
            ],
            "text/plain": [
              "     province  year  population source  population (K)  LN population\n",
              "0  Chiang Mai  2016     1630428      A        1630.428      14.304353\n",
              "1  Chiang Mai  2017     1664012      B        1664.012      14.324742\n",
              "2  Chiang Mai  2018     1687971      A        1687.971      14.339038"
            ]
          },
          "metadata": {},
          "output_type": "display_data"
        }
      ],
      "source": [
        "# Multiple condition (and)\n",
        "condition_list = (df[\"province\"] == \"Chiang Mai\") & (df[\"population\"] > 1000000)\n",
        "print(condition_list)\n",
        "display(df[condition_list])"
      ]
    },
    {
      "cell_type": "code",
      "execution_count": null,
      "metadata": {
        "id": "Qa0-v43FiHDv",
        "outputId": "a37fe8c5-5505-482c-f225-1997cc73f43c"
      },
      "outputs": [
        {
          "name": "stdout",
          "output_type": "stream",
          "text": [
            "0     True\n",
            "1     True\n",
            "2     True\n",
            "3    False\n",
            "4    False\n",
            "5    False\n",
            "dtype: bool\n"
          ]
        },
        {
          "data": {
            "text/html": [
              "<div>\n",
              "<style scoped>\n",
              "    .dataframe tbody tr th:only-of-type {\n",
              "        vertical-align: middle;\n",
              "    }\n",
              "\n",
              "    .dataframe tbody tr th {\n",
              "        vertical-align: top;\n",
              "    }\n",
              "\n",
              "    .dataframe thead th {\n",
              "        text-align: right;\n",
              "    }\n",
              "</style>\n",
              "<table border=\"1\" class=\"dataframe\">\n",
              "  <thead>\n",
              "    <tr style=\"text-align: right;\">\n",
              "      <th></th>\n",
              "      <th>province</th>\n",
              "      <th>year</th>\n",
              "      <th>population</th>\n",
              "      <th>source</th>\n",
              "      <th>population (K)</th>\n",
              "      <th>LN population</th>\n",
              "    </tr>\n",
              "  </thead>\n",
              "  <tbody>\n",
              "    <tr>\n",
              "      <th>0</th>\n",
              "      <td>Chiang Mai</td>\n",
              "      <td>2016</td>\n",
              "      <td>1630428</td>\n",
              "      <td>A</td>\n",
              "      <td>1630.428</td>\n",
              "      <td>14.304353</td>\n",
              "    </tr>\n",
              "    <tr>\n",
              "      <th>1</th>\n",
              "      <td>Chiang Mai</td>\n",
              "      <td>2017</td>\n",
              "      <td>1664012</td>\n",
              "      <td>B</td>\n",
              "      <td>1664.012</td>\n",
              "      <td>14.324742</td>\n",
              "    </tr>\n",
              "    <tr>\n",
              "      <th>2</th>\n",
              "      <td>Chiang Mai</td>\n",
              "      <td>2018</td>\n",
              "      <td>1687971</td>\n",
              "      <td>A</td>\n",
              "      <td>1687.971</td>\n",
              "      <td>14.339038</td>\n",
              "    </tr>\n",
              "  </tbody>\n",
              "</table>\n",
              "</div>"
            ],
            "text/plain": [
              "     province  year  population source  population (K)  LN population\n",
              "0  Chiang Mai  2016     1630428      A        1630.428      14.304353\n",
              "1  Chiang Mai  2017     1664012      B        1664.012      14.324742\n",
              "2  Chiang Mai  2018     1687971      A        1687.971      14.339038"
            ]
          },
          "metadata": {},
          "output_type": "display_data"
        }
      ],
      "source": [
        "# Multiple condition (or)\n",
        "condition_list = (df[\"province\"] == \"Chiang Mai\") | (df[\"population\"] > 1000000)\n",
        "print(condition_list)\n",
        "display(df[condition_list])"
      ]
    },
    {
      "cell_type": "markdown",
      "metadata": {
        "id": "vTSvaA3tiHDx"
      },
      "source": [
        "### Sorting"
      ]
    },
    {
      "cell_type": "code",
      "execution_count": null,
      "metadata": {
        "id": "GHiiO_ohiHDx",
        "outputId": "83027f8d-6b70-4525-94cf-2e915604a503"
      },
      "outputs": [
        {
          "data": {
            "text/html": [
              "<div>\n",
              "<style scoped>\n",
              "    .dataframe tbody tr th:only-of-type {\n",
              "        vertical-align: middle;\n",
              "    }\n",
              "\n",
              "    .dataframe tbody tr th {\n",
              "        vertical-align: top;\n",
              "    }\n",
              "\n",
              "    .dataframe thead th {\n",
              "        text-align: right;\n",
              "    }\n",
              "</style>\n",
              "<table border=\"1\" class=\"dataframe\">\n",
              "  <thead>\n",
              "    <tr style=\"text-align: right;\">\n",
              "      <th></th>\n",
              "      <th>province</th>\n",
              "      <th>year</th>\n",
              "      <th>population</th>\n",
              "      <th>source</th>\n",
              "      <th>population (K)</th>\n",
              "      <th>LN population</th>\n",
              "    </tr>\n",
              "  </thead>\n",
              "  <tbody>\n",
              "    <tr>\n",
              "      <th>3</th>\n",
              "      <td>Phrae</td>\n",
              "      <td>2016</td>\n",
              "      <td>398936</td>\n",
              "      <td>C</td>\n",
              "      <td>398.936</td>\n",
              "      <td>12.896556</td>\n",
              "    </tr>\n",
              "    <tr>\n",
              "      <th>4</th>\n",
              "      <td>Phrae</td>\n",
              "      <td>2017</td>\n",
              "      <td>410382</td>\n",
              "      <td>A</td>\n",
              "      <td>410.382</td>\n",
              "      <td>12.924844</td>\n",
              "    </tr>\n",
              "    <tr>\n",
              "      <th>5</th>\n",
              "      <td>Phrae</td>\n",
              "      <td>2018</td>\n",
              "      <td>421653</td>\n",
              "      <td>B</td>\n",
              "      <td>421.653</td>\n",
              "      <td>12.951938</td>\n",
              "    </tr>\n",
              "    <tr>\n",
              "      <th>0</th>\n",
              "      <td>Chiang Mai</td>\n",
              "      <td>2016</td>\n",
              "      <td>1630428</td>\n",
              "      <td>A</td>\n",
              "      <td>1630.428</td>\n",
              "      <td>14.304353</td>\n",
              "    </tr>\n",
              "    <tr>\n",
              "      <th>1</th>\n",
              "      <td>Chiang Mai</td>\n",
              "      <td>2017</td>\n",
              "      <td>1664012</td>\n",
              "      <td>B</td>\n",
              "      <td>1664.012</td>\n",
              "      <td>14.324742</td>\n",
              "    </tr>\n",
              "    <tr>\n",
              "      <th>2</th>\n",
              "      <td>Chiang Mai</td>\n",
              "      <td>2018</td>\n",
              "      <td>1687971</td>\n",
              "      <td>A</td>\n",
              "      <td>1687.971</td>\n",
              "      <td>14.339038</td>\n",
              "    </tr>\n",
              "  </tbody>\n",
              "</table>\n",
              "</div>"
            ],
            "text/plain": [
              "     province  year  population source  population (K)  LN population\n",
              "3       Phrae  2016      398936      C         398.936      12.896556\n",
              "4       Phrae  2017      410382      A         410.382      12.924844\n",
              "5       Phrae  2018      421653      B         421.653      12.951938\n",
              "0  Chiang Mai  2016     1630428      A        1630.428      14.304353\n",
              "1  Chiang Mai  2017     1664012      B        1664.012      14.324742\n",
              "2  Chiang Mai  2018     1687971      A        1687.971      14.339038"
            ]
          },
          "execution_count": 131,
          "metadata": {},
          "output_type": "execute_result"
        }
      ],
      "source": [
        "df.sort_values(by=\"population\")"
      ]
    },
    {
      "cell_type": "code",
      "execution_count": null,
      "metadata": {
        "id": "dgmElMTliHD0",
        "outputId": "0b218546-0347-48be-8962-146089fa7446"
      },
      "outputs": [
        {
          "data": {
            "text/html": [
              "<div>\n",
              "<style scoped>\n",
              "    .dataframe tbody tr th:only-of-type {\n",
              "        vertical-align: middle;\n",
              "    }\n",
              "\n",
              "    .dataframe tbody tr th {\n",
              "        vertical-align: top;\n",
              "    }\n",
              "\n",
              "    .dataframe thead th {\n",
              "        text-align: right;\n",
              "    }\n",
              "</style>\n",
              "<table border=\"1\" class=\"dataframe\">\n",
              "  <thead>\n",
              "    <tr style=\"text-align: right;\">\n",
              "      <th></th>\n",
              "      <th>province</th>\n",
              "      <th>year</th>\n",
              "      <th>population</th>\n",
              "      <th>source</th>\n",
              "      <th>population (K)</th>\n",
              "      <th>LN population</th>\n",
              "    </tr>\n",
              "  </thead>\n",
              "  <tbody>\n",
              "    <tr>\n",
              "      <th>2</th>\n",
              "      <td>Chiang Mai</td>\n",
              "      <td>2018</td>\n",
              "      <td>1687971</td>\n",
              "      <td>A</td>\n",
              "      <td>1687.971</td>\n",
              "      <td>14.339038</td>\n",
              "    </tr>\n",
              "    <tr>\n",
              "      <th>1</th>\n",
              "      <td>Chiang Mai</td>\n",
              "      <td>2017</td>\n",
              "      <td>1664012</td>\n",
              "      <td>B</td>\n",
              "      <td>1664.012</td>\n",
              "      <td>14.324742</td>\n",
              "    </tr>\n",
              "    <tr>\n",
              "      <th>0</th>\n",
              "      <td>Chiang Mai</td>\n",
              "      <td>2016</td>\n",
              "      <td>1630428</td>\n",
              "      <td>A</td>\n",
              "      <td>1630.428</td>\n",
              "      <td>14.304353</td>\n",
              "    </tr>\n",
              "    <tr>\n",
              "      <th>5</th>\n",
              "      <td>Phrae</td>\n",
              "      <td>2018</td>\n",
              "      <td>421653</td>\n",
              "      <td>B</td>\n",
              "      <td>421.653</td>\n",
              "      <td>12.951938</td>\n",
              "    </tr>\n",
              "    <tr>\n",
              "      <th>4</th>\n",
              "      <td>Phrae</td>\n",
              "      <td>2017</td>\n",
              "      <td>410382</td>\n",
              "      <td>A</td>\n",
              "      <td>410.382</td>\n",
              "      <td>12.924844</td>\n",
              "    </tr>\n",
              "    <tr>\n",
              "      <th>3</th>\n",
              "      <td>Phrae</td>\n",
              "      <td>2016</td>\n",
              "      <td>398936</td>\n",
              "      <td>C</td>\n",
              "      <td>398.936</td>\n",
              "      <td>12.896556</td>\n",
              "    </tr>\n",
              "  </tbody>\n",
              "</table>\n",
              "</div>"
            ],
            "text/plain": [
              "     province  year  population source  population (K)  LN population\n",
              "2  Chiang Mai  2018     1687971      A        1687.971      14.339038\n",
              "1  Chiang Mai  2017     1664012      B        1664.012      14.324742\n",
              "0  Chiang Mai  2016     1630428      A        1630.428      14.304353\n",
              "5       Phrae  2018      421653      B         421.653      12.951938\n",
              "4       Phrae  2017      410382      A         410.382      12.924844\n",
              "3       Phrae  2016      398936      C         398.936      12.896556"
            ]
          },
          "execution_count": 132,
          "metadata": {},
          "output_type": "execute_result"
        }
      ],
      "source": [
        "df.sort_values(by=\"population\", ascending=False)"
      ]
    },
    {
      "cell_type": "code",
      "execution_count": null,
      "metadata": {
        "id": "f5XWNGRdiHD3",
        "outputId": "505e224a-bcea-4910-b0bc-00dd0f141d5d"
      },
      "outputs": [
        {
          "data": {
            "text/html": [
              "<div>\n",
              "<style scoped>\n",
              "    .dataframe tbody tr th:only-of-type {\n",
              "        vertical-align: middle;\n",
              "    }\n",
              "\n",
              "    .dataframe tbody tr th {\n",
              "        vertical-align: top;\n",
              "    }\n",
              "\n",
              "    .dataframe thead th {\n",
              "        text-align: right;\n",
              "    }\n",
              "</style>\n",
              "<table border=\"1\" class=\"dataframe\">\n",
              "  <thead>\n",
              "    <tr style=\"text-align: right;\">\n",
              "      <th></th>\n",
              "      <th>province</th>\n",
              "      <th>year</th>\n",
              "      <th>population</th>\n",
              "      <th>source</th>\n",
              "      <th>population (K)</th>\n",
              "      <th>LN population</th>\n",
              "    </tr>\n",
              "  </thead>\n",
              "  <tbody>\n",
              "    <tr>\n",
              "      <th>0</th>\n",
              "      <td>Chiang Mai</td>\n",
              "      <td>2016</td>\n",
              "      <td>1630428</td>\n",
              "      <td>A</td>\n",
              "      <td>1630.428</td>\n",
              "      <td>14.304353</td>\n",
              "    </tr>\n",
              "    <tr>\n",
              "      <th>3</th>\n",
              "      <td>Phrae</td>\n",
              "      <td>2016</td>\n",
              "      <td>398936</td>\n",
              "      <td>C</td>\n",
              "      <td>398.936</td>\n",
              "      <td>12.896556</td>\n",
              "    </tr>\n",
              "    <tr>\n",
              "      <th>1</th>\n",
              "      <td>Chiang Mai</td>\n",
              "      <td>2017</td>\n",
              "      <td>1664012</td>\n",
              "      <td>B</td>\n",
              "      <td>1664.012</td>\n",
              "      <td>14.324742</td>\n",
              "    </tr>\n",
              "    <tr>\n",
              "      <th>4</th>\n",
              "      <td>Phrae</td>\n",
              "      <td>2017</td>\n",
              "      <td>410382</td>\n",
              "      <td>A</td>\n",
              "      <td>410.382</td>\n",
              "      <td>12.924844</td>\n",
              "    </tr>\n",
              "    <tr>\n",
              "      <th>2</th>\n",
              "      <td>Chiang Mai</td>\n",
              "      <td>2018</td>\n",
              "      <td>1687971</td>\n",
              "      <td>A</td>\n",
              "      <td>1687.971</td>\n",
              "      <td>14.339038</td>\n",
              "    </tr>\n",
              "    <tr>\n",
              "      <th>5</th>\n",
              "      <td>Phrae</td>\n",
              "      <td>2018</td>\n",
              "      <td>421653</td>\n",
              "      <td>B</td>\n",
              "      <td>421.653</td>\n",
              "      <td>12.951938</td>\n",
              "    </tr>\n",
              "  </tbody>\n",
              "</table>\n",
              "</div>"
            ],
            "text/plain": [
              "     province  year  population source  population (K)  LN population\n",
              "0  Chiang Mai  2016     1630428      A        1630.428      14.304353\n",
              "3       Phrae  2016      398936      C         398.936      12.896556\n",
              "1  Chiang Mai  2017     1664012      B        1664.012      14.324742\n",
              "4       Phrae  2017      410382      A         410.382      12.924844\n",
              "2  Chiang Mai  2018     1687971      A        1687.971      14.339038\n",
              "5       Phrae  2018      421653      B         421.653      12.951938"
            ]
          },
          "execution_count": 133,
          "metadata": {},
          "output_type": "execute_result"
        }
      ],
      "source": [
        "df.sort_values(by=[\"year\", \"population\"], ascending=[True, False])"
      ]
    },
    {
      "cell_type": "code",
      "execution_count": null,
      "metadata": {
        "id": "MQKUolkmfp-b"
      },
      "outputs": [],
      "source": [
        "df3 = df.sort_values(by=[\"year\", \"population\"], ascending=[True, False])"
      ]
    },
    {
      "cell_type": "code",
      "execution_count": null,
      "metadata": {
        "id": "LyPcfzWNecLb",
        "outputId": "af8cef0d-b21e-4afe-d898-52270857455a"
      },
      "outputs": [
        {
          "data": {
            "text/html": [
              "<div>\n",
              "<style scoped>\n",
              "    .dataframe tbody tr th:only-of-type {\n",
              "        vertical-align: middle;\n",
              "    }\n",
              "\n",
              "    .dataframe tbody tr th {\n",
              "        vertical-align: top;\n",
              "    }\n",
              "\n",
              "    .dataframe thead th {\n",
              "        text-align: right;\n",
              "    }\n",
              "</style>\n",
              "<table border=\"1\" class=\"dataframe\">\n",
              "  <thead>\n",
              "    <tr style=\"text-align: right;\">\n",
              "      <th></th>\n",
              "      <th>province</th>\n",
              "      <th>year</th>\n",
              "      <th>population</th>\n",
              "      <th>source</th>\n",
              "      <th>population (K)</th>\n",
              "      <th>LN population</th>\n",
              "    </tr>\n",
              "  </thead>\n",
              "  <tbody>\n",
              "    <tr>\n",
              "      <th>0</th>\n",
              "      <td>Chiang Mai</td>\n",
              "      <td>2016</td>\n",
              "      <td>1630428</td>\n",
              "      <td>A</td>\n",
              "      <td>1630.428</td>\n",
              "      <td>14.304353</td>\n",
              "    </tr>\n",
              "    <tr>\n",
              "      <th>3</th>\n",
              "      <td>Phrae</td>\n",
              "      <td>2016</td>\n",
              "      <td>398936</td>\n",
              "      <td>C</td>\n",
              "      <td>398.936</td>\n",
              "      <td>12.896556</td>\n",
              "    </tr>\n",
              "    <tr>\n",
              "      <th>1</th>\n",
              "      <td>Chiang Mai</td>\n",
              "      <td>2017</td>\n",
              "      <td>1664012</td>\n",
              "      <td>B</td>\n",
              "      <td>1664.012</td>\n",
              "      <td>14.324742</td>\n",
              "    </tr>\n",
              "    <tr>\n",
              "      <th>4</th>\n",
              "      <td>Phrae</td>\n",
              "      <td>2017</td>\n",
              "      <td>410382</td>\n",
              "      <td>A</td>\n",
              "      <td>410.382</td>\n",
              "      <td>12.924844</td>\n",
              "    </tr>\n",
              "    <tr>\n",
              "      <th>2</th>\n",
              "      <td>Chiang Mai</td>\n",
              "      <td>2018</td>\n",
              "      <td>1687971</td>\n",
              "      <td>A</td>\n",
              "      <td>1687.971</td>\n",
              "      <td>14.339038</td>\n",
              "    </tr>\n",
              "    <tr>\n",
              "      <th>5</th>\n",
              "      <td>Phrae</td>\n",
              "      <td>2018</td>\n",
              "      <td>421653</td>\n",
              "      <td>B</td>\n",
              "      <td>421.653</td>\n",
              "      <td>12.951938</td>\n",
              "    </tr>\n",
              "  </tbody>\n",
              "</table>\n",
              "</div>"
            ],
            "text/plain": [
              "     province  year  population source  population (K)  LN population\n",
              "0  Chiang Mai  2016     1630428      A        1630.428      14.304353\n",
              "3       Phrae  2016      398936      C         398.936      12.896556\n",
              "1  Chiang Mai  2017     1664012      B        1664.012      14.324742\n",
              "4       Phrae  2017      410382      A         410.382      12.924844\n",
              "2  Chiang Mai  2018     1687971      A        1687.971      14.339038\n",
              "5       Phrae  2018      421653      B         421.653      12.951938"
            ]
          },
          "execution_count": 135,
          "metadata": {},
          "output_type": "execute_result"
        }
      ],
      "source": [
        "df3"
      ]
    },
    {
      "cell_type": "markdown",
      "metadata": {
        "id": "zSzelOopiHD8"
      },
      "source": [
        "## Basic Statistic"
      ]
    },
    {
      "cell_type": "markdown",
      "metadata": {
        "id": "knBNF0-3iHD9"
      },
      "source": [
        "**Descriptive and summary statistics methods**\n",
        "- **count** <br> Number of non-NA values\n",
        "- **describe** <br> Compute set of summary statistics for Series or each DataFrame column\n",
        "- **min, max** <br> Compute minimum and maximum values\n",
        "- **argmin, argmax** <br> Compute index locations (integers) at which minimum or maximum value obtained, respectively\n",
        "- **idxmin, idxmax** <br> Compute index labels at which minimum or maximum value obtained, respectively\n",
        "- **quantile** <br> Compute sample quantile ranging from 0 to 1\n",
        "- **sum** <br> Sum of values\n",
        "- **mean** <br> Mean of values\n",
        "- **median** <br> Arithmetic median (50% quantile) of values\n",
        "- **mad** <br> Mean absolute deviation from mean value\n",
        "- **prod** <br> Product of all values\n",
        "- **var** <br> Sample variance of values\n",
        "- **std** <br> Sample standard deviation of values\n",
        "- **skew** <br> Sample skewness (third moment) of values\n",
        "- **kurt** <br> Sample kurtosis (fourth moment) of values\n",
        "- **cumsum** <br> Cumulative sum of values\n",
        "- **cummin, cummax** <br> Cumulative minimum or maximum of values, respectively\n",
        "- **cumprod** <br> Cumulative product of values\n",
        "- **diff** <br> Compute first arithmetic difference (useful for time series)\n",
        "- **pct_change** <br> Compute percent changes"
      ]
    },
    {
      "cell_type": "markdown",
      "metadata": {
        "id": "zwhCDqaCiHD9"
      },
      "source": [
        "### Numeric"
      ]
    },
    {
      "cell_type": "code",
      "execution_count": null,
      "metadata": {
        "id": "kPv9DR_kiHD-",
        "outputId": "72b6da35-0dbf-46cd-fa6d-86cede464cf9"
      },
      "outputs": [
        {
          "data": {
            "text/plain": [
              "year              2.017000e+03\n",
              "population        1.035564e+06\n",
              "population (K)    1.035564e+03\n",
              "LN population     1.362358e+01\n",
              "dtype: float64"
            ]
          },
          "execution_count": 136,
          "metadata": {},
          "output_type": "execute_result"
        }
      ],
      "source": [
        "# Find Mean in all numeric columns\n",
        "df.mean(numeric_only=True)"
      ]
    },
    {
      "cell_type": "code",
      "execution_count": null,
      "metadata": {
        "id": "LTqz-ZVBiHEB",
        "outputId": "cd9634d7-0e96-4f7f-a5d6-7637aaefde4c"
      },
      "outputs": [
        {
          "data": {
            "text/plain": [
              "1035563.6666666666"
            ]
          },
          "execution_count": 137,
          "metadata": {},
          "output_type": "execute_result"
        }
      ],
      "source": [
        "# Find Mean in some column\n",
        "df[\"population\"].mean()"
      ]
    },
    {
      "cell_type": "code",
      "execution_count": 44,
      "metadata": {
        "id": "L5XKvTQdiHED",
        "outputId": "6405c16f-7526-4db1-a238-f800e31cc046"
      },
      "outputs": [
        {
          "data": {
            "text/plain": [
              "population        1.035564e+06\n",
              "population (K)    1.035564e+03\n",
              "dtype: float64"
            ]
          },
          "execution_count": 44,
          "metadata": {},
          "output_type": "execute_result"
        }
      ],
      "source": [
        "# Find Mean in some column\n",
        "column_list = [\"population\", \"population (K)\"]\n",
        "df[column_list].mean()\n",
        "df[[\"population\", \"population (K)\"]].mean()"
      ]
    },
    {
      "cell_type": "code",
      "execution_count": null,
      "metadata": {
        "id": "w9CMcQ9XiHEF",
        "outputId": "d4459b88-7676-4bda-f99e-0693ae402623",
        "scrolled": true
      },
      "outputs": [
        {
          "data": {
            "text/plain": [
              "population        6\n",
              "population (K)    6\n",
              "dtype: int64"
            ]
          },
          "execution_count": 139,
          "metadata": {},
          "output_type": "execute_result"
        }
      ],
      "source": [
        "df[column_list].count()"
      ]
    },
    {
      "cell_type": "code",
      "execution_count": null,
      "metadata": {
        "id": "OiXX1fzjiHEH",
        "outputId": "a5fce822-bb7b-4672-876b-5bdb4f6f0103"
      },
      "outputs": [
        {
          "data": {
            "text/plain": [
              "population        398936.000\n",
              "population (K)       398.936\n",
              "dtype: float64"
            ]
          },
          "execution_count": 140,
          "metadata": {},
          "output_type": "execute_result"
        }
      ],
      "source": [
        "df[column_list].min()"
      ]
    },
    {
      "cell_type": "code",
      "execution_count": null,
      "metadata": {
        "id": "R7Tn_yk5iHEJ",
        "outputId": "6721f19b-6d99-4756-b1aa-105e58643d75"
      },
      "outputs": [
        {
          "data": {
            "text/plain": [
              "population        1687971.000\n",
              "population (K)       1687.971\n",
              "dtype: float64"
            ]
          },
          "execution_count": 141,
          "metadata": {},
          "output_type": "execute_result"
        }
      ],
      "source": [
        "df[column_list].max()"
      ]
    },
    {
      "cell_type": "code",
      "execution_count": null,
      "metadata": {
        "id": "ArZlrWREiHEL",
        "outputId": "c6aed012-533b-4bd7-ea13-00ca78d4292c"
      },
      "outputs": [
        {
          "data": {
            "text/plain": [
              "population        1.026040e+06\n",
              "population (K)    1.026041e+03\n",
              "dtype: float64"
            ]
          },
          "execution_count": 142,
          "metadata": {},
          "output_type": "execute_result"
        }
      ],
      "source": [
        "df[column_list].median()"
      ]
    },
    {
      "cell_type": "code",
      "execution_count": null,
      "metadata": {
        "id": "kKpyRpEqiHEN",
        "outputId": "c9f056b7-5171-452d-d5cf-72e2c969fe0e"
      },
      "outputs": [
        {
          "data": {
            "text/plain": [
              "population        685197.697059\n",
              "population (K)       685.197697\n",
              "dtype: float64"
            ]
          },
          "execution_count": 143,
          "metadata": {},
          "output_type": "execute_result"
        }
      ],
      "source": [
        "df[column_list].std()"
      ]
    },
    {
      "cell_type": "code",
      "execution_count": null,
      "metadata": {
        "id": "77ve9W-ViHEP",
        "outputId": "015f7be6-d4e1-4b3e-8526-927b2dbe4bab",
        "scrolled": true
      },
      "outputs": [
        {
          "data": {
            "text/html": [
              "<div>\n",
              "<style scoped>\n",
              "    .dataframe tbody tr th:only-of-type {\n",
              "        vertical-align: middle;\n",
              "    }\n",
              "\n",
              "    .dataframe tbody tr th {\n",
              "        vertical-align: top;\n",
              "    }\n",
              "\n",
              "    .dataframe thead th {\n",
              "        text-align: right;\n",
              "    }\n",
              "</style>\n",
              "<table border=\"1\" class=\"dataframe\">\n",
              "  <thead>\n",
              "    <tr style=\"text-align: right;\">\n",
              "      <th></th>\n",
              "      <th>population</th>\n",
              "      <th>population (K)</th>\n",
              "    </tr>\n",
              "  </thead>\n",
              "  <tbody>\n",
              "    <tr>\n",
              "      <th>population</th>\n",
              "      <td>1.0</td>\n",
              "      <td>1.0</td>\n",
              "    </tr>\n",
              "    <tr>\n",
              "      <th>population (K)</th>\n",
              "      <td>1.0</td>\n",
              "      <td>1.0</td>\n",
              "    </tr>\n",
              "  </tbody>\n",
              "</table>\n",
              "</div>"
            ],
            "text/plain": [
              "                population  population (K)\n",
              "population             1.0             1.0\n",
              "population (K)         1.0             1.0"
            ]
          },
          "execution_count": 144,
          "metadata": {},
          "output_type": "execute_result"
        }
      ],
      "source": [
        "df[column_list].corr()"
      ]
    },
    {
      "cell_type": "code",
      "execution_count": null,
      "metadata": {
        "id": "yqc6a_dPiHER",
        "outputId": "d2b5edfb-30af-44d4-cd77-1f115916fbd5"
      },
      "outputs": [
        {
          "data": {
            "text/plain": [
              "year              2.017750e+03\n",
              "population        1.655616e+06\n",
              "population (K)    1.655616e+03\n",
              "LN population     1.431964e+01\n",
              "Name: 0.75, dtype: float64"
            ]
          },
          "execution_count": 145,
          "metadata": {},
          "output_type": "execute_result"
        }
      ],
      "source": [
        "df.quantile(0.75, numeric_only=True)"
      ]
    },
    {
      "cell_type": "markdown",
      "metadata": {
        "id": "F40RKnBDiHET"
      },
      "source": [
        "### Object"
      ]
    },
    {
      "cell_type": "code",
      "execution_count": null,
      "metadata": {
        "id": "_tUoYUU0iHET",
        "outputId": "1b752f4d-7dbb-4333-ea21-1b632d3dd937"
      },
      "outputs": [
        {
          "data": {
            "text/plain": [
              "array(['Chiang Mai', 'Phrae'], dtype=object)"
            ]
          },
          "execution_count": 146,
          "metadata": {},
          "output_type": "execute_result"
        }
      ],
      "source": [
        "df[\"province\"].unique()"
      ]
    },
    {
      "cell_type": "code",
      "execution_count": null,
      "metadata": {
        "id": "oWtCbSnWiHEZ",
        "outputId": "9993c49d-4c48-4f3e-fd41-eee68a664dd6"
      },
      "outputs": [
        {
          "data": {
            "text/plain": [
              "2"
            ]
          },
          "execution_count": 147,
          "metadata": {},
          "output_type": "execute_result"
        }
      ],
      "source": [
        "df[\"province\"].nunique()"
      ]
    },
    {
      "cell_type": "code",
      "execution_count": null,
      "metadata": {
        "id": "wqJBODsuiHEb",
        "outputId": "1a8897af-561b-466d-9a1c-1e366cf01922"
      },
      "outputs": [
        {
          "data": {
            "text/plain": [
              "Chiang Mai    3\n",
              "Phrae         3\n",
              "Name: province, dtype: int64"
            ]
          },
          "execution_count": 148,
          "metadata": {},
          "output_type": "execute_result"
        }
      ],
      "source": [
        "df[\"province\"].value_counts()"
      ]
    },
    {
      "cell_type": "markdown",
      "metadata": {
        "id": "Ya1bCt1EiHEd"
      },
      "source": [
        "### Describe"
      ]
    },
    {
      "cell_type": "code",
      "execution_count": null,
      "metadata": {
        "id": "rS0QXtmPiHEd",
        "outputId": "17aada96-b399-4ab7-e437-1ef567e55073"
      },
      "outputs": [
        {
          "data": {
            "text/html": [
              "<div>\n",
              "<style scoped>\n",
              "    .dataframe tbody tr th:only-of-type {\n",
              "        vertical-align: middle;\n",
              "    }\n",
              "\n",
              "    .dataframe tbody tr th {\n",
              "        vertical-align: top;\n",
              "    }\n",
              "\n",
              "    .dataframe thead th {\n",
              "        text-align: right;\n",
              "    }\n",
              "</style>\n",
              "<table border=\"1\" class=\"dataframe\">\n",
              "  <thead>\n",
              "    <tr style=\"text-align: right;\">\n",
              "      <th></th>\n",
              "      <th>year</th>\n",
              "      <th>population</th>\n",
              "    </tr>\n",
              "  </thead>\n",
              "  <tbody>\n",
              "    <tr>\n",
              "      <th>count</th>\n",
              "      <td>6.000000</td>\n",
              "      <td>6.000000e+00</td>\n",
              "    </tr>\n",
              "    <tr>\n",
              "      <th>mean</th>\n",
              "      <td>2017.000000</td>\n",
              "      <td>1.035564e+06</td>\n",
              "    </tr>\n",
              "    <tr>\n",
              "      <th>std</th>\n",
              "      <td>0.894427</td>\n",
              "      <td>6.851977e+05</td>\n",
              "    </tr>\n",
              "    <tr>\n",
              "      <th>min</th>\n",
              "      <td>2016.000000</td>\n",
              "      <td>3.989360e+05</td>\n",
              "    </tr>\n",
              "    <tr>\n",
              "      <th>25%</th>\n",
              "      <td>2016.250000</td>\n",
              "      <td>4.131998e+05</td>\n",
              "    </tr>\n",
              "    <tr>\n",
              "      <th>50%</th>\n",
              "      <td>2017.000000</td>\n",
              "      <td>1.026040e+06</td>\n",
              "    </tr>\n",
              "    <tr>\n",
              "      <th>75%</th>\n",
              "      <td>2017.750000</td>\n",
              "      <td>1.655616e+06</td>\n",
              "    </tr>\n",
              "    <tr>\n",
              "      <th>max</th>\n",
              "      <td>2018.000000</td>\n",
              "      <td>1.687971e+06</td>\n",
              "    </tr>\n",
              "  </tbody>\n",
              "</table>\n",
              "</div>"
            ],
            "text/plain": [
              "              year    population\n",
              "count     6.000000  6.000000e+00\n",
              "mean   2017.000000  1.035564e+06\n",
              "std       0.894427  6.851977e+05\n",
              "min    2016.000000  3.989360e+05\n",
              "25%    2016.250000  4.131998e+05\n",
              "50%    2017.000000  1.026040e+06\n",
              "75%    2017.750000  1.655616e+06\n",
              "max    2018.000000  1.687971e+06"
            ]
          },
          "execution_count": 149,
          "metadata": {},
          "output_type": "execute_result"
        }
      ],
      "source": [
        "# Numeric\n",
        "df[columns_list].describe()"
      ]
    },
    {
      "cell_type": "code",
      "execution_count": null,
      "metadata": {
        "id": "-J4NYD10iHEf",
        "outputId": "6753159a-f735-4fdf-e66a-85f0a6c6c8f2"
      },
      "outputs": [
        {
          "data": {
            "text/html": [
              "<div>\n",
              "<style scoped>\n",
              "    .dataframe tbody tr th:only-of-type {\n",
              "        vertical-align: middle;\n",
              "    }\n",
              "\n",
              "    .dataframe tbody tr th {\n",
              "        vertical-align: top;\n",
              "    }\n",
              "\n",
              "    .dataframe thead th {\n",
              "        text-align: right;\n",
              "    }\n",
              "</style>\n",
              "<table border=\"1\" class=\"dataframe\">\n",
              "  <thead>\n",
              "    <tr style=\"text-align: right;\">\n",
              "      <th></th>\n",
              "      <th>province</th>\n",
              "      <th>source</th>\n",
              "    </tr>\n",
              "  </thead>\n",
              "  <tbody>\n",
              "    <tr>\n",
              "      <th>count</th>\n",
              "      <td>6</td>\n",
              "      <td>6</td>\n",
              "    </tr>\n",
              "    <tr>\n",
              "      <th>unique</th>\n",
              "      <td>2</td>\n",
              "      <td>3</td>\n",
              "    </tr>\n",
              "    <tr>\n",
              "      <th>top</th>\n",
              "      <td>Chiang Mai</td>\n",
              "      <td>A</td>\n",
              "    </tr>\n",
              "    <tr>\n",
              "      <th>freq</th>\n",
              "      <td>3</td>\n",
              "      <td>3</td>\n",
              "    </tr>\n",
              "  </tbody>\n",
              "</table>\n",
              "</div>"
            ],
            "text/plain": [
              "          province source\n",
              "count            6      6\n",
              "unique           2      3\n",
              "top     Chiang Mai      A\n",
              "freq             3      3"
            ]
          },
          "execution_count": 150,
          "metadata": {},
          "output_type": "execute_result"
        }
      ],
      "source": [
        "# Category\n",
        "df.describe(include=object)"
      ]
    },
    {
      "cell_type": "code",
      "execution_count": null,
      "metadata": {
        "id": "ig5o2ZuyiHEh",
        "outputId": "7074751b-1d33-4ff5-db70-e3f370fa55dd"
      },
      "outputs": [
        {
          "data": {
            "text/html": [
              "<div>\n",
              "<style scoped>\n",
              "    .dataframe tbody tr th:only-of-type {\n",
              "        vertical-align: middle;\n",
              "    }\n",
              "\n",
              "    .dataframe tbody tr th {\n",
              "        vertical-align: top;\n",
              "    }\n",
              "\n",
              "    .dataframe thead th {\n",
              "        text-align: right;\n",
              "    }\n",
              "</style>\n",
              "<table border=\"1\" class=\"dataframe\">\n",
              "  <thead>\n",
              "    <tr style=\"text-align: right;\">\n",
              "      <th></th>\n",
              "      <th>province</th>\n",
              "      <th>year</th>\n",
              "      <th>population</th>\n",
              "      <th>source</th>\n",
              "      <th>population (K)</th>\n",
              "      <th>LN population</th>\n",
              "    </tr>\n",
              "  </thead>\n",
              "  <tbody>\n",
              "    <tr>\n",
              "      <th>count</th>\n",
              "      <td>6</td>\n",
              "      <td>6.000000</td>\n",
              "      <td>6.000000e+00</td>\n",
              "      <td>6</td>\n",
              "      <td>6.000000</td>\n",
              "      <td>6.000000</td>\n",
              "    </tr>\n",
              "    <tr>\n",
              "      <th>unique</th>\n",
              "      <td>2</td>\n",
              "      <td>NaN</td>\n",
              "      <td>NaN</td>\n",
              "      <td>3</td>\n",
              "      <td>NaN</td>\n",
              "      <td>NaN</td>\n",
              "    </tr>\n",
              "    <tr>\n",
              "      <th>top</th>\n",
              "      <td>Chiang Mai</td>\n",
              "      <td>NaN</td>\n",
              "      <td>NaN</td>\n",
              "      <td>A</td>\n",
              "      <td>NaN</td>\n",
              "      <td>NaN</td>\n",
              "    </tr>\n",
              "    <tr>\n",
              "      <th>freq</th>\n",
              "      <td>3</td>\n",
              "      <td>NaN</td>\n",
              "      <td>NaN</td>\n",
              "      <td>3</td>\n",
              "      <td>NaN</td>\n",
              "      <td>NaN</td>\n",
              "    </tr>\n",
              "    <tr>\n",
              "      <th>mean</th>\n",
              "      <td>NaN</td>\n",
              "      <td>2017.000000</td>\n",
              "      <td>1.035564e+06</td>\n",
              "      <td>NaN</td>\n",
              "      <td>1035.563667</td>\n",
              "      <td>13.623578</td>\n",
              "    </tr>\n",
              "    <tr>\n",
              "      <th>std</th>\n",
              "      <td>NaN</td>\n",
              "      <td>0.894427</td>\n",
              "      <td>6.851977e+05</td>\n",
              "      <td>NaN</td>\n",
              "      <td>685.197697</td>\n",
              "      <td>0.766141</td>\n",
              "    </tr>\n",
              "    <tr>\n",
              "      <th>min</th>\n",
              "      <td>NaN</td>\n",
              "      <td>2016.000000</td>\n",
              "      <td>3.989360e+05</td>\n",
              "      <td>NaN</td>\n",
              "      <td>398.936000</td>\n",
              "      <td>12.896556</td>\n",
              "    </tr>\n",
              "    <tr>\n",
              "      <th>25%</th>\n",
              "      <td>NaN</td>\n",
              "      <td>2016.250000</td>\n",
              "      <td>4.131998e+05</td>\n",
              "      <td>NaN</td>\n",
              "      <td>413.199750</td>\n",
              "      <td>12.931617</td>\n",
              "    </tr>\n",
              "    <tr>\n",
              "      <th>50%</th>\n",
              "      <td>NaN</td>\n",
              "      <td>2017.000000</td>\n",
              "      <td>1.026040e+06</td>\n",
              "      <td>NaN</td>\n",
              "      <td>1026.040500</td>\n",
              "      <td>13.628146</td>\n",
              "    </tr>\n",
              "    <tr>\n",
              "      <th>75%</th>\n",
              "      <td>NaN</td>\n",
              "      <td>2017.750000</td>\n",
              "      <td>1.655616e+06</td>\n",
              "      <td>NaN</td>\n",
              "      <td>1655.616000</td>\n",
              "      <td>14.319645</td>\n",
              "    </tr>\n",
              "    <tr>\n",
              "      <th>max</th>\n",
              "      <td>NaN</td>\n",
              "      <td>2018.000000</td>\n",
              "      <td>1.687971e+06</td>\n",
              "      <td>NaN</td>\n",
              "      <td>1687.971000</td>\n",
              "      <td>14.339038</td>\n",
              "    </tr>\n",
              "  </tbody>\n",
              "</table>\n",
              "</div>"
            ],
            "text/plain": [
              "          province         year    population source  population (K)  \\\n",
              "count            6     6.000000  6.000000e+00      6        6.000000   \n",
              "unique           2          NaN           NaN      3             NaN   \n",
              "top     Chiang Mai          NaN           NaN      A             NaN   \n",
              "freq             3          NaN           NaN      3             NaN   \n",
              "mean           NaN  2017.000000  1.035564e+06    NaN     1035.563667   \n",
              "std            NaN     0.894427  6.851977e+05    NaN      685.197697   \n",
              "min            NaN  2016.000000  3.989360e+05    NaN      398.936000   \n",
              "25%            NaN  2016.250000  4.131998e+05    NaN      413.199750   \n",
              "50%            NaN  2017.000000  1.026040e+06    NaN     1026.040500   \n",
              "75%            NaN  2017.750000  1.655616e+06    NaN     1655.616000   \n",
              "max            NaN  2018.000000  1.687971e+06    NaN     1687.971000   \n",
              "\n",
              "        LN population  \n",
              "count        6.000000  \n",
              "unique            NaN  \n",
              "top               NaN  \n",
              "freq              NaN  \n",
              "mean        13.623578  \n",
              "std          0.766141  \n",
              "min         12.896556  \n",
              "25%         12.931617  \n",
              "50%         13.628146  \n",
              "75%         14.319645  \n",
              "max         14.339038  "
            ]
          },
          "execution_count": 151,
          "metadata": {},
          "output_type": "execute_result"
        }
      ],
      "source": [
        "df.describe(include=\"all\")"
      ]
    },
    {
      "cell_type": "markdown",
      "metadata": {
        "id": "XBidf1LaiHEj"
      },
      "source": [
        "## Grouping"
      ]
    },
    {
      "cell_type": "markdown",
      "metadata": {
        "id": "l8Vc_DmZiHEk"
      },
      "source": [
        "### Group by"
      ]
    },
    {
      "cell_type": "markdown",
      "metadata": {
        "id": "gfhBzYOFiHEl"
      },
      "source": [
        "**Optimized groupby methods**\n",
        "- **count** <BR> Number of non-NA values in the group\n",
        "- **sum** <BR> Sum of non-NA values\n",
        "- **mean** <BR> Mean of non-NA values\n",
        "- **median** <BR> Arithmetic median of non-NA values\n",
        "- **std, var** <BR> Unbiased (n – 1 denominator) standard deviation and variance\n",
        "- **min, max** <BR> Minimum and maximum of non-NA values\n",
        "- **prod** <BR> Product of non-NA values\n",
        "- **first, last** <BR> First and last non-NA values"
      ]
    },
    {
      "cell_type": "code",
      "execution_count": null,
      "metadata": {
        "id": "L1SsV3dCiHEl",
        "outputId": "727f80f2-d872-4849-f938-c00e7e9a61d4"
      },
      "outputs": [
        {
          "data": {
            "text/plain": [
              "province\n",
              "Chiang Mai    1.660804e+06\n",
              "Phrae         4.103237e+05\n",
              "Name: population, dtype: float64"
            ]
          },
          "execution_count": 152,
          "metadata": {},
          "output_type": "execute_result"
        }
      ],
      "source": [
        "# select avg(population) from df group by province\n",
        "df.groupby(\"province\")[\"population\"].mean()"
      ]
    },
    {
      "cell_type": "code",
      "execution_count": null,
      "metadata": {
        "id": "gA9T8q2YiHEo",
        "outputId": "e6ab306f-d68a-40ed-8a02-835068688584"
      },
      "outputs": [
        {
          "data": {
            "text/html": [
              "<div>\n",
              "<style scoped>\n",
              "    .dataframe tbody tr th:only-of-type {\n",
              "        vertical-align: middle;\n",
              "    }\n",
              "\n",
              "    .dataframe tbody tr th {\n",
              "        vertical-align: top;\n",
              "    }\n",
              "\n",
              "    .dataframe thead th {\n",
              "        text-align: right;\n",
              "    }\n",
              "</style>\n",
              "<table border=\"1\" class=\"dataframe\">\n",
              "  <thead>\n",
              "    <tr style=\"text-align: right;\">\n",
              "      <th></th>\n",
              "      <th>province</th>\n",
              "      <th>avg_pop</th>\n",
              "    </tr>\n",
              "  </thead>\n",
              "  <tbody>\n",
              "    <tr>\n",
              "      <th>0</th>\n",
              "      <td>Chiang Mai</td>\n",
              "      <td>1.660804e+06</td>\n",
              "    </tr>\n",
              "    <tr>\n",
              "      <th>1</th>\n",
              "      <td>Phrae</td>\n",
              "      <td>4.103237e+05</td>\n",
              "    </tr>\n",
              "  </tbody>\n",
              "</table>\n",
              "</div>"
            ],
            "text/plain": [
              "     province       avg_pop\n",
              "0  Chiang Mai  1.660804e+06\n",
              "1       Phrae  4.103237e+05"
            ]
          },
          "execution_count": 153,
          "metadata": {},
          "output_type": "execute_result"
        }
      ],
      "source": [
        "# Convert to DataFrame\n",
        "df.groupby(\"province\")[\"population\"].mean().reset_index(name=\"avg_pop\")"
      ]
    },
    {
      "cell_type": "markdown",
      "metadata": {
        "id": "W2OVp62iiHEp"
      },
      "source": [
        "#### Multiple group by"
      ]
    },
    {
      "cell_type": "code",
      "execution_count": null,
      "metadata": {
        "id": "VS5hNA2NiHEq",
        "outputId": "9660e73f-2490-4862-e579-3752fe3a2332",
        "scrolled": true
      },
      "outputs": [
        {
          "data": {
            "text/html": [
              "<div>\n",
              "<style scoped>\n",
              "    .dataframe tbody tr th:only-of-type {\n",
              "        vertical-align: middle;\n",
              "    }\n",
              "\n",
              "    .dataframe tbody tr th {\n",
              "        vertical-align: top;\n",
              "    }\n",
              "\n",
              "    .dataframe thead th {\n",
              "        text-align: right;\n",
              "    }\n",
              "</style>\n",
              "<table border=\"1\" class=\"dataframe\">\n",
              "  <thead>\n",
              "    <tr style=\"text-align: right;\">\n",
              "      <th></th>\n",
              "      <th>population</th>\n",
              "    </tr>\n",
              "    <tr>\n",
              "      <th>province</th>\n",
              "      <th></th>\n",
              "    </tr>\n",
              "  </thead>\n",
              "  <tbody>\n",
              "    <tr>\n",
              "      <th>Chiang Mai</th>\n",
              "      <td>1.660804e+06</td>\n",
              "    </tr>\n",
              "    <tr>\n",
              "      <th>Phrae</th>\n",
              "      <td>4.103237e+05</td>\n",
              "    </tr>\n",
              "  </tbody>\n",
              "</table>\n",
              "</div>"
            ],
            "text/plain": [
              "              population\n",
              "province                \n",
              "Chiang Mai  1.660804e+06\n",
              "Phrae       4.103237e+05"
            ]
          },
          "execution_count": 154,
          "metadata": {},
          "output_type": "execute_result"
        }
      ],
      "source": [
        "mapper = {\"population\": \"mean\"}\n",
        "\n",
        "df.groupby(\"province\").agg(mapper)"
      ]
    },
    {
      "cell_type": "code",
      "execution_count": null,
      "metadata": {
        "id": "W70JIaSOiHEs",
        "outputId": "43a7ee37-4413-4f41-f968-d4a516149041"
      },
      "outputs": [
        {
          "data": {
            "text/html": [
              "<div>\n",
              "<style scoped>\n",
              "    .dataframe tbody tr th:only-of-type {\n",
              "        vertical-align: middle;\n",
              "    }\n",
              "\n",
              "    .dataframe tbody tr th {\n",
              "        vertical-align: top;\n",
              "    }\n",
              "\n",
              "    .dataframe thead tr th {\n",
              "        text-align: left;\n",
              "    }\n",
              "\n",
              "    .dataframe thead tr:last-of-type th {\n",
              "        text-align: right;\n",
              "    }\n",
              "</style>\n",
              "<table border=\"1\" class=\"dataframe\">\n",
              "  <thead>\n",
              "    <tr>\n",
              "      <th></th>\n",
              "      <th colspan=\"3\" halign=\"left\">population</th>\n",
              "    </tr>\n",
              "    <tr>\n",
              "      <th></th>\n",
              "      <th>min</th>\n",
              "      <th>max</th>\n",
              "      <th>mean</th>\n",
              "    </tr>\n",
              "    <tr>\n",
              "      <th>province</th>\n",
              "      <th></th>\n",
              "      <th></th>\n",
              "      <th></th>\n",
              "    </tr>\n",
              "  </thead>\n",
              "  <tbody>\n",
              "    <tr>\n",
              "      <th>Chiang Mai</th>\n",
              "      <td>1630428</td>\n",
              "      <td>1687971</td>\n",
              "      <td>1.660804e+06</td>\n",
              "    </tr>\n",
              "    <tr>\n",
              "      <th>Phrae</th>\n",
              "      <td>398936</td>\n",
              "      <td>421653</td>\n",
              "      <td>4.103237e+05</td>\n",
              "    </tr>\n",
              "  </tbody>\n",
              "</table>\n",
              "</div>"
            ],
            "text/plain": [
              "           population                       \n",
              "                  min      max          mean\n",
              "province                                    \n",
              "Chiang Mai    1630428  1687971  1.660804e+06\n",
              "Phrae          398936   421653  4.103237e+05"
            ]
          },
          "execution_count": 155,
          "metadata": {},
          "output_type": "execute_result"
        }
      ],
      "source": [
        "mapper = {\"population\": [\"min\", \"max\", \"mean\"]}\n",
        "\n",
        "df.groupby(\"province\").agg(mapper)"
      ]
    },
    {
      "cell_type": "code",
      "execution_count": null,
      "metadata": {
        "id": "1rsyVY7xiHEu",
        "outputId": "704df3ab-7282-46ad-f8fd-e0113cf0f236"
      },
      "outputs": [
        {
          "data": {
            "text/html": [
              "<div>\n",
              "<style scoped>\n",
              "    .dataframe tbody tr th:only-of-type {\n",
              "        vertical-align: middle;\n",
              "    }\n",
              "\n",
              "    .dataframe tbody tr th {\n",
              "        vertical-align: top;\n",
              "    }\n",
              "\n",
              "    .dataframe thead tr th {\n",
              "        text-align: left;\n",
              "    }\n",
              "\n",
              "    .dataframe thead tr:last-of-type th {\n",
              "        text-align: right;\n",
              "    }\n",
              "</style>\n",
              "<table border=\"1\" class=\"dataframe\">\n",
              "  <thead>\n",
              "    <tr>\n",
              "      <th></th>\n",
              "      <th colspan=\"3\" halign=\"left\">population</th>\n",
              "      <th>source</th>\n",
              "    </tr>\n",
              "    <tr>\n",
              "      <th></th>\n",
              "      <th>min</th>\n",
              "      <th>max</th>\n",
              "      <th>mean</th>\n",
              "      <th>nunique</th>\n",
              "    </tr>\n",
              "    <tr>\n",
              "      <th>province</th>\n",
              "      <th></th>\n",
              "      <th></th>\n",
              "      <th></th>\n",
              "      <th></th>\n",
              "    </tr>\n",
              "  </thead>\n",
              "  <tbody>\n",
              "    <tr>\n",
              "      <th>Chiang Mai</th>\n",
              "      <td>1630428</td>\n",
              "      <td>1687971</td>\n",
              "      <td>1.660804e+06</td>\n",
              "      <td>2</td>\n",
              "    </tr>\n",
              "    <tr>\n",
              "      <th>Phrae</th>\n",
              "      <td>398936</td>\n",
              "      <td>421653</td>\n",
              "      <td>4.103237e+05</td>\n",
              "      <td>3</td>\n",
              "    </tr>\n",
              "  </tbody>\n",
              "</table>\n",
              "</div>"
            ],
            "text/plain": [
              "           population                         source\n",
              "                  min      max          mean nunique\n",
              "province                                            \n",
              "Chiang Mai    1630428  1687971  1.660804e+06       2\n",
              "Phrae          398936   421653  4.103237e+05       3"
            ]
          },
          "execution_count": 156,
          "metadata": {},
          "output_type": "execute_result"
        }
      ],
      "source": [
        "mapper = {\"population\": [\"min\", \"max\", \"mean\"], \"source\": \"nunique\"}\n",
        "\n",
        "df.groupby(\"province\").agg(mapper)"
      ]
    },
    {
      "cell_type": "markdown",
      "metadata": {
        "id": "sEyLe4L6iHEz"
      },
      "source": [
        "### Group by window"
      ]
    },
    {
      "cell_type": "code",
      "execution_count": null,
      "metadata": {
        "id": "s752yhQ8iHEz",
        "outputId": "b4806a51-bf52-4f89-9fc1-2907cb15eae7"
      },
      "outputs": [
        {
          "data": {
            "text/plain": [
              "0          NaN\n",
              "1    3294440.0\n",
              "2    3351983.0\n",
              "3    2086907.0\n",
              "4     809318.0\n",
              "5     832035.0\n",
              "Name: population, dtype: float64"
            ]
          },
          "execution_count": 157,
          "metadata": {},
          "output_type": "execute_result"
        }
      ],
      "source": [
        "df[\"population\"].rolling(2).sum()"
      ]
    },
    {
      "cell_type": "code",
      "execution_count": null,
      "metadata": {
        "id": "UOP-8TnkiHE1",
        "outputId": "3cc61bd8-fd86-410a-d868-8ad4bc7fd95d"
      },
      "outputs": [
        {
          "data": {
            "text/plain": [
              "0    1630428.0\n",
              "1    3294440.0\n",
              "2    3351983.0\n",
              "3    2086907.0\n",
              "4     809318.0\n",
              "5     832035.0\n",
              "Name: population, dtype: float64"
            ]
          },
          "execution_count": 158,
          "metadata": {},
          "output_type": "execute_result"
        }
      ],
      "source": [
        "df[\"population\"].rolling(2, min_periods=1).sum()"
      ]
    },
    {
      "cell_type": "code",
      "execution_count": null,
      "metadata": {
        "id": "JJpUKgBoiHE2",
        "outputId": "ff78966b-8a9a-401b-affd-fa2a45bf0522"
      },
      "outputs": [
        {
          "data": {
            "text/html": [
              "<div>\n",
              "<style scoped>\n",
              "    .dataframe tbody tr th:only-of-type {\n",
              "        vertical-align: middle;\n",
              "    }\n",
              "\n",
              "    .dataframe tbody tr th {\n",
              "        vertical-align: top;\n",
              "    }\n",
              "\n",
              "    .dataframe thead th {\n",
              "        text-align: right;\n",
              "    }\n",
              "</style>\n",
              "<table border=\"1\" class=\"dataframe\">\n",
              "  <thead>\n",
              "    <tr style=\"text-align: right;\">\n",
              "      <th></th>\n",
              "      <th>province</th>\n",
              "      <th>level_1</th>\n",
              "      <th>avg_pop_last2year</th>\n",
              "    </tr>\n",
              "  </thead>\n",
              "  <tbody>\n",
              "    <tr>\n",
              "      <th>0</th>\n",
              "      <td>Chiang Mai</td>\n",
              "      <td>0</td>\n",
              "      <td>1630428.0</td>\n",
              "    </tr>\n",
              "    <tr>\n",
              "      <th>1</th>\n",
              "      <td>Chiang Mai</td>\n",
              "      <td>1</td>\n",
              "      <td>3294440.0</td>\n",
              "    </tr>\n",
              "    <tr>\n",
              "      <th>2</th>\n",
              "      <td>Chiang Mai</td>\n",
              "      <td>2</td>\n",
              "      <td>3351983.0</td>\n",
              "    </tr>\n",
              "    <tr>\n",
              "      <th>3</th>\n",
              "      <td>Phrae</td>\n",
              "      <td>3</td>\n",
              "      <td>398936.0</td>\n",
              "    </tr>\n",
              "    <tr>\n",
              "      <th>4</th>\n",
              "      <td>Phrae</td>\n",
              "      <td>4</td>\n",
              "      <td>809318.0</td>\n",
              "    </tr>\n",
              "    <tr>\n",
              "      <th>5</th>\n",
              "      <td>Phrae</td>\n",
              "      <td>5</td>\n",
              "      <td>832035.0</td>\n",
              "    </tr>\n",
              "  </tbody>\n",
              "</table>\n",
              "</div>"
            ],
            "text/plain": [
              "     province  level_1  avg_pop_last2year\n",
              "0  Chiang Mai        0          1630428.0\n",
              "1  Chiang Mai        1          3294440.0\n",
              "2  Chiang Mai        2          3351983.0\n",
              "3       Phrae        3           398936.0\n",
              "4       Phrae        4           809318.0\n",
              "5       Phrae        5           832035.0"
            ]
          },
          "execution_count": 159,
          "metadata": {},
          "output_type": "execute_result"
        }
      ],
      "source": [
        "df.groupby(\"province\")[\"population\"].rolling(2, min_periods=1).sum().reset_index(\n",
        "    name=\"avg_pop_last2year\"\n",
        ")"
      ]
    },
    {
      "cell_type": "markdown",
      "metadata": {
        "id": "sBYVDkldiHE4"
      },
      "source": [
        "## Pivot"
      ]
    },
    {
      "cell_type": "markdown",
      "metadata": {
        "id": "HxF17UPiiHE4"
      },
      "source": [
        "### Pivot"
      ]
    },
    {
      "cell_type": "code",
      "execution_count": null,
      "metadata": {
        "id": "zdIoYouhiHE5",
        "outputId": "02fab580-fd9e-4a3c-e823-482e26cab0eb"
      },
      "outputs": [
        {
          "data": {
            "text/html": [
              "<div>\n",
              "<style scoped>\n",
              "    .dataframe tbody tr th:only-of-type {\n",
              "        vertical-align: middle;\n",
              "    }\n",
              "\n",
              "    .dataframe tbody tr th {\n",
              "        vertical-align: top;\n",
              "    }\n",
              "\n",
              "    .dataframe thead th {\n",
              "        text-align: right;\n",
              "    }\n",
              "</style>\n",
              "<table border=\"1\" class=\"dataframe\">\n",
              "  <thead>\n",
              "    <tr style=\"text-align: right;\">\n",
              "      <th></th>\n",
              "      <th>province</th>\n",
              "      <th>year</th>\n",
              "      <th>population</th>\n",
              "      <th>source</th>\n",
              "      <th>population (K)</th>\n",
              "      <th>LN population</th>\n",
              "    </tr>\n",
              "  </thead>\n",
              "  <tbody>\n",
              "    <tr>\n",
              "      <th>0</th>\n",
              "      <td>Chiang Mai</td>\n",
              "      <td>2016</td>\n",
              "      <td>1630428</td>\n",
              "      <td>A</td>\n",
              "      <td>1630.428</td>\n",
              "      <td>14.304353</td>\n",
              "    </tr>\n",
              "    <tr>\n",
              "      <th>1</th>\n",
              "      <td>Chiang Mai</td>\n",
              "      <td>2017</td>\n",
              "      <td>1664012</td>\n",
              "      <td>B</td>\n",
              "      <td>1664.012</td>\n",
              "      <td>14.324742</td>\n",
              "    </tr>\n",
              "    <tr>\n",
              "      <th>2</th>\n",
              "      <td>Chiang Mai</td>\n",
              "      <td>2018</td>\n",
              "      <td>1687971</td>\n",
              "      <td>A</td>\n",
              "      <td>1687.971</td>\n",
              "      <td>14.339038</td>\n",
              "    </tr>\n",
              "    <tr>\n",
              "      <th>3</th>\n",
              "      <td>Phrae</td>\n",
              "      <td>2016</td>\n",
              "      <td>398936</td>\n",
              "      <td>C</td>\n",
              "      <td>398.936</td>\n",
              "      <td>12.896556</td>\n",
              "    </tr>\n",
              "    <tr>\n",
              "      <th>4</th>\n",
              "      <td>Phrae</td>\n",
              "      <td>2017</td>\n",
              "      <td>410382</td>\n",
              "      <td>A</td>\n",
              "      <td>410.382</td>\n",
              "      <td>12.924844</td>\n",
              "    </tr>\n",
              "    <tr>\n",
              "      <th>5</th>\n",
              "      <td>Phrae</td>\n",
              "      <td>2018</td>\n",
              "      <td>421653</td>\n",
              "      <td>B</td>\n",
              "      <td>421.653</td>\n",
              "      <td>12.951938</td>\n",
              "    </tr>\n",
              "  </tbody>\n",
              "</table>\n",
              "</div>"
            ],
            "text/plain": [
              "     province  year  population source  population (K)  LN population\n",
              "0  Chiang Mai  2016     1630428      A        1630.428      14.304353\n",
              "1  Chiang Mai  2017     1664012      B        1664.012      14.324742\n",
              "2  Chiang Mai  2018     1687971      A        1687.971      14.339038\n",
              "3       Phrae  2016      398936      C         398.936      12.896556\n",
              "4       Phrae  2017      410382      A         410.382      12.924844\n",
              "5       Phrae  2018      421653      B         421.653      12.951938"
            ]
          },
          "execution_count": 160,
          "metadata": {},
          "output_type": "execute_result"
        }
      ],
      "source": [
        "df"
      ]
    },
    {
      "cell_type": "code",
      "execution_count": null,
      "metadata": {
        "id": "zbupH-uviHE7",
        "outputId": "64215607-2674-4fd2-ac3c-db79516bd03b",
        "scrolled": true
      },
      "outputs": [
        {
          "data": {
            "text/html": [
              "<div>\n",
              "<style scoped>\n",
              "    .dataframe tbody tr th:only-of-type {\n",
              "        vertical-align: middle;\n",
              "    }\n",
              "\n",
              "    .dataframe tbody tr th {\n",
              "        vertical-align: top;\n",
              "    }\n",
              "\n",
              "    .dataframe thead tr th {\n",
              "        text-align: left;\n",
              "    }\n",
              "\n",
              "    .dataframe thead tr:last-of-type th {\n",
              "        text-align: right;\n",
              "    }\n",
              "</style>\n",
              "<table border=\"1\" class=\"dataframe\">\n",
              "  <thead>\n",
              "    <tr>\n",
              "      <th></th>\n",
              "      <th colspan=\"3\" halign=\"left\">population</th>\n",
              "    </tr>\n",
              "    <tr>\n",
              "      <th>year</th>\n",
              "      <th>2016</th>\n",
              "      <th>2017</th>\n",
              "      <th>2018</th>\n",
              "    </tr>\n",
              "    <tr>\n",
              "      <th>province</th>\n",
              "      <th></th>\n",
              "      <th></th>\n",
              "      <th></th>\n",
              "    </tr>\n",
              "  </thead>\n",
              "  <tbody>\n",
              "    <tr>\n",
              "      <th>Chiang Mai</th>\n",
              "      <td>1630428</td>\n",
              "      <td>1664012</td>\n",
              "      <td>1687971</td>\n",
              "    </tr>\n",
              "    <tr>\n",
              "      <th>Phrae</th>\n",
              "      <td>398936</td>\n",
              "      <td>410382</td>\n",
              "      <td>421653</td>\n",
              "    </tr>\n",
              "  </tbody>\n",
              "</table>\n",
              "</div>"
            ],
            "text/plain": [
              "           population                  \n",
              "year             2016     2017     2018\n",
              "province                               \n",
              "Chiang Mai    1630428  1664012  1687971\n",
              "Phrae          398936   410382   421653"
            ]
          },
          "execution_count": 161,
          "metadata": {},
          "output_type": "execute_result"
        }
      ],
      "source": [
        "pivot = df.pivot_table(index=[\"province\"], columns=[\"year\"], values=[\"population\"])\n",
        "pivot"
      ]
    },
    {
      "cell_type": "code",
      "execution_count": null,
      "metadata": {
        "id": "Kcp4YZi2iHE9",
        "outputId": "17fe27c1-513f-4c79-bc4e-938b37bb0742"
      },
      "outputs": [
        {
          "data": {
            "text/html": [
              "<div>\n",
              "<style scoped>\n",
              "    .dataframe tbody tr th:only-of-type {\n",
              "        vertical-align: middle;\n",
              "    }\n",
              "\n",
              "    .dataframe tbody tr th {\n",
              "        vertical-align: top;\n",
              "    }\n",
              "\n",
              "    .dataframe thead th {\n",
              "        text-align: right;\n",
              "    }\n",
              "</style>\n",
              "<table border=\"1\" class=\"dataframe\">\n",
              "  <thead>\n",
              "    <tr style=\"text-align: right;\">\n",
              "      <th></th>\n",
              "      <th>province</th>\n",
              "      <th>2016</th>\n",
              "      <th>2017</th>\n",
              "      <th>2018</th>\n",
              "    </tr>\n",
              "  </thead>\n",
              "  <tbody>\n",
              "    <tr>\n",
              "      <th>0</th>\n",
              "      <td>Chiang Mai</td>\n",
              "      <td>1630428</td>\n",
              "      <td>1664012</td>\n",
              "      <td>1687971</td>\n",
              "    </tr>\n",
              "    <tr>\n",
              "      <th>1</th>\n",
              "      <td>Phrae</td>\n",
              "      <td>398936</td>\n",
              "      <td>410382</td>\n",
              "      <td>421653</td>\n",
              "    </tr>\n",
              "  </tbody>\n",
              "</table>\n",
              "</div>"
            ],
            "text/plain": [
              "     province     2016     2017     2018\n",
              "0  Chiang Mai  1630428  1664012  1687971\n",
              "1       Phrae   398936   410382   421653"
            ]
          },
          "execution_count": 162,
          "metadata": {},
          "output_type": "execute_result"
        }
      ],
      "source": [
        "pivot.columns = [\"{1}\".format(col[0], col[1]) for col in pivot.columns.values]\n",
        "pivot = pivot.reset_index()\n",
        "pivot"
      ]
    },
    {
      "cell_type": "markdown",
      "metadata": {
        "id": "W2w8zP9jiHE_"
      },
      "source": [
        "### Melt"
      ]
    },
    {
      "cell_type": "code",
      "execution_count": null,
      "metadata": {
        "id": "Rw0BDDfeiHE_",
        "outputId": "b49be210-8cfd-4cdb-b10e-69d664c7d2b8"
      },
      "outputs": [
        {
          "data": {
            "text/html": [
              "<div>\n",
              "<style scoped>\n",
              "    .dataframe tbody tr th:only-of-type {\n",
              "        vertical-align: middle;\n",
              "    }\n",
              "\n",
              "    .dataframe tbody tr th {\n",
              "        vertical-align: top;\n",
              "    }\n",
              "\n",
              "    .dataframe thead th {\n",
              "        text-align: right;\n",
              "    }\n",
              "</style>\n",
              "<table border=\"1\" class=\"dataframe\">\n",
              "  <thead>\n",
              "    <tr style=\"text-align: right;\">\n",
              "      <th></th>\n",
              "      <th>province</th>\n",
              "      <th>variable</th>\n",
              "      <th>value</th>\n",
              "    </tr>\n",
              "  </thead>\n",
              "  <tbody>\n",
              "    <tr>\n",
              "      <th>0</th>\n",
              "      <td>Chiang Mai</td>\n",
              "      <td>2016</td>\n",
              "      <td>1630428</td>\n",
              "    </tr>\n",
              "    <tr>\n",
              "      <th>1</th>\n",
              "      <td>Phrae</td>\n",
              "      <td>2016</td>\n",
              "      <td>398936</td>\n",
              "    </tr>\n",
              "    <tr>\n",
              "      <th>2</th>\n",
              "      <td>Chiang Mai</td>\n",
              "      <td>2017</td>\n",
              "      <td>1664012</td>\n",
              "    </tr>\n",
              "    <tr>\n",
              "      <th>3</th>\n",
              "      <td>Phrae</td>\n",
              "      <td>2017</td>\n",
              "      <td>410382</td>\n",
              "    </tr>\n",
              "    <tr>\n",
              "      <th>4</th>\n",
              "      <td>Chiang Mai</td>\n",
              "      <td>2018</td>\n",
              "      <td>1687971</td>\n",
              "    </tr>\n",
              "    <tr>\n",
              "      <th>5</th>\n",
              "      <td>Phrae</td>\n",
              "      <td>2018</td>\n",
              "      <td>421653</td>\n",
              "    </tr>\n",
              "  </tbody>\n",
              "</table>\n",
              "</div>"
            ],
            "text/plain": [
              "     province variable    value\n",
              "0  Chiang Mai     2016  1630428\n",
              "1       Phrae     2016   398936\n",
              "2  Chiang Mai     2017  1664012\n",
              "3       Phrae     2017   410382\n",
              "4  Chiang Mai     2018  1687971\n",
              "5       Phrae     2018   421653"
            ]
          },
          "execution_count": 163,
          "metadata": {},
          "output_type": "execute_result"
        }
      ],
      "source": [
        "melt = pd.melt(pivot, id_vars=[\"province\"], value_vars=[\"2016\", \"2017\", \"2018\"])\n",
        "melt"
      ]
    },
    {
      "cell_type": "code",
      "execution_count": null,
      "metadata": {
        "id": "BZAVr1fiiHFB",
        "outputId": "c569934c-2e33-453e-eae9-a899781f0b4e"
      },
      "outputs": [
        {
          "data": {
            "text/html": [
              "<div>\n",
              "<style scoped>\n",
              "    .dataframe tbody tr th:only-of-type {\n",
              "        vertical-align: middle;\n",
              "    }\n",
              "\n",
              "    .dataframe tbody tr th {\n",
              "        vertical-align: top;\n",
              "    }\n",
              "\n",
              "    .dataframe thead th {\n",
              "        text-align: right;\n",
              "    }\n",
              "</style>\n",
              "<table border=\"1\" class=\"dataframe\">\n",
              "  <thead>\n",
              "    <tr style=\"text-align: right;\">\n",
              "      <th></th>\n",
              "      <th>province</th>\n",
              "      <th>year</th>\n",
              "      <th>population</th>\n",
              "    </tr>\n",
              "  </thead>\n",
              "  <tbody>\n",
              "    <tr>\n",
              "      <th>0</th>\n",
              "      <td>Chiang Mai</td>\n",
              "      <td>2016</td>\n",
              "      <td>1630428</td>\n",
              "    </tr>\n",
              "    <tr>\n",
              "      <th>1</th>\n",
              "      <td>Phrae</td>\n",
              "      <td>2016</td>\n",
              "      <td>398936</td>\n",
              "    </tr>\n",
              "    <tr>\n",
              "      <th>2</th>\n",
              "      <td>Chiang Mai</td>\n",
              "      <td>2017</td>\n",
              "      <td>1664012</td>\n",
              "    </tr>\n",
              "    <tr>\n",
              "      <th>3</th>\n",
              "      <td>Phrae</td>\n",
              "      <td>2017</td>\n",
              "      <td>410382</td>\n",
              "    </tr>\n",
              "    <tr>\n",
              "      <th>4</th>\n",
              "      <td>Chiang Mai</td>\n",
              "      <td>2018</td>\n",
              "      <td>1687971</td>\n",
              "    </tr>\n",
              "    <tr>\n",
              "      <th>5</th>\n",
              "      <td>Phrae</td>\n",
              "      <td>2018</td>\n",
              "      <td>421653</td>\n",
              "    </tr>\n",
              "  </tbody>\n",
              "</table>\n",
              "</div>"
            ],
            "text/plain": [
              "     province  year  population\n",
              "0  Chiang Mai  2016     1630428\n",
              "1       Phrae  2016      398936\n",
              "2  Chiang Mai  2017     1664012\n",
              "3       Phrae  2017      410382\n",
              "4  Chiang Mai  2018     1687971\n",
              "5       Phrae  2018      421653"
            ]
          },
          "execution_count": 164,
          "metadata": {},
          "output_type": "execute_result"
        }
      ],
      "source": [
        "mapper = {\"variable\": \"year\", \"value\": \"population\"}\n",
        "melt = melt.rename(columns=mapper)\n",
        "melt"
      ]
    },
    {
      "cell_type": "markdown",
      "metadata": {
        "id": "OI_j4rbYiHFC"
      },
      "source": [
        "## Data Cleansing"
      ]
    },
    {
      "cell_type": "code",
      "execution_count": null,
      "metadata": {
        "id": "UQnFf-2piHFD",
        "outputId": "90bd3787-37e6-4eec-eb32-11cc54d34d38"
      },
      "outputs": [
        {
          "data": {
            "text/html": [
              "<div>\n",
              "<style scoped>\n",
              "    .dataframe tbody tr th:only-of-type {\n",
              "        vertical-align: middle;\n",
              "    }\n",
              "\n",
              "    .dataframe tbody tr th {\n",
              "        vertical-align: top;\n",
              "    }\n",
              "\n",
              "    .dataframe thead th {\n",
              "        text-align: right;\n",
              "    }\n",
              "</style>\n",
              "<table border=\"1\" class=\"dataframe\">\n",
              "  <thead>\n",
              "    <tr style=\"text-align: right;\">\n",
              "      <th></th>\n",
              "      <th>province</th>\n",
              "      <th>year</th>\n",
              "      <th>population</th>\n",
              "    </tr>\n",
              "  </thead>\n",
              "  <tbody>\n",
              "    <tr>\n",
              "      <th>0</th>\n",
              "      <td>Chiang Mai</td>\n",
              "      <td>2016</td>\n",
              "      <td>1630428.0</td>\n",
              "    </tr>\n",
              "    <tr>\n",
              "      <th>1</th>\n",
              "      <td>Chiang Mai</td>\n",
              "      <td>2017</td>\n",
              "      <td>1664012.0</td>\n",
              "    </tr>\n",
              "    <tr>\n",
              "      <th>2</th>\n",
              "      <td>Chiang Mai</td>\n",
              "      <td>2018</td>\n",
              "      <td>1687971.0</td>\n",
              "    </tr>\n",
              "    <tr>\n",
              "      <th>3</th>\n",
              "      <td>Phrae</td>\n",
              "      <td>2016</td>\n",
              "      <td>NaN</td>\n",
              "    </tr>\n",
              "    <tr>\n",
              "      <th>4</th>\n",
              "      <td>Phrae</td>\n",
              "      <td>2017</td>\n",
              "      <td>410382.0</td>\n",
              "    </tr>\n",
              "    <tr>\n",
              "      <th>5</th>\n",
              "      <td>None</td>\n",
              "      <td>2018</td>\n",
              "      <td>421653.0</td>\n",
              "    </tr>\n",
              "  </tbody>\n",
              "</table>\n",
              "</div>"
            ],
            "text/plain": [
              "     province  year  population\n",
              "0  Chiang Mai  2016   1630428.0\n",
              "1  Chiang Mai  2017   1664012.0\n",
              "2  Chiang Mai  2018   1687971.0\n",
              "3       Phrae  2016         NaN\n",
              "4       Phrae  2017    410382.0\n",
              "5        None  2018    421653.0"
            ]
          },
          "execution_count": 165,
          "metadata": {},
          "output_type": "execute_result"
        }
      ],
      "source": [
        "# Create From a List\n",
        "data = [\n",
        "    [\"Chiang Mai\", 2016, 1630428],\n",
        "    [\"Chiang Mai\", 2017, 1664012],\n",
        "    [\"Chiang Mai\", 2018, 1687971],\n",
        "    [\"Phrae\", 2016, None],\n",
        "    [\"Phrae\", 2017, 410382],\n",
        "    [None, 2018, 421653],\n",
        "]\n",
        "df = pd.DataFrame(data=data, columns=[\"province\", \"year\", \"population\"])\n",
        "df"
      ]
    },
    {
      "cell_type": "markdown",
      "metadata": {
        "id": "mmns1TzwiHFF"
      },
      "source": [
        "### Find Null"
      ]
    },
    {
      "cell_type": "code",
      "execution_count": null,
      "metadata": {
        "id": "hFeVuS4miHFF",
        "outputId": "d771dcc7-e406-48af-84eb-dce71b332057"
      },
      "outputs": [
        {
          "data": {
            "text/html": [
              "<div>\n",
              "<style scoped>\n",
              "    .dataframe tbody tr th:only-of-type {\n",
              "        vertical-align: middle;\n",
              "    }\n",
              "\n",
              "    .dataframe tbody tr th {\n",
              "        vertical-align: top;\n",
              "    }\n",
              "\n",
              "    .dataframe thead th {\n",
              "        text-align: right;\n",
              "    }\n",
              "</style>\n",
              "<table border=\"1\" class=\"dataframe\">\n",
              "  <thead>\n",
              "    <tr style=\"text-align: right;\">\n",
              "      <th></th>\n",
              "      <th>province</th>\n",
              "      <th>year</th>\n",
              "      <th>population</th>\n",
              "    </tr>\n",
              "  </thead>\n",
              "  <tbody>\n",
              "    <tr>\n",
              "      <th>0</th>\n",
              "      <td>False</td>\n",
              "      <td>False</td>\n",
              "      <td>False</td>\n",
              "    </tr>\n",
              "    <tr>\n",
              "      <th>1</th>\n",
              "      <td>False</td>\n",
              "      <td>False</td>\n",
              "      <td>False</td>\n",
              "    </tr>\n",
              "    <tr>\n",
              "      <th>2</th>\n",
              "      <td>False</td>\n",
              "      <td>False</td>\n",
              "      <td>False</td>\n",
              "    </tr>\n",
              "    <tr>\n",
              "      <th>3</th>\n",
              "      <td>False</td>\n",
              "      <td>False</td>\n",
              "      <td>True</td>\n",
              "    </tr>\n",
              "    <tr>\n",
              "      <th>4</th>\n",
              "      <td>False</td>\n",
              "      <td>False</td>\n",
              "      <td>False</td>\n",
              "    </tr>\n",
              "    <tr>\n",
              "      <th>5</th>\n",
              "      <td>True</td>\n",
              "      <td>False</td>\n",
              "      <td>False</td>\n",
              "    </tr>\n",
              "  </tbody>\n",
              "</table>\n",
              "</div>"
            ],
            "text/plain": [
              "   province   year  population\n",
              "0     False  False       False\n",
              "1     False  False       False\n",
              "2     False  False       False\n",
              "3     False  False        True\n",
              "4     False  False       False\n",
              "5      True  False       False"
            ]
          },
          "execution_count": 166,
          "metadata": {},
          "output_type": "execute_result"
        }
      ],
      "source": [
        "df.isnull()"
      ]
    },
    {
      "cell_type": "code",
      "execution_count": null,
      "metadata": {
        "id": "v3NIZjAniHFG",
        "outputId": "e9e81626-0976-4b15-a3ae-57792ebef2be"
      },
      "outputs": [
        {
          "data": {
            "text/html": [
              "<div>\n",
              "<style scoped>\n",
              "    .dataframe tbody tr th:only-of-type {\n",
              "        vertical-align: middle;\n",
              "    }\n",
              "\n",
              "    .dataframe tbody tr th {\n",
              "        vertical-align: top;\n",
              "    }\n",
              "\n",
              "    .dataframe thead th {\n",
              "        text-align: right;\n",
              "    }\n",
              "</style>\n",
              "<table border=\"1\" class=\"dataframe\">\n",
              "  <thead>\n",
              "    <tr style=\"text-align: right;\">\n",
              "      <th></th>\n",
              "      <th>province</th>\n",
              "      <th>year</th>\n",
              "      <th>population</th>\n",
              "    </tr>\n",
              "  </thead>\n",
              "  <tbody>\n",
              "    <tr>\n",
              "      <th>0</th>\n",
              "      <td>False</td>\n",
              "      <td>False</td>\n",
              "      <td>False</td>\n",
              "    </tr>\n",
              "    <tr>\n",
              "      <th>1</th>\n",
              "      <td>False</td>\n",
              "      <td>False</td>\n",
              "      <td>False</td>\n",
              "    </tr>\n",
              "    <tr>\n",
              "      <th>2</th>\n",
              "      <td>False</td>\n",
              "      <td>False</td>\n",
              "      <td>False</td>\n",
              "    </tr>\n",
              "    <tr>\n",
              "      <th>3</th>\n",
              "      <td>False</td>\n",
              "      <td>False</td>\n",
              "      <td>True</td>\n",
              "    </tr>\n",
              "    <tr>\n",
              "      <th>4</th>\n",
              "      <td>False</td>\n",
              "      <td>False</td>\n",
              "      <td>False</td>\n",
              "    </tr>\n",
              "    <tr>\n",
              "      <th>5</th>\n",
              "      <td>True</td>\n",
              "      <td>False</td>\n",
              "      <td>False</td>\n",
              "    </tr>\n",
              "  </tbody>\n",
              "</table>\n",
              "</div>"
            ],
            "text/plain": [
              "   province   year  population\n",
              "0     False  False       False\n",
              "1     False  False       False\n",
              "2     False  False       False\n",
              "3     False  False        True\n",
              "4     False  False       False\n",
              "5      True  False       False"
            ]
          },
          "execution_count": 167,
          "metadata": {},
          "output_type": "execute_result"
        }
      ],
      "source": [
        "df.isna()"
      ]
    },
    {
      "cell_type": "code",
      "execution_count": null,
      "metadata": {
        "id": "16iNsoMjiHFI",
        "outputId": "a838524f-9a45-4182-97af-8a65aff507bb"
      },
      "outputs": [
        {
          "data": {
            "text/plain": [
              "province      1\n",
              "year          0\n",
              "population    1\n",
              "dtype: int64"
            ]
          },
          "execution_count": 168,
          "metadata": {},
          "output_type": "execute_result"
        }
      ],
      "source": [
        "df.isnull().sum()"
      ]
    },
    {
      "cell_type": "markdown",
      "metadata": {
        "id": "9XwHQdN9iHFJ"
      },
      "source": [
        "### Drop NA"
      ]
    },
    {
      "cell_type": "code",
      "execution_count": null,
      "metadata": {
        "id": "VJpxI2zbiHFK",
        "outputId": "ee93e661-c8e5-486c-df2f-9d1e843d1dba"
      },
      "outputs": [
        {
          "data": {
            "text/html": [
              "<div>\n",
              "<style scoped>\n",
              "    .dataframe tbody tr th:only-of-type {\n",
              "        vertical-align: middle;\n",
              "    }\n",
              "\n",
              "    .dataframe tbody tr th {\n",
              "        vertical-align: top;\n",
              "    }\n",
              "\n",
              "    .dataframe thead th {\n",
              "        text-align: right;\n",
              "    }\n",
              "</style>\n",
              "<table border=\"1\" class=\"dataframe\">\n",
              "  <thead>\n",
              "    <tr style=\"text-align: right;\">\n",
              "      <th></th>\n",
              "      <th>province</th>\n",
              "      <th>year</th>\n",
              "      <th>population</th>\n",
              "    </tr>\n",
              "  </thead>\n",
              "  <tbody>\n",
              "    <tr>\n",
              "      <th>0</th>\n",
              "      <td>Chiang Mai</td>\n",
              "      <td>2016</td>\n",
              "      <td>1630428.0</td>\n",
              "    </tr>\n",
              "    <tr>\n",
              "      <th>1</th>\n",
              "      <td>Chiang Mai</td>\n",
              "      <td>2017</td>\n",
              "      <td>1664012.0</td>\n",
              "    </tr>\n",
              "    <tr>\n",
              "      <th>2</th>\n",
              "      <td>Chiang Mai</td>\n",
              "      <td>2018</td>\n",
              "      <td>1687971.0</td>\n",
              "    </tr>\n",
              "    <tr>\n",
              "      <th>4</th>\n",
              "      <td>Phrae</td>\n",
              "      <td>2017</td>\n",
              "      <td>410382.0</td>\n",
              "    </tr>\n",
              "  </tbody>\n",
              "</table>\n",
              "</div>"
            ],
            "text/plain": [
              "     province  year  population\n",
              "0  Chiang Mai  2016   1630428.0\n",
              "1  Chiang Mai  2017   1664012.0\n",
              "2  Chiang Mai  2018   1687971.0\n",
              "4       Phrae  2017    410382.0"
            ]
          },
          "execution_count": 169,
          "metadata": {},
          "output_type": "execute_result"
        }
      ],
      "source": [
        "df.dropna()"
      ]
    },
    {
      "cell_type": "code",
      "execution_count": null,
      "metadata": {
        "id": "P6spiG7ciHFL",
        "outputId": "aaa9fdab-5111-47f5-9752-e5a53bb02081"
      },
      "outputs": [
        {
          "data": {
            "text/html": [
              "<div>\n",
              "<style scoped>\n",
              "    .dataframe tbody tr th:only-of-type {\n",
              "        vertical-align: middle;\n",
              "    }\n",
              "\n",
              "    .dataframe tbody tr th {\n",
              "        vertical-align: top;\n",
              "    }\n",
              "\n",
              "    .dataframe thead th {\n",
              "        text-align: right;\n",
              "    }\n",
              "</style>\n",
              "<table border=\"1\" class=\"dataframe\">\n",
              "  <thead>\n",
              "    <tr style=\"text-align: right;\">\n",
              "      <th></th>\n",
              "      <th>province</th>\n",
              "      <th>year</th>\n",
              "      <th>population</th>\n",
              "    </tr>\n",
              "  </thead>\n",
              "  <tbody>\n",
              "    <tr>\n",
              "      <th>0</th>\n",
              "      <td>Chiang Mai</td>\n",
              "      <td>2016</td>\n",
              "      <td>1630428.0</td>\n",
              "    </tr>\n",
              "    <tr>\n",
              "      <th>1</th>\n",
              "      <td>Chiang Mai</td>\n",
              "      <td>2017</td>\n",
              "      <td>1664012.0</td>\n",
              "    </tr>\n",
              "    <tr>\n",
              "      <th>2</th>\n",
              "      <td>Chiang Mai</td>\n",
              "      <td>2018</td>\n",
              "      <td>1687971.0</td>\n",
              "    </tr>\n",
              "    <tr>\n",
              "      <th>3</th>\n",
              "      <td>Phrae</td>\n",
              "      <td>2016</td>\n",
              "      <td>NaN</td>\n",
              "    </tr>\n",
              "    <tr>\n",
              "      <th>4</th>\n",
              "      <td>Phrae</td>\n",
              "      <td>2017</td>\n",
              "      <td>410382.0</td>\n",
              "    </tr>\n",
              "  </tbody>\n",
              "</table>\n",
              "</div>"
            ],
            "text/plain": [
              "     province  year  population\n",
              "0  Chiang Mai  2016   1630428.0\n",
              "1  Chiang Mai  2017   1664012.0\n",
              "2  Chiang Mai  2018   1687971.0\n",
              "3       Phrae  2016         NaN\n",
              "4       Phrae  2017    410382.0"
            ]
          },
          "execution_count": 170,
          "metadata": {},
          "output_type": "execute_result"
        }
      ],
      "source": [
        "df.dropna(subset=[\"province\"])"
      ]
    },
    {
      "cell_type": "code",
      "execution_count": null,
      "metadata": {
        "id": "N3KhLSnpiHFT",
        "outputId": "8e1e0bef-e8d7-46aa-8c5c-058ddc81d115"
      },
      "outputs": [
        {
          "data": {
            "text/html": [
              "<div>\n",
              "<style scoped>\n",
              "    .dataframe tbody tr th:only-of-type {\n",
              "        vertical-align: middle;\n",
              "    }\n",
              "\n",
              "    .dataframe tbody tr th {\n",
              "        vertical-align: top;\n",
              "    }\n",
              "\n",
              "    .dataframe thead th {\n",
              "        text-align: right;\n",
              "    }\n",
              "</style>\n",
              "<table border=\"1\" class=\"dataframe\">\n",
              "  <thead>\n",
              "    <tr style=\"text-align: right;\">\n",
              "      <th></th>\n",
              "      <th>province</th>\n",
              "      <th>year</th>\n",
              "      <th>population</th>\n",
              "    </tr>\n",
              "  </thead>\n",
              "  <tbody>\n",
              "    <tr>\n",
              "      <th>0</th>\n",
              "      <td>Chiang Mai</td>\n",
              "      <td>2016</td>\n",
              "      <td>1630428.0</td>\n",
              "    </tr>\n",
              "    <tr>\n",
              "      <th>1</th>\n",
              "      <td>Chiang Mai</td>\n",
              "      <td>2017</td>\n",
              "      <td>1664012.0</td>\n",
              "    </tr>\n",
              "    <tr>\n",
              "      <th>2</th>\n",
              "      <td>Chiang Mai</td>\n",
              "      <td>2018</td>\n",
              "      <td>1687971.0</td>\n",
              "    </tr>\n",
              "    <tr>\n",
              "      <th>3</th>\n",
              "      <td>Phrae</td>\n",
              "      <td>2016</td>\n",
              "      <td>NaN</td>\n",
              "    </tr>\n",
              "    <tr>\n",
              "      <th>4</th>\n",
              "      <td>Phrae</td>\n",
              "      <td>2017</td>\n",
              "      <td>410382.0</td>\n",
              "    </tr>\n",
              "    <tr>\n",
              "      <th>5</th>\n",
              "      <td>None</td>\n",
              "      <td>2018</td>\n",
              "      <td>421653.0</td>\n",
              "    </tr>\n",
              "  </tbody>\n",
              "</table>\n",
              "</div>"
            ],
            "text/plain": [
              "     province  year  population\n",
              "0  Chiang Mai  2016   1630428.0\n",
              "1  Chiang Mai  2017   1664012.0\n",
              "2  Chiang Mai  2018   1687971.0\n",
              "3       Phrae  2016         NaN\n",
              "4       Phrae  2017    410382.0\n",
              "5        None  2018    421653.0"
            ]
          },
          "execution_count": 171,
          "metadata": {},
          "output_type": "execute_result"
        }
      ],
      "source": [
        "df  # to show that all commands don't replace (remind)"
      ]
    },
    {
      "cell_type": "markdown",
      "metadata": {
        "id": "MKrp84J7iHFV"
      },
      "source": [
        "### Fill NA"
      ]
    },
    {
      "cell_type": "code",
      "execution_count": null,
      "metadata": {
        "id": "eUzFE-jFiHFV",
        "outputId": "01303a6c-cd30-4eda-f82c-02392d035fa5"
      },
      "outputs": [
        {
          "data": {
            "text/html": [
              "<div>\n",
              "<style scoped>\n",
              "    .dataframe tbody tr th:only-of-type {\n",
              "        vertical-align: middle;\n",
              "    }\n",
              "\n",
              "    .dataframe tbody tr th {\n",
              "        vertical-align: top;\n",
              "    }\n",
              "\n",
              "    .dataframe thead th {\n",
              "        text-align: right;\n",
              "    }\n",
              "</style>\n",
              "<table border=\"1\" class=\"dataframe\">\n",
              "  <thead>\n",
              "    <tr style=\"text-align: right;\">\n",
              "      <th></th>\n",
              "      <th>province</th>\n",
              "      <th>year</th>\n",
              "      <th>population</th>\n",
              "    </tr>\n",
              "  </thead>\n",
              "  <tbody>\n",
              "    <tr>\n",
              "      <th>0</th>\n",
              "      <td>Chiang Mai</td>\n",
              "      <td>2016</td>\n",
              "      <td>1630428.0</td>\n",
              "    </tr>\n",
              "    <tr>\n",
              "      <th>1</th>\n",
              "      <td>Chiang Mai</td>\n",
              "      <td>2017</td>\n",
              "      <td>1664012.0</td>\n",
              "    </tr>\n",
              "    <tr>\n",
              "      <th>2</th>\n",
              "      <td>Chiang Mai</td>\n",
              "      <td>2018</td>\n",
              "      <td>1687971.0</td>\n",
              "    </tr>\n",
              "    <tr>\n",
              "      <th>3</th>\n",
              "      <td>Phrae</td>\n",
              "      <td>2016</td>\n",
              "      <td>Missing</td>\n",
              "    </tr>\n",
              "    <tr>\n",
              "      <th>4</th>\n",
              "      <td>Phrae</td>\n",
              "      <td>2017</td>\n",
              "      <td>410382.0</td>\n",
              "    </tr>\n",
              "    <tr>\n",
              "      <th>5</th>\n",
              "      <td>Missing</td>\n",
              "      <td>2018</td>\n",
              "      <td>421653.0</td>\n",
              "    </tr>\n",
              "  </tbody>\n",
              "</table>\n",
              "</div>"
            ],
            "text/plain": [
              "     province  year population\n",
              "0  Chiang Mai  2016  1630428.0\n",
              "1  Chiang Mai  2017  1664012.0\n",
              "2  Chiang Mai  2018  1687971.0\n",
              "3       Phrae  2016    Missing\n",
              "4       Phrae  2017   410382.0\n",
              "5     Missing  2018   421653.0"
            ]
          },
          "execution_count": 172,
          "metadata": {},
          "output_type": "execute_result"
        }
      ],
      "source": [
        "df.fillna(\"Missing\")"
      ]
    },
    {
      "cell_type": "code",
      "execution_count": null,
      "metadata": {
        "id": "ualQGoiRiHFX",
        "outputId": "5bac2c2b-2a07-4629-9f7b-ea29c65369d9"
      },
      "outputs": [
        {
          "name": "stdout",
          "output_type": "stream",
          "text": [
            "{'province': 'Unknown', 'population': 1162889.2}\n"
          ]
        },
        {
          "data": {
            "text/html": [
              "<div>\n",
              "<style scoped>\n",
              "    .dataframe tbody tr th:only-of-type {\n",
              "        vertical-align: middle;\n",
              "    }\n",
              "\n",
              "    .dataframe tbody tr th {\n",
              "        vertical-align: top;\n",
              "    }\n",
              "\n",
              "    .dataframe thead th {\n",
              "        text-align: right;\n",
              "    }\n",
              "</style>\n",
              "<table border=\"1\" class=\"dataframe\">\n",
              "  <thead>\n",
              "    <tr style=\"text-align: right;\">\n",
              "      <th></th>\n",
              "      <th>province</th>\n",
              "      <th>year</th>\n",
              "      <th>population</th>\n",
              "    </tr>\n",
              "  </thead>\n",
              "  <tbody>\n",
              "    <tr>\n",
              "      <th>0</th>\n",
              "      <td>Chiang Mai</td>\n",
              "      <td>2016</td>\n",
              "      <td>1630428.0</td>\n",
              "    </tr>\n",
              "    <tr>\n",
              "      <th>1</th>\n",
              "      <td>Chiang Mai</td>\n",
              "      <td>2017</td>\n",
              "      <td>1664012.0</td>\n",
              "    </tr>\n",
              "    <tr>\n",
              "      <th>2</th>\n",
              "      <td>Chiang Mai</td>\n",
              "      <td>2018</td>\n",
              "      <td>1687971.0</td>\n",
              "    </tr>\n",
              "    <tr>\n",
              "      <th>3</th>\n",
              "      <td>Phrae</td>\n",
              "      <td>2016</td>\n",
              "      <td>1162889.2</td>\n",
              "    </tr>\n",
              "    <tr>\n",
              "      <th>4</th>\n",
              "      <td>Phrae</td>\n",
              "      <td>2017</td>\n",
              "      <td>410382.0</td>\n",
              "    </tr>\n",
              "    <tr>\n",
              "      <th>5</th>\n",
              "      <td>Unknown</td>\n",
              "      <td>2018</td>\n",
              "      <td>421653.0</td>\n",
              "    </tr>\n",
              "  </tbody>\n",
              "</table>\n",
              "</div>"
            ],
            "text/plain": [
              "     province  year  population\n",
              "0  Chiang Mai  2016   1630428.0\n",
              "1  Chiang Mai  2017   1664012.0\n",
              "2  Chiang Mai  2018   1687971.0\n",
              "3       Phrae  2016   1162889.2\n",
              "4       Phrae  2017    410382.0\n",
              "5     Unknown  2018    421653.0"
            ]
          },
          "metadata": {},
          "output_type": "display_data"
        }
      ],
      "source": [
        "mapper = {\"province\": \"Unknown\", \"population\": df[\"population\"].mean()}\n",
        "print(mapper)\n",
        "display(df.fillna(mapper))"
      ]
    },
    {
      "cell_type": "markdown",
      "metadata": {
        "id": "oQr5IoCQiHFY"
      },
      "source": [
        "## Append and Join"
      ]
    },
    {
      "cell_type": "markdown",
      "metadata": {
        "id": "irb7mjhEiHFY"
      },
      "source": [
        "### Append"
      ]
    },
    {
      "cell_type": "code",
      "execution_count": null,
      "metadata": {
        "id": "sp-EuVeMiHFZ",
        "outputId": "806313dd-5a84-438b-9228-ad375c4c4be1"
      },
      "outputs": [
        {
          "data": {
            "text/html": [
              "<div>\n",
              "<style scoped>\n",
              "    .dataframe tbody tr th:only-of-type {\n",
              "        vertical-align: middle;\n",
              "    }\n",
              "\n",
              "    .dataframe tbody tr th {\n",
              "        vertical-align: top;\n",
              "    }\n",
              "\n",
              "    .dataframe thead th {\n",
              "        text-align: right;\n",
              "    }\n",
              "</style>\n",
              "<table border=\"1\" class=\"dataframe\">\n",
              "  <thead>\n",
              "    <tr style=\"text-align: right;\">\n",
              "      <th></th>\n",
              "      <th>province</th>\n",
              "      <th>year</th>\n",
              "      <th>population</th>\n",
              "    </tr>\n",
              "  </thead>\n",
              "  <tbody>\n",
              "    <tr>\n",
              "      <th>0</th>\n",
              "      <td>Chiang Mai</td>\n",
              "      <td>2016</td>\n",
              "      <td>1630428</td>\n",
              "    </tr>\n",
              "    <tr>\n",
              "      <th>1</th>\n",
              "      <td>Chiang Mai</td>\n",
              "      <td>2017</td>\n",
              "      <td>1664012</td>\n",
              "    </tr>\n",
              "    <tr>\n",
              "      <th>2</th>\n",
              "      <td>Chiang Mai</td>\n",
              "      <td>2018</td>\n",
              "      <td>1687971</td>\n",
              "    </tr>\n",
              "  </tbody>\n",
              "</table>\n",
              "</div>"
            ],
            "text/plain": [
              "     province  year  population\n",
              "0  Chiang Mai  2016     1630428\n",
              "1  Chiang Mai  2017     1664012\n",
              "2  Chiang Mai  2018     1687971"
            ]
          },
          "execution_count": 174,
          "metadata": {},
          "output_type": "execute_result"
        }
      ],
      "source": [
        "# Create From a List\n",
        "data = [\n",
        "    [\"Chiang Mai\", 2016, 1630428],\n",
        "    [\"Chiang Mai\", 2017, 1664012],\n",
        "    [\"Chiang Mai\", 2018, 1687971],\n",
        "]\n",
        "df1 = pd.DataFrame(data=data, columns=[\"province\", \"year\", \"population\"])\n",
        "df1"
      ]
    },
    {
      "cell_type": "code",
      "execution_count": null,
      "metadata": {
        "id": "vltUGddxiHFb",
        "outputId": "8aa46733-67fd-45b3-8ade-b6c3a33e9fab"
      },
      "outputs": [
        {
          "data": {
            "text/html": [
              "<div>\n",
              "<style scoped>\n",
              "    .dataframe tbody tr th:only-of-type {\n",
              "        vertical-align: middle;\n",
              "    }\n",
              "\n",
              "    .dataframe tbody tr th {\n",
              "        vertical-align: top;\n",
              "    }\n",
              "\n",
              "    .dataframe thead th {\n",
              "        text-align: right;\n",
              "    }\n",
              "</style>\n",
              "<table border=\"1\" class=\"dataframe\">\n",
              "  <thead>\n",
              "    <tr style=\"text-align: right;\">\n",
              "      <th></th>\n",
              "      <th>province</th>\n",
              "      <th>year</th>\n",
              "      <th>population</th>\n",
              "    </tr>\n",
              "  </thead>\n",
              "  <tbody>\n",
              "    <tr>\n",
              "      <th>0</th>\n",
              "      <td>Phrae</td>\n",
              "      <td>2016</td>\n",
              "      <td>398936</td>\n",
              "    </tr>\n",
              "    <tr>\n",
              "      <th>1</th>\n",
              "      <td>Phrae</td>\n",
              "      <td>2017</td>\n",
              "      <td>410382</td>\n",
              "    </tr>\n",
              "    <tr>\n",
              "      <th>2</th>\n",
              "      <td>Phrae</td>\n",
              "      <td>2018</td>\n",
              "      <td>421653</td>\n",
              "    </tr>\n",
              "  </tbody>\n",
              "</table>\n",
              "</div>"
            ],
            "text/plain": [
              "  province  year  population\n",
              "0    Phrae  2016      398936\n",
              "1    Phrae  2017      410382\n",
              "2    Phrae  2018      421653"
            ]
          },
          "execution_count": 175,
          "metadata": {},
          "output_type": "execute_result"
        }
      ],
      "source": [
        "# Create From a List\n",
        "data = [[\"Phrae\", 2016, 398936], [\"Phrae\", 2017, 410382], [\"Phrae\", 2018, 421653]]\n",
        "df2 = pd.DataFrame(data=data, columns=[\"province\", \"year\", \"population\"])\n",
        "df2"
      ]
    },
    {
      "cell_type": "code",
      "execution_count": null,
      "metadata": {
        "id": "ZFADFs0siHFe",
        "outputId": "045fd920-8b86-4937-861e-4c46f3174d10"
      },
      "outputs": [
        {
          "data": {
            "text/html": [
              "<div>\n",
              "<style scoped>\n",
              "    .dataframe tbody tr th:only-of-type {\n",
              "        vertical-align: middle;\n",
              "    }\n",
              "\n",
              "    .dataframe tbody tr th {\n",
              "        vertical-align: top;\n",
              "    }\n",
              "\n",
              "    .dataframe thead th {\n",
              "        text-align: right;\n",
              "    }\n",
              "</style>\n",
              "<table border=\"1\" class=\"dataframe\">\n",
              "  <thead>\n",
              "    <tr style=\"text-align: right;\">\n",
              "      <th></th>\n",
              "      <th>province</th>\n",
              "      <th>year</th>\n",
              "      <th>population</th>\n",
              "    </tr>\n",
              "  </thead>\n",
              "  <tbody>\n",
              "    <tr>\n",
              "      <th>0</th>\n",
              "      <td>Chiang Mai</td>\n",
              "      <td>2016</td>\n",
              "      <td>1630428</td>\n",
              "    </tr>\n",
              "    <tr>\n",
              "      <th>1</th>\n",
              "      <td>Chiang Mai</td>\n",
              "      <td>2017</td>\n",
              "      <td>1664012</td>\n",
              "    </tr>\n",
              "    <tr>\n",
              "      <th>2</th>\n",
              "      <td>Chiang Mai</td>\n",
              "      <td>2018</td>\n",
              "      <td>1687971</td>\n",
              "    </tr>\n",
              "    <tr>\n",
              "      <th>0</th>\n",
              "      <td>Phrae</td>\n",
              "      <td>2016</td>\n",
              "      <td>398936</td>\n",
              "    </tr>\n",
              "    <tr>\n",
              "      <th>1</th>\n",
              "      <td>Phrae</td>\n",
              "      <td>2017</td>\n",
              "      <td>410382</td>\n",
              "    </tr>\n",
              "    <tr>\n",
              "      <th>2</th>\n",
              "      <td>Phrae</td>\n",
              "      <td>2018</td>\n",
              "      <td>421653</td>\n",
              "    </tr>\n",
              "  </tbody>\n",
              "</table>\n",
              "</div>"
            ],
            "text/plain": [
              "     province  year  population\n",
              "0  Chiang Mai  2016     1630428\n",
              "1  Chiang Mai  2017     1664012\n",
              "2  Chiang Mai  2018     1687971\n",
              "0       Phrae  2016      398936\n",
              "1       Phrae  2017      410382\n",
              "2       Phrae  2018      421653"
            ]
          },
          "execution_count": 176,
          "metadata": {},
          "output_type": "execute_result"
        }
      ],
      "source": [
        "df = pd.concat([df1, df2])\n",
        "df"
      ]
    },
    {
      "cell_type": "code",
      "execution_count": null,
      "metadata": {
        "id": "n8bekMPEiHFf",
        "outputId": "a41b1bff-7ca2-46bd-f905-fcabe42a815e"
      },
      "outputs": [
        {
          "data": {
            "text/html": [
              "<div>\n",
              "<style scoped>\n",
              "    .dataframe tbody tr th:only-of-type {\n",
              "        vertical-align: middle;\n",
              "    }\n",
              "\n",
              "    .dataframe tbody tr th {\n",
              "        vertical-align: top;\n",
              "    }\n",
              "\n",
              "    .dataframe thead th {\n",
              "        text-align: right;\n",
              "    }\n",
              "</style>\n",
              "<table border=\"1\" class=\"dataframe\">\n",
              "  <thead>\n",
              "    <tr style=\"text-align: right;\">\n",
              "      <th></th>\n",
              "      <th>province</th>\n",
              "      <th>year</th>\n",
              "      <th>population</th>\n",
              "      <th>province</th>\n",
              "      <th>year</th>\n",
              "      <th>population</th>\n",
              "    </tr>\n",
              "  </thead>\n",
              "  <tbody>\n",
              "    <tr>\n",
              "      <th>0</th>\n",
              "      <td>Chiang Mai</td>\n",
              "      <td>2016</td>\n",
              "      <td>1630428</td>\n",
              "      <td>Phrae</td>\n",
              "      <td>2016</td>\n",
              "      <td>398936</td>\n",
              "    </tr>\n",
              "    <tr>\n",
              "      <th>1</th>\n",
              "      <td>Chiang Mai</td>\n",
              "      <td>2017</td>\n",
              "      <td>1664012</td>\n",
              "      <td>Phrae</td>\n",
              "      <td>2017</td>\n",
              "      <td>410382</td>\n",
              "    </tr>\n",
              "    <tr>\n",
              "      <th>2</th>\n",
              "      <td>Chiang Mai</td>\n",
              "      <td>2018</td>\n",
              "      <td>1687971</td>\n",
              "      <td>Phrae</td>\n",
              "      <td>2018</td>\n",
              "      <td>421653</td>\n",
              "    </tr>\n",
              "  </tbody>\n",
              "</table>\n",
              "</div>"
            ],
            "text/plain": [
              "     province  year  population province  year  population\n",
              "0  Chiang Mai  2016     1630428    Phrae  2016      398936\n",
              "1  Chiang Mai  2017     1664012    Phrae  2017      410382\n",
              "2  Chiang Mai  2018     1687971    Phrae  2018      421653"
            ]
          },
          "execution_count": 177,
          "metadata": {},
          "output_type": "execute_result"
        }
      ],
      "source": [
        "df2 = pd.concat([df1, df2], axis=1)\n",
        "df2"
      ]
    },
    {
      "cell_type": "markdown",
      "metadata": {
        "id": "qxdP858DiHFh"
      },
      "source": [
        "### Join"
      ]
    },
    {
      "cell_type": "code",
      "execution_count": null,
      "metadata": {
        "id": "ezoEs7UliHFh",
        "outputId": "3caf19a2-4f07-423d-a6f3-b117eb7d1d05"
      },
      "outputs": [
        {
          "data": {
            "text/html": [
              "<div>\n",
              "<style scoped>\n",
              "    .dataframe tbody tr th:only-of-type {\n",
              "        vertical-align: middle;\n",
              "    }\n",
              "\n",
              "    .dataframe tbody tr th {\n",
              "        vertical-align: top;\n",
              "    }\n",
              "\n",
              "    .dataframe thead th {\n",
              "        text-align: right;\n",
              "    }\n",
              "</style>\n",
              "<table border=\"1\" class=\"dataframe\">\n",
              "  <thead>\n",
              "    <tr style=\"text-align: right;\">\n",
              "      <th></th>\n",
              "      <th>province</th>\n",
              "      <th>year</th>\n",
              "      <th>population</th>\n",
              "    </tr>\n",
              "  </thead>\n",
              "  <tbody>\n",
              "    <tr>\n",
              "      <th>0</th>\n",
              "      <td>Chiang Mai</td>\n",
              "      <td>2016</td>\n",
              "      <td>1630428</td>\n",
              "    </tr>\n",
              "    <tr>\n",
              "      <th>1</th>\n",
              "      <td>Chiang Mai</td>\n",
              "      <td>2017</td>\n",
              "      <td>1664012</td>\n",
              "    </tr>\n",
              "    <tr>\n",
              "      <th>2</th>\n",
              "      <td>Chiang Mai</td>\n",
              "      <td>2018</td>\n",
              "      <td>1687971</td>\n",
              "    </tr>\n",
              "    <tr>\n",
              "      <th>0</th>\n",
              "      <td>Phrae</td>\n",
              "      <td>2016</td>\n",
              "      <td>398936</td>\n",
              "    </tr>\n",
              "    <tr>\n",
              "      <th>1</th>\n",
              "      <td>Phrae</td>\n",
              "      <td>2017</td>\n",
              "      <td>410382</td>\n",
              "    </tr>\n",
              "    <tr>\n",
              "      <th>2</th>\n",
              "      <td>Phrae</td>\n",
              "      <td>2018</td>\n",
              "      <td>421653</td>\n",
              "    </tr>\n",
              "  </tbody>\n",
              "</table>\n",
              "</div>"
            ],
            "text/plain": [
              "     province  year  population\n",
              "0  Chiang Mai  2016     1630428\n",
              "1  Chiang Mai  2017     1664012\n",
              "2  Chiang Mai  2018     1687971\n",
              "0       Phrae  2016      398936\n",
              "1       Phrae  2017      410382\n",
              "2       Phrae  2018      421653"
            ]
          },
          "execution_count": 178,
          "metadata": {},
          "output_type": "execute_result"
        }
      ],
      "source": [
        "df"
      ]
    },
    {
      "cell_type": "code",
      "execution_count": null,
      "metadata": {
        "id": "_xDt2PL3iHFi",
        "outputId": "4e0f408b-14a9-4812-d642-7ad9739d55ed"
      },
      "outputs": [
        {
          "data": {
            "text/html": [
              "<div>\n",
              "<style scoped>\n",
              "    .dataframe tbody tr th:only-of-type {\n",
              "        vertical-align: middle;\n",
              "    }\n",
              "\n",
              "    .dataframe tbody tr th {\n",
              "        vertical-align: top;\n",
              "    }\n",
              "\n",
              "    .dataframe thead th {\n",
              "        text-align: right;\n",
              "    }\n",
              "</style>\n",
              "<table border=\"1\" class=\"dataframe\">\n",
              "  <thead>\n",
              "    <tr style=\"text-align: right;\">\n",
              "      <th></th>\n",
              "      <th>province</th>\n",
              "      <th>avg_pop</th>\n",
              "    </tr>\n",
              "  </thead>\n",
              "  <tbody>\n",
              "    <tr>\n",
              "      <th>0</th>\n",
              "      <td>Chiang Mai</td>\n",
              "      <td>1.660804e+06</td>\n",
              "    </tr>\n",
              "    <tr>\n",
              "      <th>1</th>\n",
              "      <td>Phrae</td>\n",
              "      <td>4.103237e+05</td>\n",
              "    </tr>\n",
              "  </tbody>\n",
              "</table>\n",
              "</div>"
            ],
            "text/plain": [
              "     province       avg_pop\n",
              "0  Chiang Mai  1.660804e+06\n",
              "1       Phrae  4.103237e+05"
            ]
          },
          "execution_count": 179,
          "metadata": {},
          "output_type": "execute_result"
        }
      ],
      "source": [
        "avg_df = df.groupby(\"province\")[\"population\"].mean().reset_index(name=\"avg_pop\")\n",
        "avg_df"
      ]
    },
    {
      "cell_type": "code",
      "execution_count": null,
      "metadata": {
        "id": "Dd_b2p9HiHFk",
        "outputId": "4b3a8b5e-cd25-4022-9a81-ebc4ae5b819c"
      },
      "outputs": [
        {
          "data": {
            "text/plain": [
              "province      object\n",
              "year           int64\n",
              "population     int64\n",
              "dtype: object"
            ]
          },
          "execution_count": 180,
          "metadata": {},
          "output_type": "execute_result"
        }
      ],
      "source": [
        "df.dtypes"
      ]
    },
    {
      "cell_type": "code",
      "execution_count": null,
      "metadata": {
        "id": "OC9B6YgPiHFl",
        "outputId": "1a53a2e1-af9f-4c9f-85e1-7d1763f192dd"
      },
      "outputs": [
        {
          "data": {
            "text/plain": [
              "province     object\n",
              "avg_pop     float64\n",
              "dtype: object"
            ]
          },
          "execution_count": 181,
          "metadata": {},
          "output_type": "execute_result"
        }
      ],
      "source": [
        "avg_df.dtypes"
      ]
    },
    {
      "cell_type": "code",
      "execution_count": null,
      "metadata": {
        "id": "1Yp_npbciHFp",
        "outputId": "aece310f-2754-4e50-992c-7efee4de173f",
        "scrolled": true
      },
      "outputs": [
        {
          "data": {
            "text/html": [
              "<div>\n",
              "<style scoped>\n",
              "    .dataframe tbody tr th:only-of-type {\n",
              "        vertical-align: middle;\n",
              "    }\n",
              "\n",
              "    .dataframe tbody tr th {\n",
              "        vertical-align: top;\n",
              "    }\n",
              "\n",
              "    .dataframe thead th {\n",
              "        text-align: right;\n",
              "    }\n",
              "</style>\n",
              "<table border=\"1\" class=\"dataframe\">\n",
              "  <thead>\n",
              "    <tr style=\"text-align: right;\">\n",
              "      <th></th>\n",
              "      <th>province</th>\n",
              "      <th>year</th>\n",
              "      <th>population</th>\n",
              "      <th>avg_pop</th>\n",
              "    </tr>\n",
              "  </thead>\n",
              "  <tbody>\n",
              "    <tr>\n",
              "      <th>0</th>\n",
              "      <td>Chiang Mai</td>\n",
              "      <td>2016</td>\n",
              "      <td>1630428</td>\n",
              "      <td>1.660804e+06</td>\n",
              "    </tr>\n",
              "    <tr>\n",
              "      <th>1</th>\n",
              "      <td>Chiang Mai</td>\n",
              "      <td>2017</td>\n",
              "      <td>1664012</td>\n",
              "      <td>1.660804e+06</td>\n",
              "    </tr>\n",
              "    <tr>\n",
              "      <th>2</th>\n",
              "      <td>Chiang Mai</td>\n",
              "      <td>2018</td>\n",
              "      <td>1687971</td>\n",
              "      <td>1.660804e+06</td>\n",
              "    </tr>\n",
              "    <tr>\n",
              "      <th>3</th>\n",
              "      <td>Phrae</td>\n",
              "      <td>2016</td>\n",
              "      <td>398936</td>\n",
              "      <td>4.103237e+05</td>\n",
              "    </tr>\n",
              "    <tr>\n",
              "      <th>4</th>\n",
              "      <td>Phrae</td>\n",
              "      <td>2017</td>\n",
              "      <td>410382</td>\n",
              "      <td>4.103237e+05</td>\n",
              "    </tr>\n",
              "    <tr>\n",
              "      <th>5</th>\n",
              "      <td>Phrae</td>\n",
              "      <td>2018</td>\n",
              "      <td>421653</td>\n",
              "      <td>4.103237e+05</td>\n",
              "    </tr>\n",
              "  </tbody>\n",
              "</table>\n",
              "</div>"
            ],
            "text/plain": [
              "     province  year  population       avg_pop\n",
              "0  Chiang Mai  2016     1630428  1.660804e+06\n",
              "1  Chiang Mai  2017     1664012  1.660804e+06\n",
              "2  Chiang Mai  2018     1687971  1.660804e+06\n",
              "3       Phrae  2016      398936  4.103237e+05\n",
              "4       Phrae  2017      410382  4.103237e+05\n",
              "5       Phrae  2018      421653  4.103237e+05"
            ]
          },
          "execution_count": 182,
          "metadata": {},
          "output_type": "execute_result"
        }
      ],
      "source": [
        "df.merge(avg_df, on=\"province\", how=\"inner\")"
      ]
    },
    {
      "cell_type": "markdown",
      "metadata": {
        "id": "Cqfv_mFviHFs"
      },
      "source": [
        "## SQL"
      ]
    },
    {
      "cell_type": "code",
      "execution_count": 47,
      "metadata": {
        "id": "bo_dSLraiHFs",
        "outputId": "38f68be2-628a-4bf7-ae1a-7873e76ae7ec"
      },
      "outputs": [
        {
          "name": "stdout",
          "output_type": "stream",
          "text": [
            "Requirement already satisfied: pandasql in /Library/Frameworks/Python.framework/Versions/3.10/lib/python3.10/site-packages (0.7.3)\n",
            "Requirement already satisfied: numpy in /Library/Frameworks/Python.framework/Versions/3.10/lib/python3.10/site-packages (from pandasql) (1.26.4)\n",
            "Requirement already satisfied: pandas in /Library/Frameworks/Python.framework/Versions/3.10/lib/python3.10/site-packages (from pandasql) (2.2.3)\n",
            "Requirement already satisfied: sqlalchemy in /Library/Frameworks/Python.framework/Versions/3.10/lib/python3.10/site-packages (from pandasql) (2.0.37)\n",
            "Requirement already satisfied: python-dateutil>=2.8.2 in /Library/Frameworks/Python.framework/Versions/3.10/lib/python3.10/site-packages (from pandas->pandasql) (2.9.0.post0)\n",
            "Requirement already satisfied: pytz>=2020.1 in /Library/Frameworks/Python.framework/Versions/3.10/lib/python3.10/site-packages (from pandas->pandasql) (2024.2)\n",
            "Requirement already satisfied: tzdata>=2022.7 in /Library/Frameworks/Python.framework/Versions/3.10/lib/python3.10/site-packages (from pandas->pandasql) (2024.2)\n",
            "Requirement already satisfied: typing-extensions>=4.6.0 in /Library/Frameworks/Python.framework/Versions/3.10/lib/python3.10/site-packages (from sqlalchemy->pandasql) (4.12.2)\n",
            "Requirement already satisfied: six>=1.5 in /Library/Frameworks/Python.framework/Versions/3.10/lib/python3.10/site-packages (from python-dateutil>=2.8.2->pandas->pandasql) (1.16.0)\n",
            "Note: you may need to restart the kernel to use updated packages.\n"
          ]
        }
      ],
      "source": [
        "%pip install pandasql"
      ]
    },
    {
      "cell_type": "code",
      "execution_count": 48,
      "metadata": {
        "id": "dcJuR9ixiHFx"
      },
      "outputs": [],
      "source": [
        "import pandasql"
      ]
    },
    {
      "cell_type": "code",
      "execution_count": null,
      "metadata": {
        "id": "OoDSKiKuiHF1",
        "outputId": "09ebe458-9c5c-4bf6-a427-e63672c23400"
      },
      "outputs": [
        {
          "data": {
            "text/html": [
              "<div>\n",
              "<style scoped>\n",
              "    .dataframe tbody tr th:only-of-type {\n",
              "        vertical-align: middle;\n",
              "    }\n",
              "\n",
              "    .dataframe tbody tr th {\n",
              "        vertical-align: top;\n",
              "    }\n",
              "\n",
              "    .dataframe thead th {\n",
              "        text-align: right;\n",
              "    }\n",
              "</style>\n",
              "<table border=\"1\" class=\"dataframe\">\n",
              "  <thead>\n",
              "    <tr style=\"text-align: right;\">\n",
              "      <th></th>\n",
              "      <th>province</th>\n",
              "      <th>year</th>\n",
              "      <th>population</th>\n",
              "    </tr>\n",
              "  </thead>\n",
              "  <tbody>\n",
              "    <tr>\n",
              "      <th>0</th>\n",
              "      <td>Chiang Mai</td>\n",
              "      <td>2016</td>\n",
              "      <td>1630428</td>\n",
              "    </tr>\n",
              "    <tr>\n",
              "      <th>1</th>\n",
              "      <td>Chiang Mai</td>\n",
              "      <td>2017</td>\n",
              "      <td>1664012</td>\n",
              "    </tr>\n",
              "    <tr>\n",
              "      <th>2</th>\n",
              "      <td>Chiang Mai</td>\n",
              "      <td>2018</td>\n",
              "      <td>1687971</td>\n",
              "    </tr>\n",
              "    <tr>\n",
              "      <th>3</th>\n",
              "      <td>Phrae</td>\n",
              "      <td>2016</td>\n",
              "      <td>398936</td>\n",
              "    </tr>\n",
              "    <tr>\n",
              "      <th>4</th>\n",
              "      <td>Phrae</td>\n",
              "      <td>2017</td>\n",
              "      <td>410382</td>\n",
              "    </tr>\n",
              "    <tr>\n",
              "      <th>5</th>\n",
              "      <td>Phrae</td>\n",
              "      <td>2018</td>\n",
              "      <td>421653</td>\n",
              "    </tr>\n",
              "  </tbody>\n",
              "</table>\n",
              "</div>"
            ],
            "text/plain": [
              "     province  year  population\n",
              "0  Chiang Mai  2016     1630428\n",
              "1  Chiang Mai  2017     1664012\n",
              "2  Chiang Mai  2018     1687971\n",
              "3       Phrae  2016      398936\n",
              "4       Phrae  2017      410382\n",
              "5       Phrae  2018      421653"
            ]
          },
          "execution_count": 185,
          "metadata": {},
          "output_type": "execute_result"
        }
      ],
      "source": [
        "sql_df = pandasql.sqldf(\"SELECT * FROM df;\")\n",
        "sql_df"
      ]
    },
    {
      "cell_type": "code",
      "execution_count": null,
      "metadata": {
        "id": "3vrg_IZOiHF2",
        "outputId": "c1082e51-6753-4c88-e853-5cb34399f5cb"
      },
      "outputs": [
        {
          "data": {
            "text/html": [
              "<div>\n",
              "<style scoped>\n",
              "    .dataframe tbody tr th:only-of-type {\n",
              "        vertical-align: middle;\n",
              "    }\n",
              "\n",
              "    .dataframe tbody tr th {\n",
              "        vertical-align: top;\n",
              "    }\n",
              "\n",
              "    .dataframe thead th {\n",
              "        text-align: right;\n",
              "    }\n",
              "</style>\n",
              "<table border=\"1\" class=\"dataframe\">\n",
              "  <thead>\n",
              "    <tr style=\"text-align: right;\">\n",
              "      <th></th>\n",
              "      <th>province</th>\n",
              "      <th>avg(population)</th>\n",
              "    </tr>\n",
              "  </thead>\n",
              "  <tbody>\n",
              "    <tr>\n",
              "      <th>0</th>\n",
              "      <td>Chiang Mai</td>\n",
              "      <td>1.660804e+06</td>\n",
              "    </tr>\n",
              "    <tr>\n",
              "      <th>1</th>\n",
              "      <td>Phrae</td>\n",
              "      <td>4.103237e+05</td>\n",
              "    </tr>\n",
              "  </tbody>\n",
              "</table>\n",
              "</div>"
            ],
            "text/plain": [
              "     province  avg(population)\n",
              "0  Chiang Mai     1.660804e+06\n",
              "1       Phrae     4.103237e+05"
            ]
          },
          "execution_count": 186,
          "metadata": {},
          "output_type": "execute_result"
        }
      ],
      "source": [
        "sql_df = pandasql.sqldf(\"select province, avg(population) from df group by province;\")\n",
        "sql_df"
      ]
    }
  ],
  "metadata": {
    "colab": {
      "name": "Pandas.ipynb",
      "provenance": [],
      "toc_visible": true
    },
    "kernelspec": {
      "display_name": "Python 3",
      "language": "python",
      "name": "python3"
    },
    "language_info": {
      "codemirror_mode": {
        "name": "ipython",
        "version": 3
      },
      "file_extension": ".py",
      "mimetype": "text/x-python",
      "name": "python",
      "nbconvert_exporter": "python",
      "pygments_lexer": "ipython3",
      "version": "3.10.5"
    },
    "toc": {
      "base_numbering": 1,
      "nav_menu": {},
      "number_sections": true,
      "sideBar": true,
      "skip_h1_title": false,
      "title_cell": "Table of Contents",
      "title_sidebar": "Contents",
      "toc_cell": false,
      "toc_position": {
        "height": "calc(100% - 180px)",
        "left": "10px",
        "top": "150px",
        "width": "498.594px"
      },
      "toc_section_display": true,
      "toc_window_display": true
    },
    "varInspector": {
      "cols": {
        "lenName": 16,
        "lenType": 16,
        "lenVar": 40
      },
      "kernels_config": {
        "python": {
          "delete_cmd_postfix": "",
          "delete_cmd_prefix": "del ",
          "library": "var_list.py",
          "varRefreshCmd": "print(var_dic_list())"
        },
        "r": {
          "delete_cmd_postfix": ") ",
          "delete_cmd_prefix": "rm(",
          "library": "var_list.r",
          "varRefreshCmd": "cat(var_dic_list()) "
        }
      },
      "types_to_exclude": [
        "module",
        "function",
        "builtin_function_or_method",
        "instance",
        "_Feature"
      ],
      "window_display": false
    }
  },
  "nbformat": 4,
  "nbformat_minor": 0
}
